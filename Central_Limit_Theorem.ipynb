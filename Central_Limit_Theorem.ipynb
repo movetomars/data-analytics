{
 "cells": [
  {
   "cell_type": "markdown",
   "metadata": {
    "id": "4KrOYH3v-eOk",
    "colab_type": "text"
   },
   "source": [
    "# Assignment 6"
   ]
  },
  {
   "cell_type": "code",
   "execution_count": 51,
   "metadata": {
    "id": "zM-t4NdJ-3Tb",
    "colab_type": "code",
    "colab": {
     "base_uri": "https://localhost:8080/",
     "height": 34.0
    },
    "outputId": "917610f6-dcb3-40f7-94b0-921083e0f013"
   },
   "outputs": [
    {
     "name": "stdout",
     "output_type": "stream",
     "text": [
      "Drive already mounted at /content/drive; to attempt to forcibly remount, call drive.mount(\"/content/drive\", force_remount=True).\n"
     ]
    }
   ],
   "source": [
    "# from google.colab import drive\n",
    "# drive.mount('/content/drive')"
   ]
  },
  {
   "cell_type": "code",
   "execution_count": 0,
   "metadata": {
    "id": "BE2e5bL8-Zsu",
    "colab_type": "code",
    "colab": {}
   },
   "outputs": [],
   "source": [
    "import numpy as np\n",
    "from datascience import *\n",
    "\n",
    "import matplotlib\n",
    "%matplotlib inline\n",
    "import matplotlib.pyplot as plt\n",
    "plt.style.use('fivethirtyeight')\n",
    "import warnings\n",
    "warnings.simplefilter('ignore', FutureWarning)\n",
    "\n",
    "#path = 'drive/My Drive/Linguistics MS/INFO 5502/'\n",
    "\n"
   ]
  },
  {
   "cell_type": "markdown",
   "metadata": {
    "id": "r5smX98QAFjF",
    "colab_type": "text"
   },
   "source": [
    "\n",
    "# 1. The Bootstrap and The Normal Curve\n",
    "\n",
    "\n",
    "---\n",
    "\n",
    "\n",
    "In this exercise, we will explore a dataset that includes the safety inspection scores for restaurants in the city of Austin, Texas. We will be interested in determining the average restaurant score for the city from a random sample of the scores; the average restaurant score is out of 100. We'll compare two methods for computing a confidence interval for that quantity: the bootstrap resampling method, and an approximation based on the Central Limit Theorem."
   ]
  },
  {
   "cell_type": "code",
   "execution_count": 53,
   "metadata": {
    "id": "_gPn4Nn8AQX8",
    "colab_type": "code",
    "colab": {
     "base_uri": "https://localhost:8080/",
     "height": 372.0
    },
    "outputId": "e48af77d-40f7-483a-ac80-40a028a14051"
   },
   "outputs": [
    {
     "data": {
      "text/html": [
       "<table border=\"1\" class=\"dataframe\">\n",
       "    <thead>\n",
       "        <tr>\n",
       "            <th>Restaurant Name</th> <th>Zip Code</th> <th>Inspection Date</th> <th>Score</th> <th>Address</th>\n",
       "        </tr>\n",
       "    </thead>\n",
       "    <tbody>\n",
       "        <tr>\n",
       "            <td>6M Grocery     </td> <td>78652   </td> <td>01/17/2014     </td> <td>90   </td> <td>805 W FM 1626 RD\n",
       "AUSTIN, TX 78652\n",
       "     </td>\n",
       "        </tr>\n",
       "        <tr>\n",
       "            <td>6M Grocery     </td> <td>78652   </td> <td>04/27/2015     </td> <td>93   </td> <td>805 W FM 1626 RD\n",
       "AUSTIN, TX 78652\n",
       "     </td>\n",
       "        </tr>\n",
       "        <tr>\n",
       "            <td>6M Grocery     </td> <td>78652   </td> <td>05/02/2016     </td> <td>88   </td> <td>805 W FM 1626 RD\n",
       "AUSTIN, TX 78652\n",
       "     </td>\n",
       "        </tr>\n",
       "        <tr>\n",
       "            <td>6M Grocery     </td> <td>78652   </td> <td>07/25/2014     </td> <td>100  </td> <td>805 W FM 1626 RD\n",
       "AUSTIN, TX 78652\n",
       "     </td>\n",
       "        </tr>\n",
       "        <tr>\n",
       "            <td>6M Grocery     </td> <td>78652   </td> <td>10/21/2015     </td> <td>87   </td> <td>805 W FM 1626 RD\n",
       "AUSTIN, TX 78652\n",
       "     </td>\n",
       "        </tr>\n",
       "        <tr>\n",
       "            <td>6M Grocery     </td> <td>78652   </td> <td>12/15/2014     </td> <td>93   </td> <td>805 W FM 1626 RD\n",
       "AUSTIN, TX 78652\n",
       "     </td>\n",
       "        </tr>\n",
       "        <tr>\n",
       "            <td>7 Eleven #36575</td> <td>78660   </td> <td>01/25/2016     </td> <td>92   </td> <td>15829 N IH 35 SVRD NB\n",
       "AUSTIN, TX 78660\n",
       "</td>\n",
       "        </tr>\n",
       "        <tr>\n",
       "            <td>7 Eleven #36575</td> <td>78660   </td> <td>03/05/2015     </td> <td>86   </td> <td>15829 N IH 35 SVRD NB\n",
       "AUSTIN, TX 78660\n",
       "</td>\n",
       "        </tr>\n",
       "        <tr>\n",
       "            <td>7 Eleven #36575</td> <td>78660   </td> <td>03/14/2014     </td> <td>93   </td> <td>15829 N IH 35 SVRD NB\n",
       "AUSTIN, TX 78660\n",
       "</td>\n",
       "        </tr>\n",
       "        <tr>\n",
       "            <td>7 Eleven #36575</td> <td>78660   </td> <td>07/27/2015     </td> <td>97   </td> <td>15829 N IH 35 SVRD NB\n",
       "AUSTIN, TX 78660\n",
       "</td>\n",
       "        </tr>\n",
       "    </tbody>\n",
       "</table>\n",
       "<p>... (24357 rows omitted)</p>"
      ],
      "text/plain": [
       "Restaurant Name | Zip Code | Inspection Date | Score | Address\n",
       "6M Grocery      | 78652    | 01/17/2014      | 90    | 805 W FM 1626 RD\n",
       "AUSTIN, TX 78652\n",
       "6M Grocery      | 78652    | 04/27/2015      | 93    | 805 W FM 1626 RD\n",
       "AUSTIN, TX 78652\n",
       "6M Grocery      | 78652    | 05/02/2016      | 88    | 805 W FM 1626 RD\n",
       "AUSTIN, TX 78652\n",
       "6M Grocery      | 78652    | 07/25/2014      | 100   | 805 W FM 1626 RD\n",
       "AUSTIN, TX 78652\n",
       "6M Grocery      | 78652    | 10/21/2015      | 87    | 805 W FM 1626 RD\n",
       "AUSTIN, TX 78652\n",
       "6M Grocery      | 78652    | 12/15/2014      | 93    | 805 W FM 1626 RD\n",
       "AUSTIN, TX 78652\n",
       "7 Eleven #36575 | 78660    | 01/25/2016      | 92    | 15829 N IH 35 SVRD NB\n",
       "AUSTIN, TX 78660\n",
       "7 Eleven #36575 | 78660    | 03/05/2015      | 86    | 15829 N IH 35 SVRD NB\n",
       "AUSTIN, TX 78660\n",
       "7 Eleven #36575 | 78660    | 03/14/2014      | 93    | 15829 N IH 35 SVRD NB\n",
       "AUSTIN, TX 78660\n",
       "7 Eleven #36575 | 78660    | 07/27/2015      | 97    | 15829 N IH 35 SVRD NB\n",
       "AUSTIN, TX 78660\n",
       "... (24357 rows omitted)"
      ]
     },
     "execution_count": 53,
     "metadata": {
      "tags": []
     },
     "output_type": "execute_result"
    }
   ],
   "source": [
    "# Just run this cell.\n",
    "\n",
    "pop_restaurants = Table.read_table('restaurant_inspection_scores.csv').drop('Facility ID','Process Description')\n",
    "pop_restaurants"
   ]
  },
  {
   "cell_type": "markdown",
   "metadata": {
    "id": "U-7TedcVBwbc",
    "colab_type": "text"
   },
   "source": [
    "\n",
    "Run the cell below to plot a histogram of the scores from pop_restaurants."
   ]
  },
  {
   "cell_type": "code",
   "execution_count": 54,
   "metadata": {
    "id": "jAwUlb_pBxpC",
    "colab_type": "code",
    "colab": {
     "base_uri": "https://localhost:8080/",
     "height": 301.0
    },
    "outputId": "2f26cec5-828f-4682-f71f-b94dabf2e8dc"
   },
   "outputs": [
    {
     "data": {
      "image/png": "[encoded data removed]",
      "text/plain": [
       "<Figure size 432x288 with 1 Axes>"
      ]
     },
     "metadata": {
      "tags": []
     },
     "output_type": "display_data"
    }
   ],
   "source": [
    "pop_restaurants.hist('Score')"
   ]
  },
  {
   "cell_type": "markdown",
   "metadata": {
    "id": "0rw6DsDEB3gd",
    "colab_type": "text"
   },
   "source": [
    "This is the population mean:"
   ]
  },
  {
   "cell_type": "code",
   "execution_count": 55,
   "metadata": {
    "id": "-xxmPyFoB56A",
    "colab_type": "code",
    "colab": {
     "base_uri": "https://localhost:8080/",
     "height": 34.0
    },
    "outputId": "cea21ce1-d53f-492f-c97b-b13ee364816d"
   },
   "outputs": [
    {
     "data": {
      "text/plain": [
       "91.40706693478886"
      ]
     },
     "execution_count": 55,
     "metadata": {
      "tags": []
     },
     "output_type": "execute_result"
    }
   ],
   "source": [
    "pop_mean = np.mean(pop_restaurants.column('Score'))\n",
    "pop_mean"
   ]
  },
  {
   "cell_type": "markdown",
   "metadata": {
    "id": "PBi1JyMxB9Ys",
    "colab_type": "text"
   },
   "source": [
    "Often it is impossible to find complete datasets like this. Imagine we instead had access only to a random sample of 100 restaurant inspections, called restaurant_sample. That table is created below. We are interested in using this sample to estimate the population mean."
   ]
  },
  {
   "cell_type": "code",
   "execution_count": 56,
   "metadata": {
    "id": "5hdkkZwfCD7z",
    "colab_type": "code",
    "colab": {
     "base_uri": "https://localhost:8080/",
     "height": 372.0
    },
    "outputId": "95e5b9ab-9e88-4ab4-b3a5-5a866a541921"
   },
   "outputs": [
    {
     "data": {
      "text/html": [
       "<table border=\"1\" class=\"dataframe\">\n",
       "    <thead>\n",
       "        <tr>\n",
       "            <th>Restaurant Name</th> <th>Zip Code</th> <th>Inspection Date</th> <th>Score</th> <th>Address</th>\n",
       "        </tr>\n",
       "    </thead>\n",
       "    <tbody>\n",
       "        <tr>\n",
       "            <td>Cindy's Gone Hog Wild         </td> <td>78612   </td> <td>09/22/2014     </td> <td>81   </td> <td>5496 E SH 71 EB\n",
       "AUSTIN, TX 78612\n",
       "(30.178602, -97.533716)    </td>\n",
       "        </tr>\n",
       "        <tr>\n",
       "            <td>Hecho En Mexico               </td> <td>78749   </td> <td>08/03/2016     </td> <td>74   </td> <td>6001 W WILLIAM CANNON DR Bunit 301\n",
       "AUSTIN, TX 78749\n",
       "(30. ...</td>\n",
       "        </tr>\n",
       "        <tr>\n",
       "            <td>Cherry Creek Catfish Company  </td> <td>78745   </td> <td>07/19/2016     </td> <td>86   </td> <td>5700 MANCHACA RD Unit 200\n",
       "AUSTIN, TX 78745\n",
       "(30.214318, - ...</td>\n",
       "        </tr>\n",
       "        <tr>\n",
       "            <td>Taco Cabana #293              </td> <td>78726   </td> <td>08/13/2014     </td> <td>97   </td> <td>7409 N FM 620 RD Bldg 3\n",
       "AUSTIN, TX 78726\n",
       "(30.407229, -97 ...</td>\n",
       "        </tr>\n",
       "        <tr>\n",
       "            <td>El Michoacano Mexican Rest.   </td> <td>78617   </td> <td>06/16/2016     </td> <td>78   </td> <td>2701 E SH 71 WB\n",
       "AUSTIN, TX 78617\n",
       "(30.211194, -97.654931)    </td>\n",
       "        </tr>\n",
       "        <tr>\n",
       "            <td>Boone Elementary              </td> <td>78749   </td> <td>01/23/2015     </td> <td>93   </td> <td>8101 CROFTWOOD DR\n",
       "AUSTIN, TX 78749\n",
       "(30.204034, -97.840871)  </td>\n",
       "        </tr>\n",
       "        <tr>\n",
       "            <td>LW - Circle K Store #2704681  </td> <td>78734   </td> <td>06/27/2014     </td> <td>88   </td> <td>1405 S FM 620 RD\n",
       "LAKEWAY, TX 78734\n",
       "(30.34937, -97.963575)   </td>\n",
       "        </tr>\n",
       "        <tr>\n",
       "            <td>Cafe Malta                    </td> <td>78745   </td> <td>04/20/2015     </td> <td>84   </td> <td>3421 W WILLIAM CANNON DR Unit 127\n",
       "AUSTIN, TX 78745\n",
       "(30.2 ...</td>\n",
       "        </tr>\n",
       "        <tr>\n",
       "            <td>Shangri-La                    </td> <td>78702   </td> <td>03/29/2016     </td> <td>96   </td> <td>1016 E 6TH ST\n",
       "AUSTIN, TX 78702\n",
       "(30.264806, -97.731651)      </td>\n",
       "        </tr>\n",
       "        <tr>\n",
       "            <td>Schlotzsky's Deli             </td> <td>78745   </td> <td>06/30/2014     </td> <td>86   </td> <td>111 W WILLIAM CANNON DR\n",
       "AUSTIN, TX 78745\n",
       "(30.193122, -97 ...</td>\n",
       "        </tr>\n",
       "    </tbody>\n",
       "</table>\n",
       "<p>... (90 rows omitted)</p>"
      ],
      "text/plain": [
       "Restaurant Name                | Zip Code | Inspection Date | Score | Address\n",
       "Cindy's Gone Hog Wild          | 78612    | 09/22/2014      | 81    | 5496 E SH 71 EB\n",
       "AUSTIN, TX 78612\n",
       "(30.178602, -97.533716)\n",
       "Hecho En Mexico                | 78749    | 08/03/2016      | 74    | 6001 W WILLIAM CANNON DR Bunit 301\n",
       "AUSTIN, TX 78749\n",
       "(30. ...\n",
       "Cherry Creek Catfish Company   | 78745    | 07/19/2016      | 86    | 5700 MANCHACA RD Unit 200\n",
       "AUSTIN, TX 78745\n",
       "(30.214318, - ...\n",
       "Taco Cabana #293               | 78726    | 08/13/2014      | 97    | 7409 N FM 620 RD Bldg 3\n",
       "AUSTIN, TX 78726\n",
       "(30.407229, -97 ...\n",
       "El Michoacano Mexican Rest.    | 78617    | 06/16/2016      | 78    | 2701 E SH 71 WB\n",
       "AUSTIN, TX 78617\n",
       "(30.211194, -97.654931)\n",
       "Boone Elementary               | 78749    | 01/23/2015      | 93    | 8101 CROFTWOOD DR\n",
       "AUSTIN, TX 78749\n",
       "(30.204034, -97.840871)\n",
       "LW - Circle K Store #2704681   | 78734    | 06/27/2014      | 88    | 1405 S FM 620 RD\n",
       "LAKEWAY, TX 78734\n",
       "(30.34937, -97.963575)\n",
       "Cafe Malta                     | 78745    | 04/20/2015      | 84    | 3421 W WILLIAM CANNON DR Unit 127\n",
       "AUSTIN, TX 78745\n",
       "(30.2 ...\n",
       "Shangri-La                     | 78702    | 03/29/2016      | 96    | 1016 E 6TH ST\n",
       "AUSTIN, TX 78702\n",
       "(30.264806, -97.731651)\n",
       "Schlotzsky's Deli              | 78745    | 06/30/2014      | 86    | 111 W WILLIAM CANNON DR\n",
       "AUSTIN, TX 78745\n",
       "(30.193122, -97 ...\n",
       "... (90 rows omitted)"
      ]
     },
     "execution_count": 56,
     "metadata": {
      "tags": []
     },
     "output_type": "execute_result"
    }
   ],
   "source": [
    "restaurant_sample = pop_restaurants.sample(100, with_replacement=False)\n",
    "restaurant_sample"
   ]
  },
  {
   "cell_type": "markdown",
   "metadata": {
    "id": "ZLvN_N1CCKvE",
    "colab_type": "text"
   },
   "source": [
    "Run the cell below to plot a histogram of the sample scores from restaurant_sample."
   ]
  },
  {
   "cell_type": "code",
   "execution_count": 57,
   "metadata": {
    "id": "ejlnzwFqCLnj",
    "colab_type": "code",
    "colab": {
     "base_uri": "https://localhost:8080/",
     "height": 301.0
    },
    "outputId": "678354e3-3eba-4e94-a34b-6ddb672977e6"
   },
   "outputs": [
    {
     "data": {
      "image/png": "[encoded data removed]",
      "text/plain": [
       "<Figure size 432x288 with 1 Axes>"
      ]
     },
     "metadata": {
      "tags": []
     },
     "output_type": "display_data"
    }
   ],
   "source": [
    "restaurant_sample.hist('Score')"
   ]
  },
  {
   "cell_type": "markdown",
   "metadata": {
    "id": "md0wpJ_9CRZo",
    "colab_type": "text"
   },
   "source": [
    "This is the sample mean:"
   ]
  },
  {
   "cell_type": "code",
   "execution_count": 58,
   "metadata": {
    "id": "dSPHvguDCUW0",
    "colab_type": "code",
    "colab": {
     "base_uri": "https://localhost:8080/",
     "height": 34.0
    },
    "outputId": "dcdd0de1-528c-41a1-c81b-d1872105448a"
   },
   "outputs": [
    {
     "data": {
      "text/plain": [
       "90.51"
      ]
     },
     "execution_count": 58,
     "metadata": {
      "tags": []
     },
     "output_type": "execute_result"
    }
   ],
   "source": [
    "sample_mean = np.mean(restaurant_sample.column('Score'))\n",
    "sample_mean"
   ]
  },
  {
   "cell_type": "markdown",
   "metadata": {
    "id": "DXuoEU6OCY_x",
    "colab_type": "text"
   },
   "source": [
    "### Question 1\n",
    "\n",
    "Complete the function one_resampled_mean below. It should take in an original table data, with a column Score, and return the mean score of one resampling from data."
   ]
  },
  {
   "cell_type": "code",
   "execution_count": 59,
   "metadata": {
    "id": "cc9WCY8lCjtf",
    "colab_type": "code",
    "colab": {
     "base_uri": "https://localhost:8080/",
     "height": 34.0
    },
    "outputId": "f1460312-5a05-4ba6-d8da-6d527dc43f0c"
   },
   "outputs": [
    {
     "data": {
      "text/plain": [
       "90.74"
      ]
     },
     "execution_count": 59,
     "metadata": {
      "tags": []
     },
     "output_type": "execute_result"
    }
   ],
   "source": [
    "def one_resampled_mean(data):\n",
    "    resampled_data = data.sample(100, with_replacement=False)\n",
    "    sample_mean = np.mean(resampled_data.column('Score'))\n",
    "    return sample_mean\n",
    "\n",
    "this_mean = one_resampled_mean(pop_restaurants)\n",
    "this_mean"
   ]
  },
  {
   "cell_type": "markdown",
   "metadata": {
    "id": "5ZBSOQgRDfZE",
    "colab_type": "text"
   },
   "source": [
    "\n",
    "### Question 2\n",
    "\n",
    "Complete the function bootstrap_scores below. It should take no arguments. It should simulate drawing 5000 resamples from restaurant_sample and compute the mean restaurant score in each resample. It should return an array of those 5000 resample means."
   ]
  },
  {
   "cell_type": "code",
   "execution_count": 60,
   "metadata": {
    "id": "pswgOxUzDkxH",
    "colab_type": "code",
    "colab": {
     "base_uri": "https://localhost:8080/",
     "height": 34.0
    },
    "outputId": "53ee750d-96a7-4479-8328-da69faef4ce7"
   },
   "outputs": [
    {
     "data": {
      "text/plain": [
       "array([91.69, 90.12, 91.22, ..., 90.27, 90.19, 89.57])"
      ]
     },
     "execution_count": 60,
     "metadata": {
      "tags": []
     },
     "output_type": "execute_result"
    }
   ],
   "source": [
    "def bootstrap_scores():  \n",
    "  resampled_means = make_array()\n",
    "  for i in range(5000):\n",
    "    resampled_data = restaurant_sample.sample(100, with_replacement=True)\n",
    "    resampled_mean = one_resampled_mean(resampled_data)\n",
    "    resampled_means = np.append(resampled_means, resampled_mean)\n",
    "  return resampled_means\n",
    "\n",
    "resampled_means = bootstrap_scores()\n",
    "resampled_means"
   ]
  },
  {
   "cell_type": "markdown",
   "metadata": {
    "id": "JpUkUjrBHUZf",
    "colab_type": "text"
   },
   "source": [
    "Take a look at the histogram of the resampled means."
   ]
  },
  {
   "cell_type": "code",
   "execution_count": 61,
   "metadata": {
    "id": "7cZFKJPKHVW2",
    "colab_type": "code",
    "colab": {
     "base_uri": "https://localhost:8080/",
     "height": 301.0
    },
    "outputId": "5b71ba84-7bc8-4d86-abbb-4b9fe8cc52cc"
   },
   "outputs": [
    {
     "data": {
      "image/png": "[encoded data removed]",
      "text/plain": [
       "<Figure size 432x288 with 1 Axes>"
      ]
     },
     "metadata": {
      "tags": []
     },
     "output_type": "display_data"
    }
   ],
   "source": [
    "Table().with_column('Resampled Means', resampled_means).hist()"
   ]
  },
  {
   "cell_type": "markdown",
   "metadata": {
    "id": "fHOwNW8Jh3GP",
    "colab_type": "text"
   },
   "source": [
    "### Question 3\n",
    "\n",
    "Compute a 95 percent confidence interval for the average restaurant score using the array resampled_means."
   ]
  },
  {
   "cell_type": "code",
   "execution_count": 62,
   "metadata": {
    "id": "15nclA-3h5tF",
    "colab_type": "code",
    "colab": {
     "base_uri": "https://localhost:8080/",
     "height": 50.0
    },
    "outputId": "79404bd9-01f1-4f2a-e7d0-809651dd85e2"
   },
   "outputs": [
    {
     "name": "stdout",
     "output_type": "stream",
     "text": [
      "95% confidence interval for the average restaurant score, computed by bootstrapping:\n",
      "( 88.95 , 91.99 )\n"
     ]
    }
   ],
   "source": [
    "lower_bound = np.round(percentile(2.5, resampled_means), 2)\n",
    "upper_bound = np.round(percentile(97.5, resampled_means), 2)\n",
    "print(\"95% confidence interval for the average restaurant score, computed by bootstrapping:\\n(\",lower_bound, \",\", upper_bound, \")\")"
   ]
  },
  {
   "cell_type": "markdown",
   "metadata": {
    "id": "qZKM_g2ziXCN",
    "colab_type": "text"
   },
   "source": [
    "\n",
    "### Question 4\n",
    "\n",
    "What distribution is the histogram between question 2 and 3 displaying (that is, what data are plotted), and why does it have that shape?\n",
    "\n",
    "\n",
    "---\n",
    "The histogram is displaying the means of 5000 bootstrapped resamplings of our original 100-restaurant sample. These are taken WITH replacement, because if we bootstrap without replacement, the mean will be the same all 5000 times. It appears to be normally distributed under a bell curve because of the Central Limit Theorem: even though we're taking a tiny sample (100) from a very large population (all the restaurant scores) and there's no way this tiny sample can be truly representative of the population, the distribution of the means of large random sample drawn with replacement will be roughly normal, regardless of the distribution of the population.\n",
    "\n",
    "### Question 5\n",
    "\n",
    "\n",
    "---\n",
    "No, the **sampled scores** do not have a normal bell shape; instead, they cluster in an increasing slope toward 100. This is not an unexpected result, since for the resampled means to have a normal distribution under the central limit theorem, it is not necessary for the population they came from to be normally distributed.\n",
    "\n",
    "\n",
    "### Question 6\n",
    "\n",
    "\n",
    "---\n",
    "\n",
    "\n",
    "Without referencing the array resampled_means or performing any new simulations, calculate an interval around the sample_mean that covers approximately 95% of the numbers in the resampled_means array. You may use the following values to compute your result, but you should not perform additional resampling - think about how you can use the CLT to accomplish this.\n",
    "\n"
   ]
  },
  {
   "cell_type": "code",
   "execution_count": 63,
   "metadata": {
    "id": "oLkOZfaUltsw",
    "colab_type": "code",
    "colab": {
     "base_uri": "https://localhost:8080/",
     "height": 50.0
    },
    "outputId": "65510f24-2143-46f9-b32e-17bbe42e0db4"
   },
   "outputs": [
    {
     "name": "stdout",
     "output_type": "stream",
     "text": [
      "95% confidence interval for the average restaurant score, computed by a normal approximation:\n",
      "( 75.00388507717037 , 106.01611492282964 )\n"
     ]
    }
   ],
   "source": [
    "sample_mean = np.mean(restaurant_sample.column('Score'))\n",
    "sample_sd = np.std(restaurant_sample.column('Score'))\n",
    "sample_size = restaurant_sample.num_rows\n",
    "\n",
    "# Since the STD of the restaurant samples is 7.59, we can calculate +/- 2 Standard units to get a 95% interval\n",
    "sd_of_means = sample_sd*2\n",
    "lower_bound_normal = sample_mean - sd_of_means\n",
    "upper_bound_normal = sample_mean + sd_of_means\n",
    "print(\"95% confidence interval for the average restaurant score, computed by a normal approximation:\\n(\",lower_bound_normal, \",\", upper_bound_normal, \")\")"
   ]
  },
  {
   "cell_type": "markdown",
   "metadata": {
    "id": "8ggTntu1NpcS",
    "colab_type": "text"
   },
   "source": [
    "# 2. Testing the Central Limit Theorem\n",
    "\n",
    "\n",
    "---\n",
    "\n",
    "\n",
    "To recap the properties we just saw: The Central Limit Theorem tells us that the probability distribution of the sum or average of a large random sample drawn with replacement will be roughly normal, regardless of the distribution of the population from which the sample is drawn.\n",
    "\n",
    "\n",
    "### Question 1. Define the function one_statistic_prop_heads which should return exactly one simulated statistic of the proportion of heads from $n$ coin flips."
   ]
  },
  {
   "cell_type": "code",
   "execution_count": 64,
   "metadata": {
    "id": "-F-r4rOONw54",
    "colab_type": "code",
    "colab": {
     "base_uri": "https://localhost:8080/",
     "height": 34.0
    },
    "outputId": "c9e8713b-8e0b-4f50-ffce-c0006addad13"
   },
   "outputs": [
    {
     "data": {
      "text/plain": [
       "46.0"
      ]
     },
     "execution_count": 64,
     "metadata": {
      "tags": []
     },
     "output_type": "execute_result"
    }
   ],
   "source": [
    "coin = Table().with_columns(\n",
    "    \"Flip\", make_array('Heads', 'Tails'),\n",
    "    \"Chance\", make_array(0.5,        0.5))\n",
    "\n",
    "def one_statistic_prop_heads(n):\n",
    "    prop_heads = coin.sample_from_distribution(\"Chance\", n)\n",
    "    return np.round((prop_heads.column(2)[1]/n) * 100, 2)\n",
    "\n",
    "one_statistic_prop_heads(100)"
   ]
  },
  {
   "cell_type": "markdown",
   "metadata": {
    "id": "7Kr6NMtbSj_S",
    "colab_type": "text"
   },
   "source": [
    "### Question 2. The CLT only applies when sample sizes are \"sufficiently large.\" \n",
    "\n",
    "This isn't a very precise statement. Is 10 large? How about 50? The truth is that it depends both on the original population distribution and just how \"normal\" you want the result to look. Let's use a simulation to get a feel for how the distribution of the sample mean changes as sample size goes up.\n",
    "\n",
    "Consider a coin flip. If we say Heads is $1$ and Tails is $0$, then there's a 50% chance of getting a 1 and a 50% chance of getting a 0, which definitely doesn't match our definition of a normal distribution. The average of several coin tosses, where Heads is 1 and Tails is 0, is equal to the proportion of heads in those coin tosses (which is equivalent to the mean value of the coin tosses), so the CLT should hold true if we compute the sample proportion of heads many times.\n",
    "\n",
    "Write a function called sample_size_n that takes in a sample size $n$. It should return an array that contains 5000 sample proportions of heads, each from $n$ coin flips."
   ]
  },
  {
   "cell_type": "code",
   "execution_count": 65,
   "metadata": {
    "id": "oYOAUKchS4eX",
    "colab_type": "code",
    "colab": {
     "base_uri": "https://localhost:8080/",
     "height": 34.0
    },
    "outputId": "5ac71cf8-2a1a-4358-c793-f2015c738d6a"
   },
   "outputs": [
    {
     "data": {
      "text/plain": [
       "array([50.18, 51.32, 50.48, ..., 47.92, 50.04, 50.54])"
      ]
     },
     "execution_count": 65,
     "metadata": {
      "tags": []
     },
     "output_type": "execute_result"
    }
   ],
   "source": [
    "def sample_size_n(n):\n",
    "    coin_proportions = make_array(.5, .5) # our coin is fair\n",
    "    heads_proportions = make_array()\n",
    "    for i in np.arange(5000):\n",
    "        prop_heads = coin.sample_from_distribution(\"Chance\", n)\n",
    "        heads_proportions = np.append(heads_proportions, np.round((prop_heads.column(2)[1]/n) * 100, 2))\n",
    "    return heads_proportions\n",
    "\n",
    "sample_size_n(5000)"
   ]
  },
  {
   "cell_type": "markdown",
   "metadata": {
    "id": "K420vK3bT_oh",
    "colab_type": "text"
   },
   "source": [
    "### Question 4: Write a function called empirical_sample_mean_sd that takes a sample size n as its argument. The function should simulate 500 samples with replacement of size n from the flight delays dataset, and it should return the standard deviation of the means of those 500 samples.\n",
    "\n",
    "Hint: This function will be similar to the sample_size_n function you wrote earlier."
   ]
  },
  {
   "cell_type": "code",
   "execution_count": 73,
   "metadata": {
    "id": "clBEdpiMUHH1",
    "colab_type": "code",
    "colab": {
     "base_uri": "https://localhost:8080/",
     "height": 34.0
    },
    "outputId": "4d7fb246-ae59-431b-f7c8-034e2b2e0b3e"
   },
   "outputs": [
    {
     "data": {
      "text/plain": [
       "13.438131126016"
      ]
     },
     "execution_count": 73,
     "metadata": {
      "tags": []
     },
     "output_type": "execute_result"
    }
   ],
   "source": [
    "delays = Table().read_table('united_summer2015.csv')\n",
    "\n",
    "def empirical_sample_mean_sd(n):\n",
    "    sample_means = make_array()\n",
    "    for i in np.arange(500):\n",
    "        sample = delays.sample(n, with_replacement=False)\n",
    "        sample_mean = np.mean(sample.column('Delay'))\n",
    "        sample_means = np.append(sample_means, sample_mean)\n",
    "    return np.std(sample_means)\n",
    "\n",
    "empirical_sample_mean_sd(10)"
   ]
  },
  {
   "cell_type": "markdown",
   "metadata": {
    "id": "i5CKPKidWmmH",
    "colab_type": "text"
   },
   "source": [
    "### Question 5: Now, write a function called predict_sample_mean_sd...\n",
    "\n",
    " to find the predicted value of the standard deviation of means according to the relationship between the standard deviation of the sample mean and sample size that is discussed here in the textbook. It takes a sample size n (a number) as its argument. It returns the predicted value of the standard deviation of the mean delay time for samples of size n from the flight delays (represented in the table united)."
   ]
  },
  {
   "cell_type": "code",
   "execution_count": 88,
   "metadata": {
    "id": "LCly-oXJWt8Q",
    "colab_type": "code",
    "colab": {
     "base_uri": "https://localhost:8080/",
     "height": 34.0
    },
    "outputId": "dc7007f2-e372-4471-fa22-1f9e152871e5"
   },
   "outputs": [
    {
     "data": {
      "text/plain": [
       "1.7542510554543895"
      ]
     },
     "execution_count": 88,
     "metadata": {
      "tags": []
     },
     "output_type": "execute_result"
    }
   ],
   "source": [
    "repetitions = 10000\n",
    "\n",
    "def predict_sample_mean_sd(n):\n",
    "    means = make_array()\n",
    "    for i in np.arange(repetitions):\n",
    "      means = np.append(means, np.mean(delays.sample(n).column('Delay')))\n",
    "    standard = np.std(means)\n",
    "    return standard\n",
    "\n",
    "predict_sample_mean_sd(500)"
   ]
  },
  {
   "cell_type": "markdown",
   "metadata": {
    "id": "MuWRAZTlaptO",
    "colab_type": "text"
   },
   "source": [
    "The code above reflects the property of the standard deviations of sample means: the larger the sample, the more the means of the sample cluster around center (and therefore, the smaller the Standard Deviation is). When taking 10 samples, the SD was over 12, but at 500 samples, it is only 1.75"
   ]
  }
 ],
 "metadata": {
  "colab": {
   "name": "MaiaPetee_Assignment6.ipynb",
   "provenance": [],
   "toc_visible": true
  },
  "kernelspec": {
   "name": "python3",
   "display_name": "Python 3"
  }
 },
 "nbformat": 4,
 "nbformat_minor": 0
}
