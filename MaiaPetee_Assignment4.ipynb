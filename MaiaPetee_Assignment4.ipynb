{
 "cells": [
  {
   "cell_type": "code",
   "execution_count": 0,
   "metadata": {
    "id": "Yx9ilnDF4L_r",
    "colab_type": "code",
    "colab": {}
   },
   "outputs": [],
   "source": [
    "# Taking care of imports\n",
    "\n",
    "from datascience import *\n",
    "import pandas as pd\n",
    "import numpy as np\n",
    "import matplotlib\n",
    "matplotlib.use('Agg', warn=False)\n",
    "%matplotlib inline\n",
    "import matplotlib.pyplot as plt\n",
    "plt.style.use('bmh')"
   ]
  },
  {
   "cell_type": "code",
   "execution_count": 3,
   "metadata": {
    "id": "3xfaBU6_5kwW",
    "colab_type": "code",
    "colab": {
     "base_uri": "https://localhost:8080/",
     "height": 1000.0
    },
    "outputId": "eb94570c-42bc-40c6-d59a-b5f825932f00"
   },
   "outputs": [
    {
     "data": {
      "text/html": [
       "<div>\n",
       "<style scoped>\n",
       "    .dataframe tbody tr th:only-of-type {\n",
       "        vertical-align: middle;\n",
       "    }\n",
       "\n",
       "    .dataframe tbody tr th {\n",
       "        vertical-align: top;\n",
       "    }\n",
       "\n",
       "    .dataframe thead th {\n",
       "        text-align: right;\n",
       "    }\n",
       "</style>\n",
       "<table border=\"1\" class=\"dataframe\">\n",
       "  <thead>\n",
       "    <tr style=\"text-align: right;\">\n",
       "      <th></th>\n",
       "      <th>2018 Kaggle Machine Learning and Data Science Survey</th>\n",
       "      <th>Q1</th>\n",
       "      <th>Q10</th>\n",
       "      <th>Q11</th>\n",
       "      <th>Q12</th>\n",
       "      <th>Q13</th>\n",
       "      <th>Q14</th>\n",
       "      <th>Q15</th>\n",
       "      <th>Q16</th>\n",
       "      <th>Q17</th>\n",
       "      <th>Q18</th>\n",
       "      <th>Q19</th>\n",
       "      <th>Q2</th>\n",
       "      <th>Q20</th>\n",
       "      <th>Q21</th>\n",
       "      <th>Q22</th>\n",
       "      <th>Q23</th>\n",
       "      <th>Q24</th>\n",
       "      <th>Q25</th>\n",
       "      <th>Q26</th>\n",
       "      <th>Q27</th>\n",
       "      <th>Q28</th>\n",
       "      <th>Q29</th>\n",
       "      <th>Q3</th>\n",
       "      <th>Q30</th>\n",
       "      <th>Q31</th>\n",
       "      <th>Q32</th>\n",
       "      <th>Q33</th>\n",
       "      <th>Q34</th>\n",
       "      <th>Q35</th>\n",
       "      <th>Q36</th>\n",
       "      <th>Q37</th>\n",
       "      <th>Q38</th>\n",
       "      <th>Q39</th>\n",
       "      <th>Q4</th>\n",
       "      <th>Q40</th>\n",
       "      <th>Q41</th>\n",
       "      <th>Q42</th>\n",
       "      <th>Q43</th>\n",
       "      <th>Q44</th>\n",
       "      <th>Q45</th>\n",
       "      <th>Q46</th>\n",
       "      <th>Q47</th>\n",
       "      <th>Q48</th>\n",
       "      <th>Q49</th>\n",
       "      <th>Q5</th>\n",
       "      <th>Q50</th>\n",
       "      <th>Q6</th>\n",
       "      <th>Q7</th>\n",
       "      <th>Q8</th>\n",
       "      <th>Q9</th>\n",
       "      <th>Time from Start to Finish (seconds)</th>\n",
       "    </tr>\n",
       "  </thead>\n",
       "  <tbody>\n",
       "    <tr>\n",
       "      <th>0</th>\n",
       "      <td>Question:</td>\n",
       "      <td>What is your gender? - Selected Choice</td>\n",
       "      <td>Does your current employer incorporate machine...</td>\n",
       "      <td>Select any activities that make up an importan...</td>\n",
       "      <td>What is the primary tool that you use at work ...</td>\n",
       "      <td>Which of the following integrated development ...</td>\n",
       "      <td>Which of the following hosted notebooks have y...</td>\n",
       "      <td>Which of the following cloud computing service...</td>\n",
       "      <td>What programming languages do you use on a reg...</td>\n",
       "      <td>What specific programming language do you use ...</td>\n",
       "      <td>What programming language would you recommend ...</td>\n",
       "      <td>What machine learning frameworks have you used...</td>\n",
       "      <td>What is your age (# years)?</td>\n",
       "      <td>Of the choices that you selected in the previo...</td>\n",
       "      <td>What data visualization libraries or tools hav...</td>\n",
       "      <td>Of the choices that you selected in the previo...</td>\n",
       "      <td>Approximately what percent of your time at wor...</td>\n",
       "      <td>How long have you been writing code to analyze...</td>\n",
       "      <td>For how many years have you used machine learn...</td>\n",
       "      <td>Do you consider yourself to be a data scientist?</td>\n",
       "      <td>Which of the following cloud computing product...</td>\n",
       "      <td>Which of the following machine learning produc...</td>\n",
       "      <td>Which of the following relational database pro...</td>\n",
       "      <td>In which country do you currently reside?</td>\n",
       "      <td>Which of the following big data and analytics ...</td>\n",
       "      <td>Which types of data do you currently interact ...</td>\n",
       "      <td>What is the type of data that you currently in...</td>\n",
       "      <td>Where do you find public datasets? (Select all...</td>\n",
       "      <td>During a typical data science project at work ...</td>\n",
       "      <td>What percentage of your current machine learni...</td>\n",
       "      <td>On which online platforms have you begun or co...</td>\n",
       "      <td>On which online platform have you spent the mo...</td>\n",
       "      <td>Who/what are your favorite media sources that ...</td>\n",
       "      <td>How do you perceive the quality of online lear...</td>\n",
       "      <td>What is the highest level of formal education ...</td>\n",
       "      <td>Which better demonstrates expertise in data sc...</td>\n",
       "      <td>How do you perceive the importance of the foll...</td>\n",
       "      <td>What metrics do you or your organization use t...</td>\n",
       "      <td>Approximately what percent of your data projec...</td>\n",
       "      <td>What do you find most difficult about ensuring...</td>\n",
       "      <td>In what circumstances would you explore model ...</td>\n",
       "      <td>Approximately what percent of your data projec...</td>\n",
       "      <td>What methods do you prefer for explaining and/...</td>\n",
       "      <td>Do you consider ML models to be \"black boxes\" ...</td>\n",
       "      <td>What tools and methods do you use to make your...</td>\n",
       "      <td>Which best describes your undergraduate major?...</td>\n",
       "      <td>What barriers prevent you from making your wor...</td>\n",
       "      <td>Select the title most similar to your current ...</td>\n",
       "      <td>In what industry is your current employer/cont...</td>\n",
       "      <td>How many years of experience do you have in yo...</td>\n",
       "      <td>What is your current yearly compensation (appr...</td>\n",
       "      <td>Duration (in seconds)</td>\n",
       "    </tr>\n",
       "    <tr>\n",
       "      <th>1</th>\n",
       "      <td># of Respondents:</td>\n",
       "      <td>23860</td>\n",
       "      <td>20670</td>\n",
       "      <td>19518</td>\n",
       "      <td>19199</td>\n",
       "      <td>19117</td>\n",
       "      <td>18971</td>\n",
       "      <td>18864</td>\n",
       "      <td>18828</td>\n",
       "      <td>15223</td>\n",
       "      <td>18789</td>\n",
       "      <td>18697</td>\n",
       "      <td>23860</td>\n",
       "      <td>12990</td>\n",
       "      <td>18593</td>\n",
       "      <td>12185</td>\n",
       "      <td>18548</td>\n",
       "      <td>18534</td>\n",
       "      <td>18492</td>\n",
       "      <td>18481</td>\n",
       "      <td>11060</td>\n",
       "      <td>10887</td>\n",
       "      <td>10719</td>\n",
       "      <td>23860</td>\n",
       "      <td>9746</td>\n",
       "      <td>16922</td>\n",
       "      <td>13879</td>\n",
       "      <td>16816</td>\n",
       "      <td>15938</td>\n",
       "      <td>15746</td>\n",
       "      <td>15672</td>\n",
       "      <td>9671</td>\n",
       "      <td>16338</td>\n",
       "      <td>15980</td>\n",
       "      <td>23439</td>\n",
       "      <td>15880</td>\n",
       "      <td>14937</td>\n",
       "      <td>13584</td>\n",
       "      <td>13120</td>\n",
       "      <td>13344</td>\n",
       "      <td>13653</td>\n",
       "      <td>13290</td>\n",
       "      <td>13418</td>\n",
       "      <td>13369</td>\n",
       "      <td>12891</td>\n",
       "      <td>22948</td>\n",
       "      <td>12814</td>\n",
       "      <td>22901</td>\n",
       "      <td>21686</td>\n",
       "      <td>21102</td>\n",
       "      <td>20186</td>\n",
       "      <td>23860</td>\n",
       "    </tr>\n",
       "    <tr>\n",
       "      <th>2</th>\n",
       "      <td>Who was excluded? (0 = not excluded; 1 = exclu...</td>\n",
       "      <td>0</td>\n",
       "      <td>0</td>\n",
       "      <td>0</td>\n",
       "      <td>0</td>\n",
       "      <td>0</td>\n",
       "      <td>0</td>\n",
       "      <td>0</td>\n",
       "      <td>0</td>\n",
       "      <td>0</td>\n",
       "      <td>0</td>\n",
       "      <td>0</td>\n",
       "      <td>0</td>\n",
       "      <td>0</td>\n",
       "      <td>0</td>\n",
       "      <td>0</td>\n",
       "      <td>0</td>\n",
       "      <td>0</td>\n",
       "      <td>0</td>\n",
       "      <td>0</td>\n",
       "      <td>0</td>\n",
       "      <td>0</td>\n",
       "      <td>0</td>\n",
       "      <td>0</td>\n",
       "      <td>0</td>\n",
       "      <td>0</td>\n",
       "      <td>0</td>\n",
       "      <td>0</td>\n",
       "      <td>0</td>\n",
       "      <td>0</td>\n",
       "      <td>0</td>\n",
       "      <td>0</td>\n",
       "      <td>0</td>\n",
       "      <td>0</td>\n",
       "      <td>0</td>\n",
       "      <td>0</td>\n",
       "      <td>0</td>\n",
       "      <td>0</td>\n",
       "      <td>0</td>\n",
       "      <td>0</td>\n",
       "      <td>0</td>\n",
       "      <td>0</td>\n",
       "      <td>0</td>\n",
       "      <td>0</td>\n",
       "      <td>0</td>\n",
       "      <td>0</td>\n",
       "      <td>0</td>\n",
       "      <td>0</td>\n",
       "      <td>0</td>\n",
       "      <td>0</td>\n",
       "      <td>0</td>\n",
       "      <td>0</td>\n",
       "    </tr>\n",
       "    <tr>\n",
       "      <th>3</th>\n",
       "      <td>If What is your age (# years)? 0-17 Is Selecte...</td>\n",
       "      <td>0</td>\n",
       "      <td>1</td>\n",
       "      <td>1</td>\n",
       "      <td>1</td>\n",
       "      <td>1</td>\n",
       "      <td>1</td>\n",
       "      <td>1</td>\n",
       "      <td>1</td>\n",
       "      <td>1</td>\n",
       "      <td>1</td>\n",
       "      <td>1</td>\n",
       "      <td>0</td>\n",
       "      <td>1</td>\n",
       "      <td>1</td>\n",
       "      <td>1</td>\n",
       "      <td>1</td>\n",
       "      <td>1</td>\n",
       "      <td>1</td>\n",
       "      <td>1</td>\n",
       "      <td>1</td>\n",
       "      <td>1</td>\n",
       "      <td>1</td>\n",
       "      <td>1</td>\n",
       "      <td>1</td>\n",
       "      <td>1</td>\n",
       "      <td>1</td>\n",
       "      <td>1</td>\n",
       "      <td>1</td>\n",
       "      <td>1</td>\n",
       "      <td>1</td>\n",
       "      <td>1</td>\n",
       "      <td>1</td>\n",
       "      <td>1</td>\n",
       "      <td>1</td>\n",
       "      <td>1</td>\n",
       "      <td>1</td>\n",
       "      <td>1</td>\n",
       "      <td>1</td>\n",
       "      <td>1</td>\n",
       "      <td>1</td>\n",
       "      <td>1</td>\n",
       "      <td>1</td>\n",
       "      <td>1</td>\n",
       "      <td>1</td>\n",
       "      <td>1</td>\n",
       "      <td>1</td>\n",
       "      <td>1</td>\n",
       "      <td>1</td>\n",
       "      <td>1</td>\n",
       "      <td>1</td>\n",
       "      <td>0</td>\n",
       "    </tr>\n",
       "    <tr>\n",
       "      <th>4</th>\n",
       "      <td>If What is the highest level of formal educati...</td>\n",
       "      <td>0</td>\n",
       "      <td>0</td>\n",
       "      <td>0</td>\n",
       "      <td>0</td>\n",
       "      <td>0</td>\n",
       "      <td>0</td>\n",
       "      <td>0</td>\n",
       "      <td>0</td>\n",
       "      <td>0</td>\n",
       "      <td>0</td>\n",
       "      <td>0</td>\n",
       "      <td>0</td>\n",
       "      <td>0</td>\n",
       "      <td>0</td>\n",
       "      <td>0</td>\n",
       "      <td>0</td>\n",
       "      <td>0</td>\n",
       "      <td>0</td>\n",
       "      <td>0</td>\n",
       "      <td>0</td>\n",
       "      <td>0</td>\n",
       "      <td>0</td>\n",
       "      <td>0</td>\n",
       "      <td>0</td>\n",
       "      <td>0</td>\n",
       "      <td>0</td>\n",
       "      <td>0</td>\n",
       "      <td>0</td>\n",
       "      <td>0</td>\n",
       "      <td>0</td>\n",
       "      <td>0</td>\n",
       "      <td>0</td>\n",
       "      <td>0</td>\n",
       "      <td>0</td>\n",
       "      <td>0</td>\n",
       "      <td>0</td>\n",
       "      <td>0</td>\n",
       "      <td>0</td>\n",
       "      <td>0</td>\n",
       "      <td>0</td>\n",
       "      <td>0</td>\n",
       "      <td>0</td>\n",
       "      <td>0</td>\n",
       "      <td>0</td>\n",
       "      <td>1</td>\n",
       "      <td>0</td>\n",
       "      <td>0</td>\n",
       "      <td>0</td>\n",
       "      <td>0</td>\n",
       "      <td>0</td>\n",
       "      <td>0</td>\n",
       "    </tr>\n",
       "    <tr>\n",
       "      <th>5</th>\n",
       "      <td>If Select the title most similar to your curre...</td>\n",
       "      <td>0</td>\n",
       "      <td>1</td>\n",
       "      <td>1</td>\n",
       "      <td>0</td>\n",
       "      <td>0</td>\n",
       "      <td>0</td>\n",
       "      <td>0</td>\n",
       "      <td>0</td>\n",
       "      <td>0</td>\n",
       "      <td>0</td>\n",
       "      <td>0</td>\n",
       "      <td>0</td>\n",
       "      <td>0</td>\n",
       "      <td>0</td>\n",
       "      <td>0</td>\n",
       "      <td>0</td>\n",
       "      <td>0</td>\n",
       "      <td>0</td>\n",
       "      <td>0</td>\n",
       "      <td>0</td>\n",
       "      <td>0</td>\n",
       "      <td>0</td>\n",
       "      <td>0</td>\n",
       "      <td>0</td>\n",
       "      <td>0</td>\n",
       "      <td>0</td>\n",
       "      <td>0</td>\n",
       "      <td>0</td>\n",
       "      <td>0</td>\n",
       "      <td>0</td>\n",
       "      <td>0</td>\n",
       "      <td>0</td>\n",
       "      <td>0</td>\n",
       "      <td>0</td>\n",
       "      <td>0</td>\n",
       "      <td>0</td>\n",
       "      <td>0</td>\n",
       "      <td>0</td>\n",
       "      <td>0</td>\n",
       "      <td>0</td>\n",
       "      <td>0</td>\n",
       "      <td>0</td>\n",
       "      <td>0</td>\n",
       "      <td>0</td>\n",
       "      <td>0</td>\n",
       "      <td>0</td>\n",
       "      <td>1</td>\n",
       "      <td>1</td>\n",
       "      <td>1</td>\n",
       "      <td>1</td>\n",
       "      <td>0</td>\n",
       "    </tr>\n",
       "    <tr>\n",
       "      <th>6</th>\n",
       "      <td>Or How long have you been writing code to anal...</td>\n",
       "      <td>0</td>\n",
       "      <td>0</td>\n",
       "      <td>0</td>\n",
       "      <td>0</td>\n",
       "      <td>0</td>\n",
       "      <td>0</td>\n",
       "      <td>0</td>\n",
       "      <td>0</td>\n",
       "      <td>0</td>\n",
       "      <td>0</td>\n",
       "      <td>0</td>\n",
       "      <td>0</td>\n",
       "      <td>0</td>\n",
       "      <td>0</td>\n",
       "      <td>0</td>\n",
       "      <td>0</td>\n",
       "      <td>0</td>\n",
       "      <td>1</td>\n",
       "      <td>1</td>\n",
       "      <td>1</td>\n",
       "      <td>1</td>\n",
       "      <td>1</td>\n",
       "      <td>0</td>\n",
       "      <td>1</td>\n",
       "      <td>1</td>\n",
       "      <td>1</td>\n",
       "      <td>1</td>\n",
       "      <td>1</td>\n",
       "      <td>1</td>\n",
       "      <td>1</td>\n",
       "      <td>1</td>\n",
       "      <td>0</td>\n",
       "      <td>0</td>\n",
       "      <td>0</td>\n",
       "      <td>0</td>\n",
       "      <td>0</td>\n",
       "      <td>1</td>\n",
       "      <td>1</td>\n",
       "      <td>1</td>\n",
       "      <td>1</td>\n",
       "      <td>1</td>\n",
       "      <td>1</td>\n",
       "      <td>1</td>\n",
       "      <td>1</td>\n",
       "      <td>0</td>\n",
       "      <td>1</td>\n",
       "      <td>0</td>\n",
       "      <td>0</td>\n",
       "      <td>0</td>\n",
       "      <td>0</td>\n",
       "      <td>0</td>\n",
       "    </tr>\n",
       "    <tr>\n",
       "      <th>7</th>\n",
       "      <td>If How do you perceive the importance of the f...</td>\n",
       "      <td>0</td>\n",
       "      <td>0</td>\n",
       "      <td>0</td>\n",
       "      <td>0</td>\n",
       "      <td>0</td>\n",
       "      <td>0</td>\n",
       "      <td>0</td>\n",
       "      <td>0</td>\n",
       "      <td>0</td>\n",
       "      <td>0</td>\n",
       "      <td>0</td>\n",
       "      <td>0</td>\n",
       "      <td>0</td>\n",
       "      <td>0</td>\n",
       "      <td>0</td>\n",
       "      <td>0</td>\n",
       "      <td>0</td>\n",
       "      <td>0</td>\n",
       "      <td>0</td>\n",
       "      <td>0</td>\n",
       "      <td>0</td>\n",
       "      <td>0</td>\n",
       "      <td>0</td>\n",
       "      <td>0</td>\n",
       "      <td>0</td>\n",
       "      <td>0</td>\n",
       "      <td>0</td>\n",
       "      <td>0</td>\n",
       "      <td>0</td>\n",
       "      <td>0</td>\n",
       "      <td>0</td>\n",
       "      <td>0</td>\n",
       "      <td>0</td>\n",
       "      <td>0</td>\n",
       "      <td>0</td>\n",
       "      <td>0</td>\n",
       "      <td>1</td>\n",
       "      <td>1</td>\n",
       "      <td>1</td>\n",
       "      <td>0</td>\n",
       "      <td>0</td>\n",
       "      <td>0</td>\n",
       "      <td>0</td>\n",
       "      <td>0</td>\n",
       "      <td>0</td>\n",
       "      <td>0</td>\n",
       "      <td>0</td>\n",
       "      <td>0</td>\n",
       "      <td>0</td>\n",
       "      <td>0</td>\n",
       "      <td>0</td>\n",
       "    </tr>\n",
       "    <tr>\n",
       "      <th>8</th>\n",
       "      <td>If How do you perceive the importance of the f...</td>\n",
       "      <td>0</td>\n",
       "      <td>0</td>\n",
       "      <td>0</td>\n",
       "      <td>0</td>\n",
       "      <td>0</td>\n",
       "      <td>0</td>\n",
       "      <td>0</td>\n",
       "      <td>0</td>\n",
       "      <td>0</td>\n",
       "      <td>0</td>\n",
       "      <td>0</td>\n",
       "      <td>0</td>\n",
       "      <td>0</td>\n",
       "      <td>0</td>\n",
       "      <td>0</td>\n",
       "      <td>0</td>\n",
       "      <td>0</td>\n",
       "      <td>0</td>\n",
       "      <td>0</td>\n",
       "      <td>0</td>\n",
       "      <td>0</td>\n",
       "      <td>0</td>\n",
       "      <td>0</td>\n",
       "      <td>0</td>\n",
       "      <td>0</td>\n",
       "      <td>0</td>\n",
       "      <td>0</td>\n",
       "      <td>0</td>\n",
       "      <td>0</td>\n",
       "      <td>0</td>\n",
       "      <td>0</td>\n",
       "      <td>0</td>\n",
       "      <td>0</td>\n",
       "      <td>0</td>\n",
       "      <td>0</td>\n",
       "      <td>0</td>\n",
       "      <td>0</td>\n",
       "      <td>0</td>\n",
       "      <td>0</td>\n",
       "      <td>1</td>\n",
       "      <td>1</td>\n",
       "      <td>1</td>\n",
       "      <td>1</td>\n",
       "      <td>0</td>\n",
       "      <td>0</td>\n",
       "      <td>0</td>\n",
       "      <td>0</td>\n",
       "      <td>0</td>\n",
       "      <td>0</td>\n",
       "      <td>0</td>\n",
       "      <td>0</td>\n",
       "    </tr>\n",
       "    <tr>\n",
       "      <th>9</th>\n",
       "      <td>If How do you perceive the importance of the f...</td>\n",
       "      <td>0</td>\n",
       "      <td>0</td>\n",
       "      <td>0</td>\n",
       "      <td>0</td>\n",
       "      <td>0</td>\n",
       "      <td>0</td>\n",
       "      <td>0</td>\n",
       "      <td>0</td>\n",
       "      <td>0</td>\n",
       "      <td>0</td>\n",
       "      <td>0</td>\n",
       "      <td>0</td>\n",
       "      <td>0</td>\n",
       "      <td>0</td>\n",
       "      <td>0</td>\n",
       "      <td>0</td>\n",
       "      <td>0</td>\n",
       "      <td>0</td>\n",
       "      <td>0</td>\n",
       "      <td>0</td>\n",
       "      <td>0</td>\n",
       "      <td>0</td>\n",
       "      <td>0</td>\n",
       "      <td>0</td>\n",
       "      <td>0</td>\n",
       "      <td>0</td>\n",
       "      <td>0</td>\n",
       "      <td>0</td>\n",
       "      <td>0</td>\n",
       "      <td>0</td>\n",
       "      <td>0</td>\n",
       "      <td>0</td>\n",
       "      <td>0</td>\n",
       "      <td>0</td>\n",
       "      <td>0</td>\n",
       "      <td>0</td>\n",
       "      <td>0</td>\n",
       "      <td>0</td>\n",
       "      <td>0</td>\n",
       "      <td>0</td>\n",
       "      <td>0</td>\n",
       "      <td>0</td>\n",
       "      <td>0</td>\n",
       "      <td>1</td>\n",
       "      <td>0</td>\n",
       "      <td>1</td>\n",
       "      <td>0</td>\n",
       "      <td>0</td>\n",
       "      <td>0</td>\n",
       "      <td>0</td>\n",
       "      <td>0</td>\n",
       "    </tr>\n",
       "    <tr>\n",
       "      <th>10</th>\n",
       "      <td>If Which of the following cloud computing serv...</td>\n",
       "      <td>0</td>\n",
       "      <td>0</td>\n",
       "      <td>0</td>\n",
       "      <td>0</td>\n",
       "      <td>0</td>\n",
       "      <td>0</td>\n",
       "      <td>0</td>\n",
       "      <td>0</td>\n",
       "      <td>0</td>\n",
       "      <td>0</td>\n",
       "      <td>0</td>\n",
       "      <td>0</td>\n",
       "      <td>0</td>\n",
       "      <td>0</td>\n",
       "      <td>0</td>\n",
       "      <td>0</td>\n",
       "      <td>0</td>\n",
       "      <td>0</td>\n",
       "      <td>0</td>\n",
       "      <td>1</td>\n",
       "      <td>1</td>\n",
       "      <td>1</td>\n",
       "      <td>0</td>\n",
       "      <td>1</td>\n",
       "      <td>0</td>\n",
       "      <td>0</td>\n",
       "      <td>0</td>\n",
       "      <td>0</td>\n",
       "      <td>0</td>\n",
       "      <td>0</td>\n",
       "      <td>0</td>\n",
       "      <td>0</td>\n",
       "      <td>0</td>\n",
       "      <td>0</td>\n",
       "      <td>0</td>\n",
       "      <td>0</td>\n",
       "      <td>0</td>\n",
       "      <td>0</td>\n",
       "      <td>0</td>\n",
       "      <td>0</td>\n",
       "      <td>0</td>\n",
       "      <td>0</td>\n",
       "      <td>0</td>\n",
       "      <td>0</td>\n",
       "      <td>0</td>\n",
       "      <td>0</td>\n",
       "      <td>0</td>\n",
       "      <td>0</td>\n",
       "      <td>0</td>\n",
       "      <td>0</td>\n",
       "      <td>0</td>\n",
       "    </tr>\n",
       "    <tr>\n",
       "      <th>11</th>\n",
       "      <td>If On which online platforms have you begun or...</td>\n",
       "      <td>0</td>\n",
       "      <td>0</td>\n",
       "      <td>0</td>\n",
       "      <td>0</td>\n",
       "      <td>0</td>\n",
       "      <td>0</td>\n",
       "      <td>0</td>\n",
       "      <td>0</td>\n",
       "      <td>0</td>\n",
       "      <td>0</td>\n",
       "      <td>0</td>\n",
       "      <td>0</td>\n",
       "      <td>0</td>\n",
       "      <td>0</td>\n",
       "      <td>0</td>\n",
       "      <td>0</td>\n",
       "      <td>0</td>\n",
       "      <td>0</td>\n",
       "      <td>0</td>\n",
       "      <td>0</td>\n",
       "      <td>0</td>\n",
       "      <td>0</td>\n",
       "      <td>0</td>\n",
       "      <td>0</td>\n",
       "      <td>0</td>\n",
       "      <td>0</td>\n",
       "      <td>0</td>\n",
       "      <td>0</td>\n",
       "      <td>0</td>\n",
       "      <td>0</td>\n",
       "      <td>1</td>\n",
       "      <td>0</td>\n",
       "      <td>0</td>\n",
       "      <td>0</td>\n",
       "      <td>0</td>\n",
       "      <td>0</td>\n",
       "      <td>0</td>\n",
       "      <td>0</td>\n",
       "      <td>0</td>\n",
       "      <td>0</td>\n",
       "      <td>0</td>\n",
       "      <td>0</td>\n",
       "      <td>0</td>\n",
       "      <td>0</td>\n",
       "      <td>0</td>\n",
       "      <td>0</td>\n",
       "      <td>0</td>\n",
       "      <td>0</td>\n",
       "      <td>0</td>\n",
       "      <td>0</td>\n",
       "      <td>0</td>\n",
       "    </tr>\n",
       "  </tbody>\n",
       "</table>\n",
       "</div>"
      ],
      "text/plain": [
       "   2018 Kaggle Machine Learning and Data Science Survey  ... Time from Start to Finish (seconds)\n",
       "0                                           Question:    ...               Duration (in seconds)\n",
       "1                                   # of Respondents:    ...                               23860\n",
       "2   Who was excluded? (0 = not excluded; 1 = exclu...    ...                                   0\n",
       "3   If What is your age (# years)? 0-17 Is Selecte...    ...                                   0\n",
       "4   If What is the highest level of formal educati...    ...                                   0\n",
       "5   If Select the title most similar to your curre...    ...                                   0\n",
       "6   Or How long have you been writing code to anal...    ...                                   0\n",
       "7   If How do you perceive the importance of the f...    ...                                   0\n",
       "8   If How do you perceive the importance of the f...    ...                                   0\n",
       "9   If How do you perceive the importance of the f...    ...                                   0\n",
       "10  If Which of the following cloud computing serv...    ...                                   0\n",
       "11  If On which online platforms have you begun or...    ...                                   0\n",
       "\n",
       "[12 rows x 52 columns]"
      ]
     },
     "execution_count": 3,
     "metadata": {
      "tags": []
     },
     "output_type": "execute_result"
    }
   ],
   "source": [
    "# Finding source files\n",
    "\n",
    "survey = pd.read_csv(\"SurveySchema.csv\")\n",
    "survey"
   ]
  },
  {
   "cell_type": "code",
   "execution_count": 4,
   "metadata": {
    "id": "voZSPCwe60r3",
    "colab_type": "code",
    "colab": {
     "base_uri": "https://localhost:8080/",
     "height": 383.0
    },
    "outputId": "bf8c9d1d-9b7e-4729-cf6c-ff3a4a35d67d"
   },
   "outputs": [
    {
     "name": "stderr",
     "output_type": "stream",
     "text": [
      "/usr/local/lib/python3.6/dist-packages/IPython/core/interactiveshell.py:2718: DtypeWarning: Columns (25) have mixed types. Specify dtype option on import or set low_memory=False.\n",
      "  interactivity=interactivity, compiler=compiler, result=result)\n"
     ]
    },
    {
     "data": {
      "text/html": [
       "<div>\n",
       "<style scoped>\n",
       "    .dataframe tbody tr th:only-of-type {\n",
       "        vertical-align: middle;\n",
       "    }\n",
       "\n",
       "    .dataframe tbody tr th {\n",
       "        vertical-align: top;\n",
       "    }\n",
       "\n",
       "    .dataframe thead th {\n",
       "        text-align: right;\n",
       "    }\n",
       "</style>\n",
       "<table border=\"1\" class=\"dataframe\">\n",
       "  <thead>\n",
       "    <tr style=\"text-align: right;\">\n",
       "      <th></th>\n",
       "      <th>Q11_OTHER_TEXT</th>\n",
       "      <th>Q12_OTHER_TEXT</th>\n",
       "      <th>Q12_Part_1_TEXT</th>\n",
       "      <th>Q12_Part_2_TEXT</th>\n",
       "      <th>Q12_Part_3_TEXT</th>\n",
       "      <th>Q12_Part_4_TEXT</th>\n",
       "      <th>Q12_Part_5_TEXT</th>\n",
       "      <th>Q13_OTHER_TEXT</th>\n",
       "      <th>Q14_OTHER_TEXT</th>\n",
       "      <th>Q15_OTHER_TEXT</th>\n",
       "      <th>Q16_OTHER_TEXT</th>\n",
       "      <th>Q17_OTHER_TEXT</th>\n",
       "      <th>Q18_OTHER_TEXT</th>\n",
       "      <th>Q19_OTHER_TEXT</th>\n",
       "      <th>Q1_OTHER_TEXT</th>\n",
       "      <th>Q20_OTHER_TEXT</th>\n",
       "      <th>Q21_OTHER_TEXT</th>\n",
       "      <th>Q22_OTHER_TEXT</th>\n",
       "      <th>Q27_OTHER_TEXT</th>\n",
       "      <th>Q28_OTHER_TEXT</th>\n",
       "      <th>Q29_OTHER_TEXT</th>\n",
       "      <th>Q30_OTHER_TEXT</th>\n",
       "      <th>Q31_OTHER_TEXT</th>\n",
       "      <th>Q32_OTHER</th>\n",
       "      <th>Q33_OTHER_TEXT</th>\n",
       "      <th>Q34_OTHER_TEXT</th>\n",
       "      <th>Q35_OTHER_TEXT</th>\n",
       "      <th>Q36_OTHER_TEXT</th>\n",
       "      <th>Q37_OTHER_TEXT</th>\n",
       "      <th>Q38_OTHER_TEXT</th>\n",
       "      <th>Q42_OTHER_TEXT</th>\n",
       "      <th>Q49_OTHER_TEXT</th>\n",
       "      <th>Q50_OTHER_TEXT</th>\n",
       "      <th>Q6_OTHER_TEXT</th>\n",
       "      <th>Q7_OTHER_TEXT</th>\n",
       "    </tr>\n",
       "  </thead>\n",
       "  <tbody>\n",
       "    <tr>\n",
       "      <th>0</th>\n",
       "      <td>Select any activities that make up an importan...</td>\n",
       "      <td>What is the primary tool that you use at work ...</td>\n",
       "      <td>What is the primary tool that you use at work ...</td>\n",
       "      <td>What is the primary tool that you use at work ...</td>\n",
       "      <td>What is the primary tool that you use at work ...</td>\n",
       "      <td>What is the primary tool that you use at work ...</td>\n",
       "      <td>What is the primary tool that you use at work ...</td>\n",
       "      <td>Which of the following integrated development ...</td>\n",
       "      <td>Which of the following hosted notebooks have y...</td>\n",
       "      <td>Which of the following cloud computing service...</td>\n",
       "      <td>What programming languages do you use on a reg...</td>\n",
       "      <td>What specific programming language do you use ...</td>\n",
       "      <td>What programming language would you recommend ...</td>\n",
       "      <td>What machine learning frameworks have you used...</td>\n",
       "      <td>What is your gender? - Prefer to self-describe...</td>\n",
       "      <td>Of the choices that you selected in the previo...</td>\n",
       "      <td>What data visualization libraries or tools hav...</td>\n",
       "      <td>Of the choices that you selected in the previo...</td>\n",
       "      <td>Which of the following cloud computing product...</td>\n",
       "      <td>Which of the following machine learning produc...</td>\n",
       "      <td>Which of the following relational database pro...</td>\n",
       "      <td>Which of the following big data and analytics ...</td>\n",
       "      <td>Which types of data do you currently interact ...</td>\n",
       "      <td>What is the type of data that you currently in...</td>\n",
       "      <td>Where do you find public datasets? (Select all...</td>\n",
       "      <td>During a typical data science project at work ...</td>\n",
       "      <td>What percentage of your current machine learni...</td>\n",
       "      <td>On which online platforms have you begun or co...</td>\n",
       "      <td>On which online platform have you spent the mo...</td>\n",
       "      <td>Who/what are your favorite media sources that ...</td>\n",
       "      <td>What metrics do you or your organization use t...</td>\n",
       "      <td>What tools and methods do you use to make your...</td>\n",
       "      <td>What barriers prevent you from making your wor...</td>\n",
       "      <td>Select the title most similar to your current ...</td>\n",
       "      <td>In what industry is your current employer/cont...</td>\n",
       "    </tr>\n",
       "    <tr>\n",
       "      <th>1</th>\n",
       "      <td>NaN</td>\n",
       "      <td>NaN</td>\n",
       "      <td>NaN</td>\n",
       "      <td>NaN</td>\n",
       "      <td>NaN</td>\n",
       "      <td>Jupyter Notebooks, Pycharm, Intelijidea</td>\n",
       "      <td>NaN</td>\n",
       "      <td>NaN</td>\n",
       "      <td>NaN</td>\n",
       "      <td>NaN</td>\n",
       "      <td>NaN</td>\n",
       "      <td>NaN</td>\n",
       "      <td>NaN</td>\n",
       "      <td>NaN</td>\n",
       "      <td>NaN</td>\n",
       "      <td>NaN</td>\n",
       "      <td>NaN</td>\n",
       "      <td>NaN</td>\n",
       "      <td>NaN</td>\n",
       "      <td>NaN</td>\n",
       "      <td>NaN</td>\n",
       "      <td>NaN</td>\n",
       "      <td>NaN</td>\n",
       "      <td>NaN</td>\n",
       "      <td>NaN</td>\n",
       "      <td>0.0</td>\n",
       "      <td>NaN</td>\n",
       "      <td>mlcourse.ai</td>\n",
       "      <td>NaN</td>\n",
       "      <td>ods.ai</td>\n",
       "      <td>NaN</td>\n",
       "      <td>NaN</td>\n",
       "      <td>NaN</td>\n",
       "      <td>NaN</td>\n",
       "      <td>NaN</td>\n",
       "    </tr>\n",
       "    <tr>\n",
       "      <th>2</th>\n",
       "      <td>NaN</td>\n",
       "      <td>NaN</td>\n",
       "      <td>NaN</td>\n",
       "      <td>NaN</td>\n",
       "      <td>NaN</td>\n",
       "      <td>NaN</td>\n",
       "      <td>NaN</td>\n",
       "      <td>NaN</td>\n",
       "      <td>NaN</td>\n",
       "      <td>NaN</td>\n",
       "      <td>NaN</td>\n",
       "      <td>NaN</td>\n",
       "      <td>NaN</td>\n",
       "      <td>NaN</td>\n",
       "      <td>NaN</td>\n",
       "      <td>NaN</td>\n",
       "      <td>NaN</td>\n",
       "      <td>NaN</td>\n",
       "      <td>NaN</td>\n",
       "      <td>NaN</td>\n",
       "      <td>NaN</td>\n",
       "      <td>NaN</td>\n",
       "      <td>NaN</td>\n",
       "      <td>NaN</td>\n",
       "      <td>NaN</td>\n",
       "      <td>NaN</td>\n",
       "      <td>NaN</td>\n",
       "      <td>NaN</td>\n",
       "      <td>NaN</td>\n",
       "      <td>NaN</td>\n",
       "      <td>NaN</td>\n",
       "      <td>NaN</td>\n",
       "      <td>NaN</td>\n",
       "      <td>NaN</td>\n",
       "      <td>NaN</td>\n",
       "    </tr>\n",
       "    <tr>\n",
       "      <th>3</th>\n",
       "      <td>NaN</td>\n",
       "      <td>NaN</td>\n",
       "      <td>NaN</td>\n",
       "      <td>NaN</td>\n",
       "      <td>NaN</td>\n",
       "      <td>anaconda</td>\n",
       "      <td>NaN</td>\n",
       "      <td>NaN</td>\n",
       "      <td>NaN</td>\n",
       "      <td>NaN</td>\n",
       "      <td>NaN</td>\n",
       "      <td>NaN</td>\n",
       "      <td>NaN</td>\n",
       "      <td>NaN</td>\n",
       "      <td>NaN</td>\n",
       "      <td>NaN</td>\n",
       "      <td>NaN</td>\n",
       "      <td>NaN</td>\n",
       "      <td>NaN</td>\n",
       "      <td>NaN</td>\n",
       "      <td>NaN</td>\n",
       "      <td>NaN</td>\n",
       "      <td>NaN</td>\n",
       "      <td>NaN</td>\n",
       "      <td>NaN</td>\n",
       "      <td>0</td>\n",
       "      <td>NaN</td>\n",
       "      <td>NaN</td>\n",
       "      <td>NaN</td>\n",
       "      <td>NaN</td>\n",
       "      <td>NaN</td>\n",
       "      <td>NaN</td>\n",
       "      <td>NaN</td>\n",
       "      <td>NaN</td>\n",
       "      <td>NaN</td>\n",
       "    </tr>\n",
       "    <tr>\n",
       "      <th>4</th>\n",
       "      <td>NaN</td>\n",
       "      <td>NaN</td>\n",
       "      <td>NaN</td>\n",
       "      <td>NaN</td>\n",
       "      <td>NaN</td>\n",
       "      <td>NaN</td>\n",
       "      <td>NaN</td>\n",
       "      <td>NaN</td>\n",
       "      <td>NaN</td>\n",
       "      <td>NaN</td>\n",
       "      <td>NaN</td>\n",
       "      <td>NaN</td>\n",
       "      <td>NaN</td>\n",
       "      <td>NaN</td>\n",
       "      <td>NaN</td>\n",
       "      <td>NaN</td>\n",
       "      <td>NaN</td>\n",
       "      <td>NaN</td>\n",
       "      <td>NaN</td>\n",
       "      <td>NaN</td>\n",
       "      <td>NaN</td>\n",
       "      <td>NaN</td>\n",
       "      <td>NaN</td>\n",
       "      <td>NaN</td>\n",
       "      <td>NaN</td>\n",
       "      <td>NaN</td>\n",
       "      <td>NaN</td>\n",
       "      <td>NaN</td>\n",
       "      <td>NaN</td>\n",
       "      <td>NaN</td>\n",
       "      <td>NaN</td>\n",
       "      <td>NaN</td>\n",
       "      <td>NaN</td>\n",
       "      <td>NaN</td>\n",
       "      <td>NaN</td>\n",
       "    </tr>\n",
       "  </tbody>\n",
       "</table>\n",
       "</div>"
      ],
      "text/plain": [
       "                                      Q11_OTHER_TEXT  ...                                      Q7_OTHER_TEXT\n",
       "0  Select any activities that make up an importan...  ...  In what industry is your current employer/cont...\n",
       "1                                                NaN  ...                                                NaN\n",
       "2                                                NaN  ...                                                NaN\n",
       "3                                                NaN  ...                                                NaN\n",
       "4                                                NaN  ...                                                NaN\n",
       "\n",
       "[5 rows x 35 columns]"
      ]
     },
     "execution_count": 4,
     "metadata": {
      "tags": []
     },
     "output_type": "execute_result"
    }
   ],
   "source": [
    "# Finding Source Files in my drive\n",
    "\n",
    "freeform = pd.read_csv('freeFormResponses.csv')\n",
    "freeform.head()"
   ]
  },
  {
   "cell_type": "markdown",
   "metadata": {
    "id": "X9W4hfN-OSyO",
    "colab_type": "text"
   },
   "source": [
    "# Data Cleaning\n",
    "\n",
    "\n",
    "---\n",
    "\n"
   ]
  },
  {
   "cell_type": "code",
   "execution_count": 5,
   "metadata": {
    "id": "91v5XPMC67U6",
    "colab_type": "code",
    "colab": {
     "base_uri": "https://localhost:8080/",
     "height": 70.0
    },
    "outputId": "5c1afb69-595c-47cd-c689-eb47e5af502a"
   },
   "outputs": [
    {
     "name": "stderr",
     "output_type": "stream",
     "text": [
      "/usr/local/lib/python3.6/dist-packages/IPython/core/interactiveshell.py:2718: DtypeWarning: Columns (0,2,8,10,21,23,24,25,26,27,28,44,56,64,83,85,87,107,109,123,125,150,157,172,174,194,210,218,219,223,246,249,262,264,276,277,278,279,280,281,282,283,284,285,286,287,288,289,290,304,306,325,326,329,341,368,371,384,385,389,390,391,393,394) have mixed types. Specify dtype option on import or set low_memory=False.\n",
      "  interactivity=interactivity, compiler=compiler, result=result)\n"
     ]
    }
   ],
   "source": [
    "multiple = pd.read_csv('multipleChoiceResponses.csv')\n",
    "income = multiple[['Q1', 'Q2', 'Q9']]\n",
    "\n",
    "columns = ['Gender', 'Age', 'Income'] \n",
    "income = income[1:] \n",
    "income.columns = columns #set the header row as the df header\n",
    "\n",
    "no_age = income[['Gender', 'Income']]\n",
    "no_age = no_age[no_age['Income'].notnull()]\n",
    "no_age = no_age[no_age['Income'] != 'I do not wish to disclose my approximate yearly compensation']\n",
    "no_age = no_age[no_age['Gender'] != 'Prefer not to say']\n",
    "no_age = no_age[no_age['Gender'] != 'Prefer to self-describe']\n",
    "\n",
    "\n",
    "\n",
    "# new data frame with split value columns \n",
    "calc = no_age[\"Income\"].str.split(\"-\", n = 1, expand = True) \n",
    "calc[0] = calc[0].map(lambda x: x.rstrip('+')) \n",
    "calc[0] = calc[0].str.replace(',', '')\n",
    "calc[1] = calc[1].str.replace(',', '')\n",
    "\n",
    "calc[[0, 1]] = calc[[0, 1]].apply(pd.to_numeric, errors='coerce')\n",
    "calc[0] = calc[0] * 1000                    # This will be a little glitchy for the 500K values, but we'll fix it later.\n",
    "calc['Income'] = calc[[0,1]].mean(axis=1)   # Taking the average for a numberic value we can work with\n",
    "calc.loc[calc['Income'] > 499999999, 'Income'] = 500000   # Fixing the 500K issue"
   ]
  },
  {
   "cell_type": "markdown",
   "metadata": {
    "id": "84QXcIIzOHfR",
    "colab_type": "text"
   },
   "source": [
    "#1. Median Incomes of Male and Female Employees\n",
    "\n",
    "\n",
    "---\n",
    "Calculate the median income of male employees and the median income of female employees in the population. (look the set of all employees in the datasets as the population). (1 point)\n"
   ]
  },
  {
   "cell_type": "code",
   "execution_count": 6,
   "metadata": {
    "id": "UUhtYbyMOHAF",
    "colab_type": "code",
    "colab": {
     "base_uri": "https://localhost:8080/",
     "height": 106.0
    },
    "outputId": "be365d09-d2c6-44d9-bdf7-f7e69f34eb56"
   },
   "outputs": [
    {
     "data": {
      "text/html": [
       "<div>\n",
       "<style scoped>\n",
       "    .dataframe tbody tr th:only-of-type {\n",
       "        vertical-align: middle;\n",
       "    }\n",
       "\n",
       "    .dataframe tbody tr th {\n",
       "        vertical-align: top;\n",
       "    }\n",
       "\n",
       "    .dataframe thead th {\n",
       "        text-align: right;\n",
       "    }\n",
       "</style>\n",
       "<table border=\"1\" class=\"dataframe\">\n",
       "  <thead>\n",
       "    <tr style=\"text-align: right;\">\n",
       "      <th></th>\n",
       "      <th>Gender</th>\n",
       "      <th>Income</th>\n",
       "    </tr>\n",
       "  </thead>\n",
       "  <tbody>\n",
       "    <tr>\n",
       "      <th>0</th>\n",
       "      <td>Female</td>\n",
       "      <td>25000.0</td>\n",
       "    </tr>\n",
       "    <tr>\n",
       "      <th>1</th>\n",
       "      <td>Male</td>\n",
       "      <td>35000.0</td>\n",
       "    </tr>\n",
       "  </tbody>\n",
       "</table>\n",
       "</div>"
      ],
      "text/plain": [
       "   Gender   Income\n",
       "0  Female  25000.0\n",
       "1    Male  35000.0"
      ]
     },
     "execution_count": 6,
     "metadata": {
      "tags": []
     },
     "output_type": "execute_result"
    }
   ],
   "source": [
    "no_age['Income'] = calc['Income'] # Inserting our calculated values back into our original dataframe\n",
    "groups = no_age.groupby('Gender')['Income'].median().to_frame().reset_index()\n",
    "groups.head() # Displaying our medians"
   ]
  },
  {
   "cell_type": "markdown",
   "metadata": {
    "id": "pRC7tP8nOiAX",
    "colab_type": "text"
   },
   "source": [
    "# 2. Histogram of Incomes Based on Gender\n",
    "\n",
    "\n",
    "---\n",
    "Draw an overlaid graph to show the histograms of the incomes of female and male employees in the population. (You create one histogram for male, and another histogram\n",
    "for female, but the two histograms will be displayed in the same graph with different\n",
    "colors). (1 point)\n",
    "\n"
   ]
  },
  {
   "cell_type": "code",
   "execution_count": 8,
   "metadata": {
    "id": "txPRuNBNO6Tg",
    "colab_type": "code",
    "colab": {
     "base_uri": "https://localhost:8080/",
     "height": 372.0
    },
    "outputId": "7b64bdc5-b31d-4b73-da07-83f6a76752f5"
   },
   "outputs": [
    {
     "data": {
      "text/html": [
       "<table border=\"1\" class=\"dataframe\">\n",
       "    <thead>\n",
       "        <tr>\n",
       "            <th>Gender</th> <th>Income</th>\n",
       "        </tr>\n",
       "    </thead>\n",
       "    <tbody>\n",
       "        <tr>\n",
       "            <td>Male  </td> <td>15000 </td>\n",
       "        </tr>\n",
       "        <tr>\n",
       "            <td>Female</td> <td>5000  </td>\n",
       "        </tr>\n",
       "        <tr>\n",
       "            <td>Male  </td> <td>5000  </td>\n",
       "        </tr>\n",
       "        <tr>\n",
       "            <td>Male  </td> <td>15000 </td>\n",
       "        </tr>\n",
       "        <tr>\n",
       "            <td>Male  </td> <td>5000  </td>\n",
       "        </tr>\n",
       "        <tr>\n",
       "            <td>Male  </td> <td>25000 </td>\n",
       "        </tr>\n",
       "        <tr>\n",
       "            <td>Male  </td> <td>137500</td>\n",
       "        </tr>\n",
       "        <tr>\n",
       "            <td>Male  </td> <td>35000 </td>\n",
       "        </tr>\n",
       "        <tr>\n",
       "            <td>Male  </td> <td>35000 </td>\n",
       "        </tr>\n",
       "        <tr>\n",
       "            <td>Female</td> <td>15000 </td>\n",
       "        </tr>\n",
       "    </tbody>\n",
       "</table>\n",
       "<p>... (15236 rows omitted)</p>"
      ],
      "text/plain": [
       "Gender | Income\n",
       "Male   | 15000\n",
       "Female | 5000\n",
       "Male   | 5000\n",
       "Male   | 15000\n",
       "Male   | 5000\n",
       "Male   | 25000\n",
       "Male   | 137500\n",
       "Male   | 35000\n",
       "Male   | 35000\n",
       "Female | 15000\n",
       "... (15236 rows omitted)"
      ]
     },
     "execution_count": 8,
     "metadata": {
      "tags": []
     },
     "output_type": "execute_result"
    }
   ],
   "source": [
    "# Switching over to DataScience for the rest of this assignment, since the process is so simple.\n",
    "no_age.to_csv('gender_income.csv')\n",
    "\n",
    "income = Table.read_table('gender_income.csv')\n",
    "income = income.select('Gender', 'Income')\n",
    "income"
   ]
  },
  {
   "cell_type": "code",
   "execution_count": 10,
   "metadata": {
    "id": "BBZUcJt8R-Sy",
    "colab_type": "code",
    "colab": {
     "base_uri": "https://localhost:8080/",
     "height": 289.0
    },
    "outputId": "0e81c3bc-fafd-4297-be86-054deccfda55"
   },
   "outputs": [
    {
     "data": {
      "image/png": "[encoded data removed]",
      "text/plain": [
       "<Figure size 432x288 with 1 Axes>"
      ]
     },
     "metadata": {
      "tags": []
     },
     "output_type": "display_data"
    }
   ],
   "source": [
    "fullbins = np.arange(0,500000,50000)\n",
    "income.hist('Income', group = 'Gender', bins = fullbins)"
   ]
  },
  {
   "cell_type": "markdown",
   "metadata": {
    "id": "GhQwcEdsSEch",
    "colab_type": "text"
   },
   "source": [
    "We can't tell much about the separate parts of the distribution fron this graph, so let's zoom in:"
   ]
  },
  {
   "cell_type": "code",
   "execution_count": 11,
   "metadata": {
    "id": "_z6fhHrFQ5CW",
    "colab_type": "code",
    "colab": {
     "base_uri": "https://localhost:8080/",
     "height": 290.0
    },
    "outputId": "6fb5b0e5-a195-4c59-ad91-06497017771a"
   },
   "outputs": [
    {
     "data": {
      "image/png": "[encoded data removed]",
      "text/plain": [
       "<Figure size 432x288 with 1 Axes>"
      ]
     },
     "metadata": {
      "tags": []
     },
     "output_type": "display_data"
    }
   ],
   "source": [
    "bins = np.arange(0,200000,20000)\n",
    "income.hist('Income', group = 'Gender', bins = bins)"
   ]
  },
  {
   "cell_type": "markdown",
   "metadata": {
    "id": "3dyHvYvm72Yw",
    "colab_type": "text"
   },
   "source": [
    "It seems that there are more women than men who make from between 0 - 20000 per year, while there are more men than women who make 160000 - 180000. "
   ]
  },
  {
   "cell_type": "code",
   "execution_count": 12,
   "metadata": {
    "id": "iTjbE3lvRjfs",
    "colab_type": "code",
    "colab": {
     "base_uri": "https://localhost:8080/",
     "height": 290.0
    },
    "outputId": "ba0e4ed0-b693-4c73-f206-4a8711097e0b"
   },
   "outputs": [
    {
     "data": {
      "image/png": "[encoded data removed]",
      "text/plain": [
       "<Figure size 432x288 with 1 Axes>"
      ]
     },
     "metadata": {
      "tags": []
     },
     "output_type": "display_data"
    }
   ],
   "source": [
    "bigbins = np.arange(200000,500000,40000)\n",
    "income.hist('Income', group = 'Gender', bins = bigbins)"
   ]
  },
  {
   "cell_type": "markdown",
   "metadata": {
    "id": "MxypJyxN8DkM",
    "colab_type": "text"
   },
   "source": [
    "# 3. Bootstrapping and Sampling\n",
    "\n",
    "\n",
    "---\n",
    "Use the random sampling, empirical distribution, sample comparison, bootstrap, hypothesis testing as well as A/B testing we discussed in the class to analyze the income gap between female and male employees.\n",
    "\n",
    "* Select a sample from the population. Make sure your sample include 500 employees selected from the population, and consider how to ensure the sampling strategy is fair since the datasets include overwhelmed male employees than female employees (1 point).\n",
    "\n"
   ]
  },
  {
   "cell_type": "code",
   "execution_count": 13,
   "metadata": {
    "id": "MP9pFKkF8cbp",
    "colab_type": "code",
    "colab": {
     "base_uri": "https://localhost:8080/",
     "height": 34.0
    },
    "outputId": "9019c621-43d6-4f36-f4c1-427eb31dd308"
   },
   "outputs": [
    {
     "name": "stdout",
     "output_type": "stream",
     "text": [
      "15.6 % women, 84.4 % men\n"
     ]
    }
   ],
   "source": [
    "# First, let's see how many more men than women are in our dataset\n",
    "women = income.where('Gender', 'Female')\n",
    "men = income.where('Gender', 'Male')\n",
    "print(np.round((women.num_rows/income.num_rows)*100, decimals=1), \"% women,\", np.round((men.num_rows/income.num_rows)*100, decimals=1), \"% men\")\n",
    "\n",
    "# We should expect to see a similar distribution in a sample. We'll round off to 16% women and 84% men."
   ]
  },
  {
   "cell_type": "code",
   "execution_count": 16,
   "metadata": {
    "id": "Rhlv9kO6CIjm",
    "colab_type": "code",
    "colab": {
     "base_uri": "https://localhost:8080/",
     "height": 34.0
    },
    "outputId": "88bab0fc-9722-42c2-a70a-86235a600ac7"
   },
   "outputs": [
    {
     "name": "stdout",
     "output_type": "stream",
     "text": [
      "15.6\n"
     ]
    }
   ],
   "source": [
    "#Grabbing a sample 0f 500\n",
    "\n",
    "def sample_pop(n):\n",
    "    sample = income.sample(n)\n",
    "    women = sample.where('Gender', 'Female')\n",
    "    print(np.round((women.num_rows/sample.num_rows)*100, decimals=1))\n",
    "\n",
    "sample_pop(500)"
   ]
  },
  {
   "cell_type": "code",
   "execution_count": 17,
   "metadata": {
    "id": "D_U1120jGUAJ",
    "colab_type": "code",
    "colab": {
     "base_uri": "https://localhost:8080/",
     "height": 281.0
    },
    "outputId": "a5cbc27e-1fbe-4693-c771-63eb05356349"
   },
   "outputs": [
    {
     "data": {
      "image/png": "[encoded data removed]",
      "text/plain": [
       "<Figure size 432x288 with 1 Axes>"
      ]
     },
     "metadata": {
      "tags": []
     },
     "output_type": "display_data"
    }
   ],
   "source": [
    "# We can follow the steps outlined in the book to make sure, statistically, \n",
    "# that the sample we collect will fall within a normal distribution given the skewed ratio of women to men.\n",
    "\n",
    "women_to_men = [0.16, 0.84]\n",
    "\n",
    "# Looking at the proportion of women in one sample of 500\n",
    "def measure():\n",
    "  return (100 * sample_proportions(500, women_to_men)).item(0)\n",
    "\n",
    "# Using a function to look at this proportion 10000 times, and visualizing it\n",
    "counts = make_array()\n",
    "\n",
    "repetitions = 10000\n",
    "for i in np.arange(repetitions):\n",
    "    counts = np.append(counts, measure())\n",
    "\n",
    "Table().with_column('Sample Count of Women', counts).hist(bins = np.arange(8, 25, 1))\n",
    "plt.scatter(15.6, 0, color='red', s=50);"
   ]
  },
  {
   "cell_type": "markdown",
   "metadata": {
    "id": "HQdEHwzqJyaa",
    "colab_type": "text"
   },
   "source": [
    "To ensure that our sample is representative of the general population, we will need to grab a large number of samples using the parameters of the distribution, as seen above.\n",
    "\n",
    "\n",
    "\n",
    "---\n",
    "\n",
    "\n",
    "\n",
    "* Define test statistic, null hypothesis and alternative hypothesis (1 point).\n",
    "\n",
    " * Our test statistic can be the difference between the mean income of men and women. \n",
    " * The null hypothesis would be that there is no difference in income between men and women in the population.\n",
    " * The alternative hypothesis would be that there is a statistically significant difference between these two groups."
   ]
  },
  {
   "cell_type": "markdown",
   "metadata": {
    "id": "4CxQd-OeIkCW",
    "colab_type": "text"
   },
   "source": [
    "\n",
    "\n",
    "---\n",
    "\n",
    "\n",
    "* Draw the income histogram for the sample, calculate the median income of the sample, and draw a red dot and a yellow dot of the female median income and male median income of the population, respectively, in the histogram (1 point).\n",
    "\n"
   ]
  },
  {
   "cell_type": "code",
   "execution_count": 18,
   "metadata": {
    "id": "JwE4WwZQMzf-",
    "colab_type": "code",
    "colab": {
     "base_uri": "https://localhost:8080/",
     "height": 341.0
    },
    "outputId": "a6b0799e-532b-4ac6-dd9a-0a2d3617339c"
   },
   "outputs": [
    {
     "name": "stdout",
     "output_type": "stream",
     "text": [
      "The median income of the sample is 35000.0 \n",
      "\n"
     ]
    },
    {
     "data": {
      "text/plain": [
       "<matplotlib.collections.PathCollection at 0x7f85480b3908>"
      ]
     },
     "execution_count": 18,
     "metadata": {
      "tags": []
     },
     "output_type": "execute_result"
    },
    {
     "data": {
      "image/png": "[encoded data removed]",
      "text/plain": [
       "<Figure size 432x288 with 1 Axes>"
      ]
     },
     "metadata": {
      "tags": []
     },
     "output_type": "display_data"
    }
   ],
   "source": [
    "# Getting the sample median and graphing the sample\n",
    "def sample_pop(n):\n",
    "    sample = income.sample(n)\n",
    "    sample.hist(group = 'Gender', bins = bins)\n",
    "    sample_median = sample.column('Income')\n",
    "    print(\"The median income of the sample is\",np.median(sample_median),\"\\n\")\n",
    "\n",
    "sample_pop(500)\n",
    "\n",
    "# Female median and male median income drawn onto the histogram, respectively.\n",
    "plt.scatter(25000,0, s=100, c='y')\n",
    "plt.scatter(35000,0, s=100, c='r')"
   ]
  },
  {
   "cell_type": "markdown",
   "metadata": {
    "id": "qOHAeQcNQd8i",
    "colab_type": "text"
   },
   "source": [
    "\n",
    "\n",
    "---\n",
    "\n",
    "\n",
    "* Draw the histogram of the test statistic of the sample, and draw a red dot to show the corresponding test statistic of the population(e.g. the difference of the median incomes between female and male employees) in the diagram (1 point)."
   ]
  },
  {
   "cell_type": "code",
   "execution_count": 0,
   "metadata": {
    "id": "3Y2pDwmuQnIr",
    "colab_type": "code",
    "colab": {}
   },
   "outputs": [],
   "source": [
    "def sample_stat():\n",
    "    sample = income.sample(5000)\n",
    "    men = sample.where('Gender', 'Male')\n",
    "    men = men.column('Income')\n",
    "    women = sample.where('Gender', 'Female')\n",
    "    women = women.column('Income')\n",
    "\n",
    "    \n",
    "    sample_test_statistic = np.mean(men) - np.mean(women) # We will choose to subtract women from men\n",
    "    return sample_test_statistic\n"
   ]
  },
  {
   "cell_type": "code",
   "execution_count": 20,
   "metadata": {
    "id": "BXEYu7760WlY",
    "colab_type": "code",
    "colab": {
     "base_uri": "https://localhost:8080/",
     "height": 34.0
    },
    "outputId": "ddc82b4b-9440-4a6f-fdcb-08d7f9dd6c42"
   },
   "outputs": [
    {
     "name": "stdout",
     "output_type": "stream",
     "text": [
      "Our population test statistic — the mean difference between male and female incomes, is 6559.43 dollars.\n"
     ]
    }
   ],
   "source": [
    "# I was previously using the median between the genders in the population, so let's calculate the population test statistic real quick\n",
    "\n",
    "men_pop = income.where('Gender', 'Male')\n",
    "men_pop = men_pop.column('Income')\n",
    "women_pop = income.where('Gender', 'Female')\n",
    "women_pop = women_pop.column('Income')\n",
    "\n",
    "population_test_statistic = np.mean(men_pop) - np.mean(women_pop)\n",
    "print(\"Our population test statistic — the mean difference between male and female incomes, is\",np.round(population_test_statistic,2), \"dollars.\")"
   ]
  },
  {
   "cell_type": "code",
   "execution_count": 21,
   "metadata": {
    "id": "Z7P3Pw_Ayozn",
    "colab_type": "code",
    "colab": {
     "base_uri": "https://localhost:8080/",
     "height": 281.0
    },
    "outputId": "bf58b79d-fb4e-404a-ed6c-68e381e5a3c7"
   },
   "outputs": [
    {
     "data": {
      "image/png": "[encoded data removed]",
      "text/plain": [
       "<Figure size 432x288 with 1 Axes>"
      ]
     },
     "metadata": {
      "tags": []
     },
     "output_type": "display_data"
    }
   ],
   "source": [
    "# Using a function to look at the sample statistic 10000 times, and visualizing it\n",
    "counts = make_array()\n",
    "\n",
    "repetitions = 10000\n",
    "for i in np.arange(repetitions):\n",
    "    counts = np.append(counts, sample_stat())\n",
    "\n",
    "counts_table = Table().with_column('Sample Differences between Mean Incomes', counts)\n",
    "counts_table.hist(bins = np.arange(-2500, 15000, 1000))\n",
    "plt.scatter(population_test_statistic, 0, color='red', s=100);"
   ]
  },
  {
   "cell_type": "markdown",
   "metadata": {
    "id": "5QvR2jSi1fhR",
    "colab_type": "text"
   },
   "source": [
    "\n",
    "\n",
    "---\n",
    "\n",
    "\n",
    "* Write a procedure to use bootstrap to produce at least 5000 samples (1 point)"
   ]
  },
  {
   "cell_type": "code",
   "execution_count": 0,
   "metadata": {
    "id": "JlxN2knY4L8n",
    "colab_type": "code",
    "colab": {}
   },
   "outputs": [],
   "source": [
    "sample = counts_table.sample(5000) # Grabbing a sample of counts.\n",
    "\n",
    "def bootstrap_mean(sample, label, replications):\n",
    "    \"\"\"Returns an array of bootstrapped sample medians:\n",
    "    sample: table containing the original sample\n",
    "    label: label of column containing the variable\n",
    "    replications: number of bootstrap samples\n",
    "    \"\"\"\n",
    "    just_one_column = sample.select(label)\n",
    "    means = make_array()\n",
    "    for i in np.arange(replications):\n",
    "        bootstrap_sample = just_one_column.sample()\n",
    "        resampled_mean = np.mean(bootstrap_sample.column(0))\n",
    "        means = np.append(means, resampled_mean)\n",
    "        \n",
    "    return means\n",
    "\n",
    "bootstrap = bootstrap_mean(sample, 'Sample Differences between Mean Incomes', 5000)\n"
   ]
  },
  {
   "cell_type": "markdown",
   "metadata": {
    "id": "5yZYYJTz595X",
    "colab_type": "text"
   },
   "source": [
    "\n",
    "\n",
    "---\n",
    "\n",
    "\n",
    "* Draw the histogram of the test statistic of the bootstrap samples (1 point)."
   ]
  },
  {
   "cell_type": "code",
   "execution_count": 23,
   "metadata": {
    "id": "AEEoah6X6B-u",
    "colab_type": "code",
    "colab": {
     "base_uri": "https://localhost:8080/",
     "height": 281.0
    },
    "outputId": "073bdab9-2676-41c8-b5b7-4d88bd493faa"
   },
   "outputs": [
    {
     "data": {
      "image/png": "[encoded data removed]",
      "text/plain": [
       "<Figure size 432x288 with 1 Axes>"
      ]
     },
     "metadata": {
      "tags": []
     },
     "output_type": "display_data"
    }
   ],
   "source": [
    "resampled_medians = Table().with_column('Bootstrap Sample Mean', bootstrap)\n",
    "resampled_medians.hist()\n",
    "\n",
    "plt.scatter(population_test_statistic, 0, color='red', s=100);"
   ]
  },
  {
   "cell_type": "markdown",
   "metadata": {
    "id": "UheQRZYi6Cp-",
    "colab_type": "text"
   },
   "source": [
    "\n",
    "\n",
    "---\n",
    "\n",
    "\n",
    "* Define confidence interval and P-value to validate the hypothesis you defined (2 points)."
   ]
  },
  {
   "cell_type": "code",
   "execution_count": 28,
   "metadata": {
    "id": "XB0WlCu26H6A",
    "colab_type": "code",
    "colab": {
     "base_uri": "https://localhost:8080/",
     "height": 34.0
    },
    "outputId": "bcb1fee9-7301-4262-f866-4d06f87b73c4"
   },
   "outputs": [
    {
     "data": {
      "text/plain": [
       "array([6496.25, 6615.01])"
      ]
     },
     "execution_count": 28,
     "metadata": {
      "tags": []
     },
     "output_type": "execute_result"
    }
   ],
   "source": [
    "# We define our confidence interval by looking at the middle 95% of the bootstrapped sample means:\n",
    "\n",
    "lbound = np.round(percentile(2.5, bootstrap), 2)\n",
    "rbound = np.round(percentile(97.5, bootstrap), 2)\n",
    "\n",
    "make_array(lbound, rbound)"
   ]
  },
  {
   "cell_type": "code",
   "execution_count": 32,
   "metadata": {
    "id": "dWubITPqqiI9",
    "colab_type": "code",
    "colab": {
     "base_uri": "https://localhost:8080/",
     "height": 281.0
    },
    "outputId": "7c83f66c-f463-4c04-c68b-ef645d441c4b"
   },
   "outputs": [
    {
     "data": {
      "image/png": "[encoded data removed]",
      "text/plain": [
       "<Figure size 432x288 with 1 Axes>"
      ]
     },
     "metadata": {
      "tags": []
     },
     "output_type": "display_data"
    }
   ],
   "source": [
    "# We can draw the confidence interval onto the bootstrapped means histogram as well.\n",
    "# This means 95 out of 100 times, we can say that a sample taken from the population\n",
    "# will have a test statistic (difference between the mean of men's and women's incomes)\n",
    "# between $6496 and $6615\n",
    "\n",
    "# I am using a 95% cutoff for the p-value (p = .05), but even if I were using a 99% confidence interval,\n",
    "# the null hypothesis would be rejected.\n",
    "\n",
    "resampled_medians.hist()\n",
    "plt.plot(make_array(lbound, rbound), make_array(0, 0), color='yellow', lw=3);\n",
    "plt.scatter(population_test_statistic, 0, color='red', s=100);"
   ]
  }
 ],
 "metadata": {
  "colab": {
   "name": "MaiaPetee_Assignment4.ipynb",
   "provenance": []
  },
  "kernelspec": {
   "name": "python3",
   "display_name": "Python 3"
  }
 },
 "nbformat": 4,
 "nbformat_minor": 0
}
