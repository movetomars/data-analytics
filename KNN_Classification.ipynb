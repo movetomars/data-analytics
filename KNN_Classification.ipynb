{
 "cells": [
  {
   "cell_type": "markdown",
   "metadata": {
    "id": "_fvMC628kq6_",
    "colab_type": "text"
   },
   "source": [
    "Maia Petee\n",
    "\n",
    "INFO 5502\n",
    "\n",
    "# Classification: Assignment 7\n",
    "\n",
    "\n",
    "---\n",
    "*In this assignment, you are going to implement a KNN classifier for the dataset and validate your results.*\n",
    "\n",
    "\n",
    "\n",
    "\n",
    "Download the iris data (https://scikit-learn.org/stable/modules/generated/sklearn.datasets.load_iris.html#sklearn.datasets.load_iris (Links to an external site.))"
   ]
  },
  {
   "cell_type": "code",
   "execution_count": 58,
   "metadata": {
    "id": "3UUEf_hikZH4",
    "colab_type": "code",
    "outputId": "2c860341-e9ca-41f9-8211-5b773442f137",
    "executionInfo": {
     "status": "ok",
     "timestamp": 1.574546472084E12,
     "user_tz": 360.0,
     "elapsed": 408.0,
     "user": {
      "displayName": "Maia Moates",
      "photoUrl": "https://lh3.googleusercontent.com/a-/AAuE7mDW_yClmp-gJi_Z1AWbCyWCntVNwcr71h66Jn30=s64",
      "userId": "15101627877046735614"
     }
    },
    "colab": {
     "base_uri": "https://localhost:8080/",
     "height": 185.0
    }
   },
   "outputs": [
    {
     "name": "stdout",
     "output_type": "stream",
     "text": [
      "['sepal length (cm)', 'sepal width (cm)', 'petal length (cm)', 'petal width (cm)'] [[5.1 3.5 1.4 0.2]\n",
      " [4.9 3.  1.4 0.2]\n",
      " [4.7 3.2 1.3 0.2]\n",
      " [4.6 3.1 1.5 0.2]\n",
      " [5.  3.6 1.4 0.2]\n",
      " [5.4 3.9 1.7 0.4]\n",
      " [4.6 3.4 1.4 0.3]\n",
      " [5.  3.4 1.5 0.2]\n",
      " [4.4 2.9 1.4 0.2]\n",
      " [4.9 3.1 1.5 0.1]]\n"
     ]
    }
   ],
   "source": [
    "import numpy as np\n",
    "import sklearn\n",
    "from sklearn import datasets\n",
    "%matplotlib inline\n",
    "import matplotlib.pyplot as plt\n",
    "\n",
    "from sklearn import model_selection\n",
    "from sklearn.model_selection import train_test_split\n",
    "from sklearn.neighbors import KNeighborsClassifier\n",
    "from sklearn import metrics\n",
    "\n",
    "iris = sklearn.datasets.load_iris()\n",
    "print(iris.feature_names, iris.data[:10]) # Getting a look at the feature names and the first ten rows (individuals) of our 150-row dataset"
   ]
  },
  {
   "cell_type": "code",
   "execution_count": 0,
   "metadata": {
    "id": "uP73uaYj8qkd",
    "colab_type": "code",
    "colab": {}
   },
   "outputs": [],
   "source": [
    "x, y = iris.data, iris.target # Here x is the features of each flower, and y is the target - the gold standard species classification based on these traits.\n",
    "x_train, x_test, y_train, y_test = train_test_split(x, y, test_size=0.4, random_state=4) # We will use 60% of the data for training and 40% for testing"
   ]
  },
  {
   "cell_type": "markdown",
   "metadata": {
    "id": "lDISnc7jk5Iq",
    "colab_type": "text"
   },
   "source": [
    "Apply K-nearest-neighbor algorithm in iris classification;"
   ]
  },
  {
   "cell_type": "code",
   "execution_count": 55,
   "metadata": {
    "id": "PZW-vDuAk8_x",
    "colab_type": "code",
    "colab": {
     "base_uri": "https://localhost:8080/",
     "height": 336.0
    },
    "outputId": "ee3d5b07-c08d-45cf-ec4f-7144ee8386ad",
    "executionInfo": {
     "status": "ok",
     "timestamp": 1.574544968383E12,
     "user_tz": 360.0,
     "elapsed": 558.0,
     "user": {
      "displayName": "Maia Moates",
      "photoUrl": "https://lh3.googleusercontent.com/a-/AAuE7mDW_yClmp-gJi_Z1AWbCyWCntVNwcr71h66Jn30=s64",
      "userId": "15101627877046735614"
     }
    }
   },
   "outputs": [
    {
     "name": "stdout",
     "output_type": "stream",
     "text": [
      "When k is equal to 1 accuracy is at 95.0 percent.\n",
      "When k is equal to 2 accuracy is at 95.0 percent.\n",
      "When k is equal to 3 accuracy is at 96.67 percent.\n",
      "When k is equal to 4 accuracy is at 96.67 percent.\n",
      "When k is equal to 5 accuracy is at 96.67 percent.\n",
      "When k is equal to 6 accuracy is at 98.33 percent.\n",
      "When k is equal to 7 accuracy is at 98.33 percent.\n",
      "When k is equal to 8 accuracy is at 98.33 percent.\n",
      "When k is equal to 9 accuracy is at 98.33 percent.\n",
      "When k is equal to 10 accuracy is at 98.33 percent.\n",
      "When k is equal to 11 accuracy is at 98.33 percent.\n",
      "When k is equal to 12 accuracy is at 98.33 percent.\n",
      "When k is equal to 13 accuracy is at 98.33 percent.\n",
      "When k is equal to 14 accuracy is at 98.33 percent.\n",
      "When k is equal to 15 accuracy is at 98.33 percent.\n",
      "When k is equal to 16 accuracy is at 98.33 percent.\n",
      "When k is equal to 17 accuracy is at 98.33 percent.\n",
      "When k is equal to 18 accuracy is at 96.67 percent.\n",
      "When k is equal to 19 accuracy is at 98.33 percent.\n"
     ]
    }
   ],
   "source": [
    "# To decide the best k value we can look at a range of k values and estimate the accuracy of each one.\n",
    "# The default KNN supplied by SciKit Learn uses 5 as a default k value\n",
    "# We will examine k from 1 to 20.\n",
    "\n",
    "possible_ks = np.arange(1, 20, 1)\n",
    "scores = {}\n",
    "score_list = []\n",
    "\n",
    "for k in possible_ks:\n",
    "  knn = KNeighborsClassifier(n_neighbors=k)\n",
    "  knn.fit(x_train, y_train)\n",
    "  predict = knn.predict(x_test)\n",
    "  scores[k] = metrics.accuracy_score(y_test, predict)\n",
    "  print(\"When k is equal to\",k,\"accuracy is at\", np.round(scores[k]*100, 2), \"percent.\")\n",
    "  score_list.append(metrics.accuracy_score(y_test, predict))"
   ]
  },
  {
   "cell_type": "markdown",
   "metadata": {
    "id": "-uzaYq-qk9pq",
    "colab_type": "text"
   },
   "source": [
    "Decide the best K value in this problem and give a brief explanation; "
   ]
  },
  {
   "cell_type": "code",
   "execution_count": 56,
   "metadata": {
    "id": "FDIPgiGUk-YS",
    "colab_type": "code",
    "colab": {
     "base_uri": "https://localhost:8080/",
     "height": 468.0
    },
    "outputId": "1311cf3b-2857-47e2-809b-cc0ed20d021a",
    "executionInfo": {
     "status": "ok",
     "timestamp": 1.574544968637E12,
     "user_tz": 360.0,
     "elapsed": 772.0,
     "user": {
      "displayName": "Maia Moates",
      "photoUrl": "https://lh3.googleusercontent.com/a-/AAuE7mDW_yClmp-gJi_Z1AWbCyWCntVNwcr71h66Jn30=s64",
      "userId": "15101627877046735614"
     }
    }
   },
   "outputs": [
    {
     "data": {
      "text/plain": [
       "([<matplotlib.axis.XTick at 0x7feb0ecb7da0>,\n",
       "  <matplotlib.axis.XTick at 0x7feb0ece5ac8>,\n",
       "  <matplotlib.axis.XTick at 0x7feb0ece5198>,\n",
       "  <matplotlib.axis.XTick at 0x7feb0ec6cb70>,\n",
       "  <matplotlib.axis.XTick at 0x7feb0ec760f0>,\n",
       "  <matplotlib.axis.XTick at 0x7feb0ec76550>,\n",
       "  <matplotlib.axis.XTick at 0x7feb0ec76a20>,\n",
       "  <matplotlib.axis.XTick at 0x7feb0ec76ef0>,\n",
       "  <matplotlib.axis.XTick at 0x7feb0ec7d400>,\n",
       "  <matplotlib.axis.XTick at 0x7feb0ec7d8d0>],\n",
       " <a list of 10 Text xticklabel objects>)"
      ]
     },
     "execution_count": 56,
     "metadata": {
      "tags": []
     },
     "output_type": "execute_result"
    },
    {
     "data": {
      "image/png": "[encoded data removed]",
      "text/plain": [
       "<Figure size 432x288 with 1 Axes>"
      ]
     },
     "metadata": {
      "tags": []
     },
     "output_type": "display_data"
    }
   ],
   "source": [
    "# We can visualize this problem with matplotlib\n",
    "\n",
    "plt.plot(possible_ks, score_list)\n",
    "plt.xlabel('Value of K')\n",
    "plt.ylabel('Accuracy')\n",
    "plt.xticks(ticks=np.arange(1,20, 2))"
   ]
  },
  {
   "cell_type": "markdown",
   "metadata": {
    "id": "j1FFCRTeB_lb",
    "colab_type": "text"
   },
   "source": [
    "It seems that according to this plot, increasing the value of k is extremely valuable until k=6, at which point the model seems to reach its maximum efficiency. Increasing k past this point doesn't necessarily help, and increasing it to 18 or greater actually sees a decrease in efficiency, probably because of overfitting to the training set.\n",
    "\n",
    "### I'll choose a value of k = 6 and redo my predictions using that."
   ]
  },
  {
   "cell_type": "code",
   "execution_count": 69,
   "metadata": {
    "id": "DKBf2B-aCpRn",
    "colab_type": "code",
    "colab": {
     "base_uri": "https://localhost:8080/",
     "height": 134.0
    },
    "outputId": "31d5ee00-3560-4e2d-9c85-3a156f34dd6a",
    "executionInfo": {
     "status": "ok",
     "timestamp": 1.574546888615E12,
     "user_tz": 360.0,
     "elapsed": 431.0,
     "user": {
      "displayName": "Maia Moates",
      "photoUrl": "https://lh3.googleusercontent.com/a-/AAuE7mDW_yClmp-gJi_Z1AWbCyWCntVNwcr71h66Jn30=s64",
      "userId": "15101627877046735614"
     }
    }
   },
   "outputs": [
    {
     "name": "stdout",
     "output_type": "stream",
     "text": [
      "Species predictions\n",
      " [2 0 2 2 2 1 2 0 0 2 0 0 0 1 2 0 1 0 0 2 0 2 1 0 0 0 0 0 0 2 1 0 2 0 1 2 2\n",
      " 1 1 0 2 0 1 0 2 0 0 1 1 2 0 1 2 2 1 1 0 1 2 1] \n",
      "\n",
      "Our sample flower is predicted to be [0] or ['setosa']\n",
      "\n",
      "When k is equal to 6, accuracy is at 98.33 percent.\n"
     ]
    }
   ],
   "source": [
    "knn = KNeighborsClassifier(n_neighbors=6)\n",
    "knn.fit(x_train, y_train)\n",
    "predict = knn.predict(x_test)\n",
    "print('Species predictions\\n',predict,'\\n') # This will return an array that makes a prediction (0, 1, or 2, each corresponding to a particular species)\n",
    "               # for each individual (represented as a row in the dataset)\n",
    "\n",
    "# Predicting the species of a random individual using our trained model.\n",
    "sample_individual = np.array([4.2, 3.1, 1.5, 0.2]).reshape(1, -1)\n",
    "sample_predict = knn.predict(sample_individual)\n",
    "print(\"Our sample flower is predicted to be\",sample_predict,\"or\",iris.target_names[sample_predict])\n",
    "\n",
    "# We've done this above, but scoring this specific version of our KNN classifier.\n",
    "score = metrics.accuracy_score(y_test, predict)\n",
    "print(\"\\nWhen k is equal to 6, accuracy is at\", np.round(score*100, 2), \"percent.\")\n"
   ]
  }
 ],
 "metadata": {
  "colab": {
   "name": "MaiaPetee_Assignment7.ipynb",
   "provenance": []
  },
  "kernelspec": {
   "name": "python3",
   "display_name": "Python 3"
  }
 },
 "nbformat": 4,
 "nbformat_minor": 0
}
