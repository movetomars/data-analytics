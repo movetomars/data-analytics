{
  "nbformat": 4,
  "nbformat_minor": 0,
  "metadata": {
    "colab": {
      "name": "MaiaPetee_Assignment5.ipynb",
      "provenance": []
    },
    "kernelspec": {
      "name": "python3",
      "display_name": "Python 3"
    }
  },
  "cells": [
    {
      "cell_type": "code",
      "metadata": {
        "id": "Qa1DvG9XN126",
        "colab_type": "code",
        "colab": {
          "base_uri": "https://localhost:8080/",
          "height": 34
        },
        "outputId": "d6b09999-567a-45da-926f-d775e304b5ee"
      },
      "source": [
        "from google.colab import drive\n",
        "drive.mount('/content/drive')"
      ],
      "execution_count": 116,
      "outputs": [
        {
          "output_type": "stream",
          "text": [
            "Drive already mounted at /content/drive; to attempt to forcibly remount, call drive.mount(\"/content/drive\", force_remount=True).\n"
          ],
          "name": "stdout"
        }
      ]
    },
    {
      "cell_type": "code",
      "metadata": {
        "id": "6-8dVESIMId2",
        "colab_type": "code",
        "colab": {
          "base_uri": "https://localhost:8080/",
          "height": 372
        },
        "outputId": "cb4e3444-c0f2-4925-dad7-c4d975d345bd"
      },
      "source": [
        "import numpy as np\n",
        "from datascience import *\n",
        "import matplotlib\n",
        "%matplotlib inline\n",
        "import matplotlib.pyplot as plt\n",
        "plt.style.use('fivethirtyeight')\n",
        "import warnings\n",
        "warnings.simplefilter('ignore', FutureWarning)\n",
        "\n",
        "path = 'drive/My Drive/Linguistics MS/INFO 5502/'\n",
        "\n",
        "murder_rates = Table.read_table(path+'crime_rates-1.csv').select('State', 'Year', 'Population', 'Murder Rate')\n",
        "murder_rates.set_format(\"Population\", NumberFormatter)"
      ],
      "execution_count": 117,
      "outputs": [
        {
          "output_type": "execute_result",
          "data": {
            "text/html": [
              "<table border=\"1\" class=\"dataframe\">\n",
              "    <thead>\n",
              "        <tr>\n",
              "            <th>State</th> <th>Year</th> <th>Population</th> <th>Murder Rate</th>\n",
              "        </tr>\n",
              "    </thead>\n",
              "    <tbody>\n",
              "        <tr>\n",
              "            <td>Alaska</td> <td>1960</td> <td>226,167   </td> <td>10.2       </td>\n",
              "        </tr>\n",
              "        <tr>\n",
              "            <td>Alaska</td> <td>1961</td> <td>234,000   </td> <td>11.5       </td>\n",
              "        </tr>\n",
              "        <tr>\n",
              "            <td>Alaska</td> <td>1962</td> <td>246,000   </td> <td>4.5        </td>\n",
              "        </tr>\n",
              "        <tr>\n",
              "            <td>Alaska</td> <td>1963</td> <td>248,000   </td> <td>6.5        </td>\n",
              "        </tr>\n",
              "        <tr>\n",
              "            <td>Alaska</td> <td>1964</td> <td>250,000   </td> <td>10.4       </td>\n",
              "        </tr>\n",
              "        <tr>\n",
              "            <td>Alaska</td> <td>1965</td> <td>253,000   </td> <td>6.3        </td>\n",
              "        </tr>\n",
              "        <tr>\n",
              "            <td>Alaska</td> <td>1966</td> <td>272,000   </td> <td>12.9       </td>\n",
              "        </tr>\n",
              "        <tr>\n",
              "            <td>Alaska</td> <td>1967</td> <td>272,000   </td> <td>9.6        </td>\n",
              "        </tr>\n",
              "        <tr>\n",
              "            <td>Alaska</td> <td>1968</td> <td>277,000   </td> <td>10.5       </td>\n",
              "        </tr>\n",
              "        <tr>\n",
              "            <td>Alaska</td> <td>1969</td> <td>282,000   </td> <td>10.6       </td>\n",
              "        </tr>\n",
              "    </tbody>\n",
              "</table>\n",
              "<p>... (2190 rows omitted)</p>"
            ],
            "text/plain": [
              "State  | Year | Population | Murder Rate\n",
              "Alaska | 1960 | 226,167    | 10.2\n",
              "Alaska | 1961 | 234,000    | 11.5\n",
              "Alaska | 1962 | 246,000    | 4.5\n",
              "Alaska | 1963 | 248,000    | 6.5\n",
              "Alaska | 1964 | 250,000    | 10.4\n",
              "Alaska | 1965 | 253,000    | 6.3\n",
              "Alaska | 1966 | 272,000    | 12.9\n",
              "Alaska | 1967 | 272,000    | 9.6\n",
              "Alaska | 1968 | 277,000    | 10.5\n",
              "Alaska | 1969 | 282,000    | 10.6\n",
              "... (2190 rows omitted)"
            ]
          },
          "metadata": {
            "tags": []
          },
          "execution_count": 117
        }
      ]
    },
    {
      "cell_type": "markdown",
      "metadata": {
        "id": "OcVERBISMOHw",
        "colab_type": "text"
      },
      "source": [
        "# Introduction\n",
        "This assignment is copied from Data8.org, the original assignment can be found at github.com at:\n",
        "https://github.com/data-8/data8assets/blob/gh-pages/materials/fa16/project/project2/project2.ipynb.\n",
        "You may check the website for detail information.\n",
        "In this assignment, you will investigate the relationship between murder and capital punishment (the death penalty) in the United States.\n",
        "\n",
        "\n",
        "---\n",
        "\n",
        "## 1.1 The Data\n",
        "The main data source for this project comes from a paper by three researchers, Dezhbakhsh, Rubin,and Shepherd. The dataset contains rates of various violent crimes for every year 1960-2003 (44 years) in every US state. The researchers compiled their data from the FBI’s Uniform Crime Reports. Since crimes are committed by people, not states, we need to account for the number of people in each state when we’re looking at state-level data. Murder rates are calculated as follows:\n",
        "murder rate for state X in year Y = 100000 * (number of murders in state X in year Y /\n",
        "population in state X in year Y)\n",
        "\n",
        "(Murder is rare, so we multiply by 100,000 just to avoid dealing with tiny numbers.)\n",
        "So far, this looks like a dataset that lends itself to an observational study. In fact, these data aren’t even enough to demonstrate an association between the existence of the death penalty in a state in a year and the murder rate in that state and year!\n",
        "\n",
        "### Question 1.1. What additional information will we need before we can check for that association?\n"
      ]
    },
    {
      "cell_type": "markdown",
      "metadata": {
        "id": "Px7sLr2hOjMw",
        "colab_type": "text"
      },
      "source": [
        "\n",
        "\n",
        "---\n",
        "\n",
        "We would need to know which states had the death penalty originally (before it was outlawed) and which didn't; to get a good idea of the effect of abolishing the death penalty, we could make a before/after comparison of the states where it was abolished, additionally comparing these to the states where no change was effected."
      ]
    },
    {
      "cell_type": "markdown",
      "metadata": {
        "id": "VcOdH6I7UC2I",
        "colab_type": "text"
      },
      "source": [
        "\n",
        "\n",
        "---\n",
        "\n",
        "\n",
        "Murder rates vary over time, and different states exhibit different trends. The rates in some states change dramatically from year to year, while others are quite stable. Let’s plot a couple, just to see the variety.\n",
        "\n",
        "\n",
        "---\n",
        "\n",
        "\n",
        "### Question 1.2. Draw a line plot with years on the horizontal axis and murder rates on the vertical axis.\n",
        "\n",
        "Include two lines: one for Alaska murder rates and one for Minnesota murder rates. Create this plot using a single call: ak mn.plot(’Year’)."
      ]
    },
    {
      "cell_type": "code",
      "metadata": {
        "id": "ltxVSgLrUTBw",
        "colab_type": "code",
        "colab": {
          "base_uri": "https://localhost:8080/",
          "height": 304
        },
        "outputId": "87a6969e-f978-4651-ac3f-100dfc45f82e"
      },
      "source": [
        "ak = murder_rates.where('State', 'Alaska').drop('State', 'Population').relabeled(1, 'Murder rate in Alaska')\n",
        "mn = murder_rates.where('State', 'Minnesota').drop('State', 'Population').relabeled(1, 'Murder rate in Minnesota')\n",
        "\n",
        "# Fill in this line to make a table like the one pictured above.\n",
        "ak_mn = ak.join('Year', mn)\n",
        "ak_mn.plot('Year')"
      ],
      "execution_count": 118,
      "outputs": [
        {
          "output_type": "display_data",
          "data": {
            "image/png": "[encoded data removed]",
            "text/plain": [
              "<Figure size 432x288 with 1 Axes>"
            ]
          },
          "metadata": {
            "tags": []
          }
        }
      ]
    },
    {
      "cell_type": "markdown",
      "metadata": {
        "id": "nX_RnN_LXLpm",
        "colab_type": "text"
      },
      "source": [
        "### Question 1.3. Implement the function most murderous, which takes a year (an integer) as its argument.\n",
        "It does two things:\n",
        "1. It draws a horizontal bar chart of the 5 states that had the highest murder rate in that year.\n",
        "2. It returns an array of the names of these states in order of increasing murder rate."
      ]
    },
    {
      "cell_type": "code",
      "metadata": {
        "id": "8kDsFiFlXS9n",
        "colab_type": "code",
        "colab": {
          "base_uri": "https://localhost:8080/",
          "height": 334
        },
        "outputId": "b25febf1-eb82-4913-80d4-377570d1627d"
      },
      "source": [
        "def most_murderous(year):\n",
        "    most = murder_rates.where('Year', year).sort('Murder Rate', descending=True).take[:5]\n",
        "    most.barh('State', 'Murder Rate')\n",
        "    return most.column('State')\n",
        "\n",
        "most_murderous(2003)"
      ],
      "execution_count": 119,
      "outputs": [
        {
          "output_type": "execute_result",
          "data": {
            "text/plain": [
              "array(['Louisiana', 'Maryland', 'Mississippi', 'Nevada', 'Arizona'],\n",
              "      dtype='<U11')"
            ]
          },
          "metadata": {
            "tags": []
          },
          "execution_count": 119
        },
        {
          "output_type": "display_data",
          "data": {
            "image/png": "[encoded data removed]",
            "text/plain": [
              "<Figure size 432x288 with 1 Axes>"
            ]
          },
          "metadata": {
            "tags": []
          }
        }
      ]
    },
    {
      "cell_type": "markdown",
      "metadata": {
        "id": "HTgiXjlSaDFr",
        "colab_type": "text"
      },
      "source": [
        "### Question 1.4. How many more people were murdered in California in 1988 than in 1975? Assign ca change to the answer."
      ]
    },
    {
      "cell_type": "code",
      "metadata": {
        "id": "FmDADPkDaCgf",
        "colab_type": "code",
        "colab": {
          "base_uri": "https://localhost:8080/",
          "height": 34
        },
        "outputId": "61b3dbfe-a660-489b-9701-24dd0864f5ea"
      },
      "source": [
        "ca = murder_rates.where('State', 'California')\n",
        "ca_change = ((ca.where('Year', 1988)[3]/ca.where('Year', 1988)[2])*100000) - (ca.where('Year', 1975)[3]/ca.where('Year', 1975)[2])*100000\n",
        "print(np.round(ca_change[0],2), \"more people were murdered in California in 1988 than in 1975.\")"
      ],
      "execution_count": 120,
      "outputs": [
        {
          "output_type": "stream",
          "text": [
            "-0.01 more people were murdered in California in 1988 than in 1975.\n"
          ],
          "name": "stdout"
        }
      ]
    },
    {
      "cell_type": "markdown",
      "metadata": {
        "id": "tmb8pJt0dmRi",
        "colab_type": "text"
      },
      "source": [
        "# 2. Changes in Murder Rates\n",
        "\n",
        "\n",
        "---\n",
        "\n",
        "\n",
        "Murder rates vary widely across states and years, presumably due to the vast array of differences among states and across US history. Rather than attempting to analyze rates themselves, here we will restrict our analysis to whether or not murder rates increased or decreased over certain time spans. We will not concern ourselves with how much rates increased or decreased; only the direction of the change - whether they increased or decreased.\n",
        "\n",
        "The np.diff function takes an array of values and computes the differences between adjacent items of a list or array. Instead, we may wish to compute the difference between items that are two positions apart. For example, given a 5-element array, we may want:\n",
        "\n",
        "[item 2 - item 0 , item 3 - item 1 , item 4 - item 2]\n",
        "\n",
        "The diff_n function below computes this result. Don't worry if the implementation doesn't make sense to you, as long as you understand its behavior."
      ]
    },
    {
      "cell_type": "code",
      "metadata": {
        "id": "zkq4K9qJdlz6",
        "colab_type": "code",
        "colab": {
          "base_uri": "https://localhost:8080/",
          "height": 34
        },
        "outputId": "ce50363d-fdf4-49dc-c80d-7a04b0e48156"
      },
      "source": [
        "def diff_n(values, n):\n",
        "    return np.array(values)[n:] - np.array(values)[:-n]\n",
        "\n",
        "diff_n(make_array(1, 10, 100, 1000, 10000), 2)"
      ],
      "execution_count": 121,
      "outputs": [
        {
          "output_type": "execute_result",
          "data": {
            "text/plain": [
              "array([  99,  990, 9900])"
            ]
          },
          "metadata": {
            "tags": []
          },
          "execution_count": 121
        }
      ]
    },
    {
      "cell_type": "markdown",
      "metadata": {
        "id": "WoS3xZGieOnh",
        "colab_type": "text"
      },
      "source": [
        "### Question 2.1. Implement the function two_year_changes that takes an array of murder rates for a state, ordered by increasing year. For all two-year periods (e.g., from 1960 to 1962), it computes and returns the number of increases minus the number of decreases.\n",
        "\n",
        "For example, the rates r = make_array(10, 7, 12, 9, 13, 9, 11) contain three increases (10 to 12, 7 to 9, and 12 to 13), one decrease (13 to 11), and one change that is neither an increase or decrease (9 to 9). Therefore, two_year_changes(r) would return 2, the difference between three increases and 1 decrease."
      ]
    },
    {
      "cell_type": "code",
      "metadata": {
        "id": "PUIn0oE9eVse",
        "colab_type": "code",
        "colab": {
          "base_uri": "https://localhost:8080/",
          "height": 50
        },
        "outputId": "4bd7106a-942e-4620-95c4-829d03d1bbd8"
      },
      "source": [
        "def two_year_changes(rates):\n",
        "    increases = []\n",
        "    decreases = []\n",
        "    \"Return the number of increases minus the number of decreases after two years.\"\n",
        "    for i in range(2, len(rates), 1):\n",
        "      end = i\n",
        "      start = i-2\n",
        "\n",
        "      change = rates[end] - rates[start]\n",
        "      if change > 0:\n",
        "        increases.append(change)\n",
        "      elif change < 0:\n",
        "        decreases.append(change)\n",
        "      else:\n",
        "        pass\n",
        "\n",
        "    rate = len(increases) - len(decreases)    \n",
        "    return rate\n",
        "\n",
        "print('Alaska:',    two_year_changes(ak.column('Murder rate in Alaska')))\n",
        "print('Minnesota:', two_year_changes(mn.column('Murder rate in Minnesota')))"
      ],
      "execution_count": 122,
      "outputs": [
        {
          "output_type": "stream",
          "text": [
            "Alaska: -5\n",
            "Minnesota: 6\n"
          ],
          "name": "stdout"
        }
      ]
    },
    {
      "cell_type": "markdown",
      "metadata": {
        "id": "0bUNHWhAh-e2",
        "colab_type": "text"
      },
      "source": [
        "### Question 2.2. Assign changes by state to a table with one row per state that has two columns: the State name and the Murder Rate two year changes statistic computed across all years in our data set for that state."
      ]
    },
    {
      "cell_type": "code",
      "metadata": {
        "id": "vjbxGUgOi-Gc",
        "colab_type": "code",
        "colab": {
          "base_uri": "https://localhost:8080/",
          "height": 409
        },
        "outputId": "d07ed3e8-9ce2-48f2-b434-5dfa83066376"
      },
      "source": [
        "rates = murder_rates.drop('Population')\n",
        "pivot = rates.pivot(\"State\", \"Year\", values=\"Murder Rate\", collect=np.mean)\n",
        "pivot\n"
      ],
      "execution_count": 123,
      "outputs": [
        {
          "output_type": "execute_result",
          "data": {
            "text/html": [
              "<table border=\"1\" class=\"dataframe\">\n",
              "    <thead>\n",
              "        <tr>\n",
              "            <th>Year</th> <th>Alabama</th> <th>Alaska</th> <th>Arizona</th> <th>Arkansas</th> <th>California</th> <th>Colorado</th> <th>Connecticut</th> <th>Delaware</th> <th>Florida</th> <th>Georgia</th> <th>Hawaii</th> <th>Idaho</th> <th>Illinois</th> <th>Indiana</th> <th>Iowa</th> <th>Kansas</th> <th>Kentucky</th> <th>Louisiana</th> <th>Maine</th> <th>Maryland</th> <th>Massachuse</th> <th>Michigan</th> <th>Minnesota</th> <th>Mississippi</th> <th>Missouri</th> <th>Montana</th> <th>Nebraska</th> <th>Nevada</th> <th>New Hampshire</th> <th>New Jersey</th> <th>New Mexico</th> <th>New York</th> <th>North Carolina</th> <th>North Dakota</th> <th>Ohio</th> <th>Oklahoma</th> <th>Oregon</th> <th>Pennsylvania</th> <th>Rhode Isla</th> <th>South Carolina</th> <th>South Dakota</th> <th>Tennessee</th> <th>Texas</th> <th>Utah</th> <th>Vermont</th> <th>Virginia</th> <th>Washington</th> <th>West Virginia</th> <th>Wisconsin</th> <th>Wyoming</th>\n",
              "        </tr>\n",
              "    </thead>\n",
              "    <tbody>\n",
              "        <tr>\n",
              "            <td>1960</td> <td>12.4   </td> <td>10.2  </td> <td>6      </td> <td>8.5     </td> <td>3.9       </td> <td>4.2     </td> <td>1.6        </td> <td>7.4     </td> <td>10.6   </td> <td>11.9   </td> <td>2.4   </td> <td>2.4  </td> <td>4.9     </td> <td>4.4    </td> <td>0.6 </td> <td>2.9   </td> <td>6.7     </td> <td>8.3      </td> <td>1.7  </td> <td>5.4     </td> <td>1.4       </td> <td>4.5     </td> <td>1.2      </td> <td>10         </td> <td>4.4     </td> <td>3.9    </td> <td>2.3     </td> <td>8.8   </td> <td>1.3          </td> <td>2.7       </td> <td>7.4       </td> <td>2.9     </td> <td>10.6          </td> <td>0.5         </td> <td>3.2 </td> <td>7.5     </td> <td>2.4   </td> <td>2.6         </td> <td>1         </td> <td>13.2          </td> <td>2.1         </td> <td>8.5      </td> <td>8.6  </td> <td>1   </td> <td>0.3    </td> <td>12.3    </td> <td>2.1       </td> <td>4.4          </td> <td>1.3      </td> <td>4.8    </td>\n",
              "        </tr>\n",
              "        <tr>\n",
              "            <td>1961</td> <td>12.9   </td> <td>11.5  </td> <td>6      </td> <td>9.1     </td> <td>3.7       </td> <td>4.7     </td> <td>1          </td> <td>4.4     </td> <td>9.1    </td> <td>10     </td> <td>2.3   </td> <td>2    </td> <td>4.8     </td> <td>4.1    </td> <td>1.3 </td> <td>1.9   </td> <td>6.5     </td> <td>6.4      </td> <td>1.6  </td> <td>4.5     </td> <td>1.5       </td> <td>4.1     </td> <td>1        </td> <td>10.3       </td> <td>5.1     </td> <td>2.5    </td> <td>2.4     </td> <td>7     </td> <td>0.6          </td> <td>2.5       </td> <td>6.8       </td> <td>3.5     </td> <td>9.2           </td> <td>0.9         </td> <td>3.1 </td> <td>5       </td> <td>2.7   </td> <td>2.6         </td> <td>1         </td> <td>11.6          </td> <td>1.7         </td> <td>8        </td> <td>8.1  </td> <td>1.7 </td> <td>1.5    </td> <td>8.6     </td> <td>2.2       </td> <td>4.4          </td> <td>1.6      </td> <td>3.3    </td>\n",
              "        </tr>\n",
              "        <tr>\n",
              "            <td>1962</td> <td>9.4    </td> <td>4.5   </td> <td>5.7    </td> <td>7.9     </td> <td>3.9       </td> <td>5       </td> <td>1.3        </td> <td>4.3     </td> <td>7.7    </td> <td>10.3   </td> <td>2.9   </td> <td>3    </td> <td>5.3     </td> <td>3.5    </td> <td>1.1 </td> <td>2.8   </td> <td>6.5     </td> <td>6.8      </td> <td>1.4  </td> <td>5.7     </td> <td>1.8       </td> <td>3.4     </td> <td>0.9      </td> <td>7.3        </td> <td>5.5     </td> <td>2.1    </td> <td>1.5     </td> <td>8.1   </td> <td>2.4          </td> <td>3         </td> <td>6.3       </td> <td>3.6     </td> <td>7.9           </td> <td>1.2         </td> <td>3.2 </td> <td>5.1     </td> <td>2.9   </td> <td>2.7         </td> <td>0.8       </td> <td>10.1          </td> <td>3.3         </td> <td>6.1      </td> <td>7.2  </td> <td>2.3 </td> <td>0.3    </td> <td>8.7     </td> <td>2.5       </td> <td>3.7          </td> <td>0.9      </td> <td>3.3    </td>\n",
              "        </tr>\n",
              "        <tr>\n",
              "            <td>1963</td> <td>10.2   </td> <td>6.5   </td> <td>6      </td> <td>7.4     </td> <td>3.8       </td> <td>4.8     </td> <td>1.8        </td> <td>5       </td> <td>8.2    </td> <td>9.4    </td> <td>1.7   </td> <td>2.5  </td> <td>5.1     </td> <td>2.8    </td> <td>1.3 </td> <td>2.6   </td> <td>5.6     </td> <td>6.9      </td> <td>1.9  </td> <td>6.3     </td> <td>1.9       </td> <td>3.5     </td> <td>1.2      </td> <td>7.2        </td> <td>5.2     </td> <td>2      </td> <td>2       </td> <td>7.9   </td> <td>3.2          </td> <td>2.8       </td> <td>5.6       </td> <td>3.8     </td> <td>8.2           </td> <td>2.1         </td> <td>3   </td> <td>5.2     </td> <td>3     </td> <td>2.3         </td> <td>1.4       </td> <td>10            </td> <td>1.2         </td> <td>6.5      </td> <td>7.4  </td> <td>2.4 </td> <td>0.5    </td> <td>7.1     </td> <td>2.5       </td> <td>5.3          </td> <td>1.7      </td> <td>3.6    </td>\n",
              "        </tr>\n",
              "        <tr>\n",
              "            <td>1964</td> <td>9.3    </td> <td>10.4  </td> <td>5.2    </td> <td>7.6     </td> <td>4.1       </td> <td>4.2     </td> <td>1.8        </td> <td>4.7     </td> <td>8.6    </td> <td>11.7   </td> <td>2.1   </td> <td>4    </td> <td>5.5     </td> <td>3      </td> <td>1.3 </td> <td>3.4   </td> <td>5.2     </td> <td>8.3      </td> <td>1.5  </td> <td>6.7     </td> <td>2         </td> <td>3.5     </td> <td>1.4      </td> <td>10.1       </td> <td>5.4     </td> <td>2.7    </td> <td>2.3     </td> <td>7.8   </td> <td>0.9          </td> <td>3.1       </td> <td>5.6       </td> <td>4.6     </td> <td>8             </td> <td>0.9         </td> <td>3.5 </td> <td>4.5     </td> <td>1.8   </td> <td>3.4         </td> <td>1.2       </td> <td>8.1           </td> <td>1.3         </td> <td>5.9      </td> <td>7.6  </td> <td>1.5 </td> <td>0.5    </td> <td>8.4     </td> <td>2.4       </td> <td>3.7          </td> <td>1.5      </td> <td>5.5    </td>\n",
              "        </tr>\n",
              "        <tr>\n",
              "            <td>1965</td> <td>11.4   </td> <td>6.3   </td> <td>5      </td> <td>5.9     </td> <td>4.7       </td> <td>3.5     </td> <td>1.6        </td> <td>5.7     </td> <td>8.9    </td> <td>11.3   </td> <td>3.2   </td> <td>2    </td> <td>5.2     </td> <td>3.5    </td> <td>1.3 </td> <td>2.7   </td> <td>5.3     </td> <td>8.1      </td> <td>2.1  </td> <td>6.7     </td> <td>2.4       </td> <td>4.6     </td> <td>1.4      </td> <td>8.9        </td> <td>6.7     </td> <td>1.7    </td> <td>2.4     </td> <td>8.4   </td> <td>2.7          </td> <td>3.2       </td> <td>6.3       </td> <td>4.6     </td> <td>8.3           </td> <td>0.9         </td> <td>3.6 </td> <td>4.4     </td> <td>3.4   </td> <td>3.6         </td> <td>2.1       </td> <td>9.6           </td> <td>1.6         </td> <td>8        </td> <td>7.5  </td> <td>1.5 </td> <td>0.5    </td> <td>8.2     </td> <td>2.2       </td> <td>4            </td> <td>1.5      </td> <td>2.9    </td>\n",
              "        </tr>\n",
              "        <tr>\n",
              "            <td>1966</td> <td>10.9   </td> <td>12.9  </td> <td>6.1    </td> <td>7.1     </td> <td>4.6       </td> <td>4       </td> <td>2          </td> <td>9       </td> <td>10.3   </td> <td>11.3   </td> <td>2.9   </td> <td>3    </td> <td>6.9     </td> <td>4      </td> <td>1.6 </td> <td>3.5   </td> <td>7       </td> <td>9.9      </td> <td>2.2  </td> <td>7       </td> <td>2.4       </td> <td>5       </td> <td>2.2      </td> <td>9.7        </td> <td>5.4     </td> <td>2.8    </td> <td>1.8     </td> <td>10.6  </td> <td>1.9          </td> <td>3.5       </td> <td>6.3       </td> <td>4.8     </td> <td>9.2           </td> <td>1.8         </td> <td>4.5 </td> <td>5.5     </td> <td>2.7   </td> <td>3.3         </td> <td>1.4       </td> <td>11.6          </td> <td>1.5         </td> <td>7.8      </td> <td>9.1  </td> <td>2   </td> <td>1.5    </td> <td>8.1     </td> <td>2.5       </td> <td>4.2          </td> <td>1.9      </td> <td>4.9    </td>\n",
              "        </tr>\n",
              "        <tr>\n",
              "            <td>1967</td> <td>11.7   </td> <td>9.6   </td> <td>5.6    </td> <td>8.8     </td> <td>5.4       </td> <td>4.1     </td> <td>2.4        </td> <td>8.6     </td> <td>10.5   </td> <td>11.1   </td> <td>2.4   </td> <td>4.3  </td> <td>7.3     </td> <td>3.8    </td> <td>1.5 </td> <td>4     </td> <td>7.2     </td> <td>9.3      </td> <td>0.4  </td> <td>8       </td> <td>2.8       </td> <td>6.5     </td> <td>1.6      </td> <td>8.7        </td> <td>7.3     </td> <td>2.4    </td> <td>2.7     </td> <td>10.8  </td> <td>2            </td> <td>3.9       </td> <td>6.6       </td> <td>5.4     </td> <td>9.9           </td> <td>0.2         </td> <td>5.2 </td> <td>6.7     </td> <td>3.1   </td> <td>3.9         </td> <td>2.2       </td> <td>11.2          </td> <td>3.7         </td> <td>8.9      </td> <td>9.9  </td> <td>2.7 </td> <td>3.1    </td> <td>9.1     </td> <td>3.1       </td> <td>4.6          </td> <td>1.9      </td> <td>4.8    </td>\n",
              "        </tr>\n",
              "        <tr>\n",
              "            <td>1968</td> <td>11.8   </td> <td>10.5  </td> <td>6.3    </td> <td>8.1     </td> <td>6         </td> <td>5.4     </td> <td>2.5        </td> <td>8.4     </td> <td>11.9   </td> <td>13.9   </td> <td>2.8   </td> <td>2.3  </td> <td>8.1     </td> <td>4.8    </td> <td>1.7 </td> <td>3.7   </td> <td>8.9     </td> <td>9.5      </td> <td>3    </td> <td>9.3     </td> <td>3.5       </td> <td>7.7     </td> <td>2.2      </td> <td>9.9        </td> <td>8.8     </td> <td>3.3    </td> <td>2.3     </td> <td>5.5   </td> <td>1.4          </td> <td>5.1       </td> <td>6.4       </td> <td>6.5     </td> <td>10.2          </td> <td>1.1         </td> <td>5.3 </td> <td>6.4     </td> <td>3.2   </td> <td>4.1         </td> <td>2.4       </td> <td>13.6          </td> <td>3.8         </td> <td>8.7      </td> <td>10.6 </td> <td>2.9 </td> <td>2.6    </td> <td>10.3    </td> <td>3.6       </td> <td>5.5          </td> <td>2.2      </td> <td>6.3    </td>\n",
              "        </tr>\n",
              "        <tr>\n",
              "            <td>1969</td> <td>13.7   </td> <td>10.6  </td> <td>6      </td> <td>9.9     </td> <td>7.1       </td> <td>5.3     </td> <td>2.9        </td> <td>8       </td> <td>11.3   </td> <td>11.9   </td> <td>3.4   </td> <td>1.9  </td> <td>8.6     </td> <td>5      </td> <td>1.4 </td> <td>3.5   </td> <td>10.4    </td> <td>9.5      </td> <td>1.6  </td> <td>9.3     </td> <td>3.5       </td> <td>8.8     </td> <td>1.9      </td> <td>8.1        </td> <td>10.4    </td> <td>3.6    </td> <td>2.5     </td> <td>9     </td> <td>2.5          </td> <td>5.2       </td> <td>6.3       </td> <td>7.2     </td> <td>11.3          </td> <td>0.2         </td> <td>6.4 </td> <td>5.8     </td> <td>4     </td> <td>4.1         </td> <td>3.1       </td> <td>12.5          </td> <td>2           </td> <td>9.6      </td> <td>11.3 </td> <td>2.5 </td> <td>2.5    </td> <td>7.3     </td> <td>3.6       </td> <td>5.6          </td> <td>2.1      </td> <td>10.3   </td>\n",
              "        </tr>\n",
              "    </tbody>\n",
              "</table>\n",
              "<p>... (34 rows omitted)</p>"
            ],
            "text/plain": [
              "Year | Alabama | Alaska | Arizona | Arkansas | California | Colorado | Connecticut | Delaware | Florida | Georgia | Hawaii | Idaho | Illinois | Indiana | Iowa | Kansas | Kentucky | Louisiana | Maine | Maryland | Massachuse | Michigan | Minnesota | Mississippi | Missouri | Montana | Nebraska | Nevada | New Hampshire | New Jersey | New Mexico | New York | North Carolina | North Dakota | Ohio | Oklahoma | Oregon | Pennsylvania | Rhode Isla | South Carolina | South Dakota | Tennessee | Texas | Utah | Vermont | Virginia | Washington | West Virginia | Wisconsin | Wyoming\n",
              "1960 | 12.4    | 10.2   | 6       | 8.5      | 3.9        | 4.2      | 1.6         | 7.4      | 10.6    | 11.9    | 2.4    | 2.4   | 4.9      | 4.4     | 0.6  | 2.9    | 6.7      | 8.3       | 1.7   | 5.4      | 1.4        | 4.5      | 1.2       | 10          | 4.4      | 3.9     | 2.3      | 8.8    | 1.3           | 2.7        | 7.4        | 2.9      | 10.6           | 0.5          | 3.2  | 7.5      | 2.4    | 2.6          | 1          | 13.2           | 2.1          | 8.5       | 8.6   | 1    | 0.3     | 12.3     | 2.1        | 4.4           | 1.3       | 4.8\n",
              "1961 | 12.9    | 11.5   | 6       | 9.1      | 3.7        | 4.7      | 1           | 4.4      | 9.1     | 10      | 2.3    | 2     | 4.8      | 4.1     | 1.3  | 1.9    | 6.5      | 6.4       | 1.6   | 4.5      | 1.5        | 4.1      | 1         | 10.3        | 5.1      | 2.5     | 2.4      | 7      | 0.6           | 2.5        | 6.8        | 3.5      | 9.2            | 0.9          | 3.1  | 5        | 2.7    | 2.6          | 1          | 11.6           | 1.7          | 8         | 8.1   | 1.7  | 1.5     | 8.6      | 2.2        | 4.4           | 1.6       | 3.3\n",
              "1962 | 9.4     | 4.5    | 5.7     | 7.9      | 3.9        | 5        | 1.3         | 4.3      | 7.7     | 10.3    | 2.9    | 3     | 5.3      | 3.5     | 1.1  | 2.8    | 6.5      | 6.8       | 1.4   | 5.7      | 1.8        | 3.4      | 0.9       | 7.3         | 5.5      | 2.1     | 1.5      | 8.1    | 2.4           | 3          | 6.3        | 3.6      | 7.9            | 1.2          | 3.2  | 5.1      | 2.9    | 2.7          | 0.8        | 10.1           | 3.3          | 6.1       | 7.2   | 2.3  | 0.3     | 8.7      | 2.5        | 3.7           | 0.9       | 3.3\n",
              "1963 | 10.2    | 6.5    | 6       | 7.4      | 3.8        | 4.8      | 1.8         | 5        | 8.2     | 9.4     | 1.7    | 2.5   | 5.1      | 2.8     | 1.3  | 2.6    | 5.6      | 6.9       | 1.9   | 6.3      | 1.9        | 3.5      | 1.2       | 7.2         | 5.2      | 2       | 2        | 7.9    | 3.2           | 2.8        | 5.6        | 3.8      | 8.2            | 2.1          | 3    | 5.2      | 3      | 2.3          | 1.4        | 10             | 1.2          | 6.5       | 7.4   | 2.4  | 0.5     | 7.1      | 2.5        | 5.3           | 1.7       | 3.6\n",
              "1964 | 9.3     | 10.4   | 5.2     | 7.6      | 4.1        | 4.2      | 1.8         | 4.7      | 8.6     | 11.7    | 2.1    | 4     | 5.5      | 3       | 1.3  | 3.4    | 5.2      | 8.3       | 1.5   | 6.7      | 2          | 3.5      | 1.4       | 10.1        | 5.4      | 2.7     | 2.3      | 7.8    | 0.9           | 3.1        | 5.6        | 4.6      | 8              | 0.9          | 3.5  | 4.5      | 1.8    | 3.4          | 1.2        | 8.1            | 1.3          | 5.9       | 7.6   | 1.5  | 0.5     | 8.4      | 2.4        | 3.7           | 1.5       | 5.5\n",
              "1965 | 11.4    | 6.3    | 5       | 5.9      | 4.7        | 3.5      | 1.6         | 5.7      | 8.9     | 11.3    | 3.2    | 2     | 5.2      | 3.5     | 1.3  | 2.7    | 5.3      | 8.1       | 2.1   | 6.7      | 2.4        | 4.6      | 1.4       | 8.9         | 6.7      | 1.7     | 2.4      | 8.4    | 2.7           | 3.2        | 6.3        | 4.6      | 8.3            | 0.9          | 3.6  | 4.4      | 3.4    | 3.6          | 2.1        | 9.6            | 1.6          | 8         | 7.5   | 1.5  | 0.5     | 8.2      | 2.2        | 4             | 1.5       | 2.9\n",
              "1966 | 10.9    | 12.9   | 6.1     | 7.1      | 4.6        | 4        | 2           | 9        | 10.3    | 11.3    | 2.9    | 3     | 6.9      | 4       | 1.6  | 3.5    | 7        | 9.9       | 2.2   | 7        | 2.4        | 5        | 2.2       | 9.7         | 5.4      | 2.8     | 1.8      | 10.6   | 1.9           | 3.5        | 6.3        | 4.8      | 9.2            | 1.8          | 4.5  | 5.5      | 2.7    | 3.3          | 1.4        | 11.6           | 1.5          | 7.8       | 9.1   | 2    | 1.5     | 8.1      | 2.5        | 4.2           | 1.9       | 4.9\n",
              "1967 | 11.7    | 9.6    | 5.6     | 8.8      | 5.4        | 4.1      | 2.4         | 8.6      | 10.5    | 11.1    | 2.4    | 4.3   | 7.3      | 3.8     | 1.5  | 4      | 7.2      | 9.3       | 0.4   | 8        | 2.8        | 6.5      | 1.6       | 8.7         | 7.3      | 2.4     | 2.7      | 10.8   | 2             | 3.9        | 6.6        | 5.4      | 9.9            | 0.2          | 5.2  | 6.7      | 3.1    | 3.9          | 2.2        | 11.2           | 3.7          | 8.9       | 9.9   | 2.7  | 3.1     | 9.1      | 3.1        | 4.6           | 1.9       | 4.8\n",
              "1968 | 11.8    | 10.5   | 6.3     | 8.1      | 6          | 5.4      | 2.5         | 8.4      | 11.9    | 13.9    | 2.8    | 2.3   | 8.1      | 4.8     | 1.7  | 3.7    | 8.9      | 9.5       | 3     | 9.3      | 3.5        | 7.7      | 2.2       | 9.9         | 8.8      | 3.3     | 2.3      | 5.5    | 1.4           | 5.1        | 6.4        | 6.5      | 10.2           | 1.1          | 5.3  | 6.4      | 3.2    | 4.1          | 2.4        | 13.6           | 3.8          | 8.7       | 10.6  | 2.9  | 2.6     | 10.3     | 3.6        | 5.5           | 2.2       | 6.3\n",
              "1969 | 13.7    | 10.6   | 6       | 9.9      | 7.1        | 5.3      | 2.9         | 8        | 11.3    | 11.9    | 3.4    | 1.9   | 8.6      | 5       | 1.4  | 3.5    | 10.4     | 9.5       | 1.6   | 9.3      | 3.5        | 8.8      | 1.9       | 8.1         | 10.4     | 3.6     | 2.5      | 9      | 2.5           | 5.2        | 6.3        | 7.2      | 11.3           | 0.2          | 6.4  | 5.8      | 4      | 4.1          | 3.1        | 12.5           | 2            | 9.6       | 11.3  | 2.5  | 2.5     | 7.3      | 3.6        | 5.6           | 2.1       | 10.3\n",
              "... (34 rows omitted)"
            ]
          },
          "metadata": {
            "tags": []
          },
          "execution_count": 123
        }
      ]
    },
    {
      "cell_type": "code",
      "metadata": {
        "id": "rZP4YSyOoS7z",
        "colab_type": "code",
        "colab": {
          "base_uri": "https://localhost:8080/",
          "height": 372
        },
        "outputId": "29b6a0de-aeee-4185-e6bd-eabb4f22e7f5"
      },
      "source": [
        "minus_years = pivot.drop('Year') # Taking the year column out because we don't need it for this question.\n",
        "labels = minus_years.column_labels \n",
        "\n",
        "changes_by_state = Table().with_column('State', labels)\n",
        "\n",
        "changes = make_array()\n",
        "for i, column in enumerate(minus_years.columns, 1):\n",
        "  changes = np.append(changes, two_year_changes(column))\n",
        "\n",
        "changes_by_state = changes_by_state.with_column('Two Year Changes', changes)\n",
        "changes_by_state"
      ],
      "execution_count": 124,
      "outputs": [
        {
          "output_type": "execute_result",
          "data": {
            "text/html": [
              "<table border=\"1\" class=\"dataframe\">\n",
              "    <thead>\n",
              "        <tr>\n",
              "            <th>State</th> <th>Two Year Changes</th>\n",
              "        </tr>\n",
              "    </thead>\n",
              "    <tbody>\n",
              "        <tr>\n",
              "            <td>Alabama    </td> <td>-6              </td>\n",
              "        </tr>\n",
              "        <tr>\n",
              "            <td>Alaska     </td> <td>-5              </td>\n",
              "        </tr>\n",
              "        <tr>\n",
              "            <td>Arizona    </td> <td>1               </td>\n",
              "        </tr>\n",
              "        <tr>\n",
              "            <td>Arkansas   </td> <td>-1              </td>\n",
              "        </tr>\n",
              "        <tr>\n",
              "            <td>California </td> <td>17              </td>\n",
              "        </tr>\n",
              "        <tr>\n",
              "            <td>Colorado   </td> <td>-4              </td>\n",
              "        </tr>\n",
              "        <tr>\n",
              "            <td>Connecticut</td> <td>4               </td>\n",
              "        </tr>\n",
              "        <tr>\n",
              "            <td>Delaware   </td> <td>-3              </td>\n",
              "        </tr>\n",
              "        <tr>\n",
              "            <td>Florida    </td> <td>-6              </td>\n",
              "        </tr>\n",
              "        <tr>\n",
              "            <td>Georgia    </td> <td>-3              </td>\n",
              "        </tr>\n",
              "    </tbody>\n",
              "</table>\n",
              "<p>... (40 rows omitted)</p>"
            ],
            "text/plain": [
              "State       | Two Year Changes\n",
              "Alabama     | -6\n",
              "Alaska      | -5\n",
              "Arizona     | 1\n",
              "Arkansas    | -1\n",
              "California  | 17\n",
              "Colorado    | -4\n",
              "Connecticut | 4\n",
              "Delaware    | -3\n",
              "Florida     | -6\n",
              "Georgia     | -3\n",
              "... (40 rows omitted)"
            ]
          },
          "metadata": {
            "tags": []
          },
          "execution_count": 124
        }
      ]
    },
    {
      "cell_type": "markdown",
      "metadata": {
        "id": "7HqLw0-6uhbD",
        "colab_type": "text"
      },
      "source": [
        "### Question 2.3. Assign total_changes to the total increases minus the total decreases for all two-year periods and all states in our data set."
      ]
    },
    {
      "cell_type": "code",
      "metadata": {
        "id": "By18tjxLuk3d",
        "colab_type": "code",
        "colab": {
          "base_uri": "https://localhost:8080/",
          "height": 34
        },
        "outputId": "6e89f4ec-834f-4e90-a9ce-647a41363b5c"
      },
      "source": [
        "total_changes = np.sum(changes_by_state[1])\n",
        "\n",
        "print('Total increases minus total decreases, across all states and years:', total_changes)"
      ],
      "execution_count": 125,
      "outputs": [
        {
          "output_type": "stream",
          "text": [
            "Total increases minus total decreases, across all states and years: 45.0\n"
          ],
          "name": "stdout"
        }
      ]
    },
    {
      "cell_type": "markdown",
      "metadata": {
        "id": "0koJ5xcKu5fK",
        "colab_type": "text"
      },
      "source": [
        "### Question 2.4. Set num_changes to the number of different two-year periods in the entire data set that could result in a change of a state's murder rate. Include both those periods where a change occurred and the periods where a state's rate happened to stay the same.\n",
        "\n",
        "For example, 1968 to 1970 of Alaska would count as one distinct two-year period."
      ]
    },
    {
      "cell_type": "code",
      "metadata": {
        "id": "L3n0CFU-vB9R",
        "colab_type": "code",
        "colab": {
          "base_uri": "https://localhost:8080/",
          "height": 34
        },
        "outputId": "623fe253-c9d3-4d03-fbbc-45f029257405"
      },
      "source": [
        "def count_changes():\n",
        "  \"\"\" Return the number of possible changes in the data set \"\"\"\n",
        "  num_changes = 0\n",
        "  for i in range(2, len(pivot.column('Alabama')), 1):\n",
        "    num_changes += 1\n",
        "    \n",
        "  num_changes = num_changes * minus_years.num_columns\n",
        "  return num_changes\n",
        "\n",
        "print(\"There are\", count_changes(), \"possible two-year changes in murder rates that could occur across all states and time periods.\")"
      ],
      "execution_count": 126,
      "outputs": [
        {
          "output_type": "stream",
          "text": [
            "There are 2100 possible two-year changes in murder rates that could occur across all states and time periods.\n"
          ],
          "name": "stdout"
        }
      ]
    },
    {
      "cell_type": "markdown",
      "metadata": {
        "id": "Km_pZsZJLpVQ",
        "colab_type": "text"
      },
      "source": [
        "**Null Hypothesis: State murder rates increase and decrease over two-year periods as if \"increase\" or \"decrease\" were sampled at random from a uniform distribution, like a fair coin flip.**\n",
        "\n",
        "**Alternative Hypothesis: State murder rates are either more likely or less likely to increase than decrease over two-year periods.**\n",
        "\n",
        "### Question 2.5. Given these null and alternative hypotheses, define a good test statistic.\n",
        "Important requirements for your test statistic: Choose a test statistic for which large positive values are evidence in favor of the alternative hypothesis, and other values are evidence in favor of the null hypothesis. Your test statistic should depend only on whether murder rates increased or decreased,\n",
        "not on the size of any change.\n",
        "\n",
        "\n",
        "---\n",
        "\n",
        "\n",
        "\n",
        "**Test statistic: the value of increases minus the value of decreases in two-year murder rate sampled across the time period**\n",
        "\n",
        "\n",
        "---\n",
        "\n"
      ]
    },
    {
      "cell_type": "code",
      "metadata": {
        "id": "YD8CaWBXQRY3",
        "colab_type": "code",
        "colab": {
          "base_uri": "https://localhost:8080/",
          "height": 106
        },
        "outputId": "d2922ee0-15cb-490f-85bc-54725111a030"
      },
      "source": [
        "uniform = Table().with_columns(\n",
        "    \"Change\", make_array('Increase', 'Decrease'),\n",
        "    \"Chance\", make_array(0.5,        0.5))\n",
        "uniform.sample_from_distribution('Chance', 100)"
      ],
      "execution_count": 127,
      "outputs": [
        {
          "output_type": "execute_result",
          "data": {
            "text/html": [
              "<table border=\"1\" class=\"dataframe\">\n",
              "    <thead>\n",
              "        <tr>\n",
              "            <th>Change</th> <th>Chance</th> <th>Chance sample</th>\n",
              "        </tr>\n",
              "    </thead>\n",
              "    <tbody>\n",
              "        <tr>\n",
              "            <td>Increase</td> <td>0.5   </td> <td>54           </td>\n",
              "        </tr>\n",
              "        <tr>\n",
              "            <td>Decrease</td> <td>0.5   </td> <td>46           </td>\n",
              "        </tr>\n",
              "    </tbody>\n",
              "</table>"
            ],
            "text/plain": [
              "Change   | Chance | Chance sample\n",
              "Increase | 0.5    | 54\n",
              "Decrease | 0.5    | 46"
            ]
          },
          "metadata": {
            "tags": []
          },
          "execution_count": 127
        }
      ]
    },
    {
      "cell_type": "markdown",
      "metadata": {
        "id": "NBVBWbMTQUMO",
        "colab_type": "text"
      },
      "source": [
        "### Question 2.6. Complete the simulation below, which samples num_changes increases/decreases at random many times and forms an empirical distribution of your test statistic under the null hypothesis. \n",
        "\n",
        "Your job is to fill in the function simulate_under_null, which simulates a single sample under the null hypothesis, and fill in its argument when it's called below."
      ]
    },
    {
      "cell_type": "code",
      "metadata": {
        "id": "EkiynPgtQeKg",
        "colab_type": "code",
        "colab": {
          "base_uri": "https://localhost:8080/",
          "height": 301
        },
        "outputId": "dbd4e83c-70e6-4907-b9b4-67f2066f2b69"
      },
      "source": [
        "def simulate_under_null(num_chances_to_change):\n",
        "    \"\"\"Simulates some number changing several times, with an equal\n",
        "    chance to increase or decrease.  Returns the value of your\n",
        "    test statistic for these simulated changes.\n",
        "    \n",
        "    num_chances_to_change is the number of times the number changes.\n",
        "    \"\"\"\n",
        "    uniform = Table().with_columns(\n",
        "      \"Change\", make_array('Increase', 'Decrease'),\n",
        "      \"Chance\", make_array(0.5,        0.5))\n",
        "    uniform = uniform.sample_from_distribution('Chance', num_chances_to_change)\n",
        "    return uniform.column(2)[0] - uniform.column(2)[1]\n",
        "    \n",
        "\n",
        "simulate_under_null(100)\n",
        "uniform_samples = make_array()\n",
        "for i in np.arange(5000):\n",
        "    uniform_samples = np.append(uniform_samples, simulate_under_null(100))\n",
        "\n",
        "# Feel free to change the bins if they don't make sense for your test statistic.    \n",
        "Table().with_column('Value of increases minus decreases under null', uniform_samples).hist(0, bins=np.arange(-30, 30, 2))"
      ],
      "execution_count": 128,
      "outputs": [
        {
          "output_type": "display_data",
          "data": {
            "image/png": "[encoded data removed]",
            "text/plain": [
              "<Figure size 432x288 with 1 Axes>"
            ]
          },
          "metadata": {
            "tags": []
          }
        }
      ]
    },
    {
      "cell_type": "markdown",
      "metadata": {
        "id": "GPLuiYShWAm-",
        "colab_type": "text"
      },
      "source": [
        "### Question 2.7. Looking at this histogram, draw a conclusion about whether murder rates basically increase as often as they decrease. (You do not need to compute a P-value for this question.)\n",
        "\n",
        "\n",
        "---\n",
        "\n",
        "\n",
        "When given an equal change to increase or decrease, as in this function, it does seem that murder rates increase about as often as they decrease.\n",
        "\n",
        "\n",
        "\n",
        "---\n",
        "\n",
        "# 3. The death penalty\n",
        "\n",
        "Some US states have the death penalty, and others don't, and laws have changed over time. In addition to changes in murder rates, we will also consider whether the death penalty was in force in each state and each year.\n",
        "\n",
        "Using this information, we would like to investigate how the death penalty affects the murder rate of a state.\n",
        "\n",
        "\n",
        "\n",
        "---\n",
        "\n",
        "### Question 3.1. Describe this investigation in terms of an experiment. What population are we studying? What is the control group? What is the treatment group? What outcome are we measuring?\n",
        "\n",
        "*Population*: The 50 United States\n",
        "\n",
        "*Control Group*: States where the death penalty remained intact and was not reinstated.\n",
        "\n",
        "*Treatment Group*: States where the death penalty was abolished\n",
        "\n",
        "*Outcome*: Whether we could reasonably expect the results we see (in terms of murder rate increases/decreases) in the different state groups (death penalty vs. non) under the assumptions of random chance. If we could not, we can reject the null hypothesis.\n",
        "\n",
        "\n",
        "---\n",
        "### Question 3.2. We want to know whether the death penalty causes a change in the murder rate. Why is it not sufficient to compare murder rates in places and times when the death penalty was in force with places and times when it wasn't?\n",
        "\n",
        "For several reasons: we don't know whether the differences we see in these contrasting times and places are due to the death penalty at all. Especially if we're grouping non-death-penalty states before the abolition of the death penalty with death-penalty states after the abolition. There are inter-state differences as well as intra-state differences that are not accounted for. For example, a state that abolished the death penalty may have had lower baseline murder rates in general, and the lower rate we see is not at all related to the death penalty.\n"
      ]
    },
    {
      "cell_type": "code",
      "metadata": {
        "id": "ngG-yerfWADO",
        "colab_type": "code",
        "colab": {
          "base_uri": "https://localhost:8080/",
          "height": 372
        },
        "outputId": "4d4c1607-3170-4792-b978-33b8c0a89fca"
      },
      "source": [
        "non_death_penalty_states = make_array('Alaska', 'Hawaii', 'Maine', 'Michigan', 'Wisconsin', 'Minnesota')\n",
        "def had_death_penalty_in_1971(state):\n",
        "    \"\"\"Returns True if the argument is the name of a state that had the death penalty in 1971.\"\"\"\n",
        "    # The implementation of this function uses a bit of syntax\n",
        "    # we haven't seen before.  Just trust that it behaves as its\n",
        "    # documentation claims.\n",
        "    return state not in non_death_penalty_states\n",
        "\n",
        "states = murder_rates.group('State').select('State')\n",
        "death_penalty = states.with_column('Death Penalty', states.apply(had_death_penalty_in_1971, 0))\n",
        "death_penalty"
      ],
      "execution_count": 129,
      "outputs": [
        {
          "output_type": "execute_result",
          "data": {
            "text/html": [
              "<table border=\"1\" class=\"dataframe\">\n",
              "    <thead>\n",
              "        <tr>\n",
              "            <th>State</th> <th>Death Penalty</th>\n",
              "        </tr>\n",
              "    </thead>\n",
              "    <tbody>\n",
              "        <tr>\n",
              "            <td>Alabama    </td> <td>True         </td>\n",
              "        </tr>\n",
              "        <tr>\n",
              "            <td>Alaska     </td> <td>False        </td>\n",
              "        </tr>\n",
              "        <tr>\n",
              "            <td>Arizona    </td> <td>True         </td>\n",
              "        </tr>\n",
              "        <tr>\n",
              "            <td>Arkansas   </td> <td>True         </td>\n",
              "        </tr>\n",
              "        <tr>\n",
              "            <td>California </td> <td>True         </td>\n",
              "        </tr>\n",
              "        <tr>\n",
              "            <td>Colorado   </td> <td>True         </td>\n",
              "        </tr>\n",
              "        <tr>\n",
              "            <td>Connecticut</td> <td>True         </td>\n",
              "        </tr>\n",
              "        <tr>\n",
              "            <td>Delaware   </td> <td>True         </td>\n",
              "        </tr>\n",
              "        <tr>\n",
              "            <td>Florida    </td> <td>True         </td>\n",
              "        </tr>\n",
              "        <tr>\n",
              "            <td>Georgia    </td> <td>True         </td>\n",
              "        </tr>\n",
              "    </tbody>\n",
              "</table>\n",
              "<p>... (40 rows omitted)</p>"
            ],
            "text/plain": [
              "State       | Death Penalty\n",
              "Alabama     | True\n",
              "Alaska      | False\n",
              "Arizona     | True\n",
              "Arkansas    | True\n",
              "California  | True\n",
              "Colorado    | True\n",
              "Connecticut | True\n",
              "Delaware    | True\n",
              "Florida     | True\n",
              "Georgia     | True\n",
              "... (40 rows omitted)"
            ]
          },
          "metadata": {
            "tags": []
          },
          "execution_count": 129
        }
      ]
    },
    {
      "cell_type": "code",
      "metadata": {
        "id": "MDXo-yKBdYNH",
        "colab_type": "code",
        "colab": {
          "base_uri": "https://localhost:8080/",
          "height": 34
        },
        "outputId": "f7f00f18-fbc5-4e19-e7f3-9e8f1ea96ee0"
      },
      "source": [
        "num_death_penalty_states = death_penalty.where(\"Death Penalty\", are.equal_to(True)).num_rows\n",
        "num_death_penalty_states"
      ],
      "execution_count": 130,
      "outputs": [
        {
          "output_type": "execute_result",
          "data": {
            "text/plain": [
              "44"
            ]
          },
          "metadata": {
            "tags": []
          },
          "execution_count": 130
        }
      ]
    },
    {
      "cell_type": "markdown",
      "metadata": {
        "id": "iHy90c5Fdmtb",
        "colab_type": "text"
      },
      "source": [
        "### Question 3.3. Assign death_penalty_murder_rates to a table with the same columns and data as murder_rates, but that has only the rows for states that had the death penalty in 1971."
      ]
    },
    {
      "cell_type": "code",
      "metadata": {
        "id": "I07qNlgrdqXY",
        "colab_type": "code",
        "colab": {
          "base_uri": "https://localhost:8080/",
          "height": 372
        },
        "outputId": "b1b15a8f-6e86-4edf-f99d-61d08a70b539"
      },
      "source": [
        "death_penalty_murder_rates = murder_rates.where('State', are.not_contained_in(non_death_penalty_states))\n",
        "death_penalty_murder_rates"
      ],
      "execution_count": 131,
      "outputs": [
        {
          "output_type": "execute_result",
          "data": {
            "text/html": [
              "<table border=\"1\" class=\"dataframe\">\n",
              "    <thead>\n",
              "        <tr>\n",
              "            <th>State</th> <th>Year</th> <th>Population</th> <th>Murder Rate</th>\n",
              "        </tr>\n",
              "    </thead>\n",
              "    <tbody>\n",
              "        <tr>\n",
              "            <td>Alabama</td> <td>1960</td> <td>3,266,740 </td> <td>12.4       </td>\n",
              "        </tr>\n",
              "        <tr>\n",
              "            <td>Alabama</td> <td>1961</td> <td>3,302,000 </td> <td>12.9       </td>\n",
              "        </tr>\n",
              "        <tr>\n",
              "            <td>Alabama</td> <td>1962</td> <td>3,358,000 </td> <td>9.4        </td>\n",
              "        </tr>\n",
              "        <tr>\n",
              "            <td>Alabama</td> <td>1963</td> <td>3,347,000 </td> <td>10.2       </td>\n",
              "        </tr>\n",
              "        <tr>\n",
              "            <td>Alabama</td> <td>1964</td> <td>3,407,000 </td> <td>9.3        </td>\n",
              "        </tr>\n",
              "        <tr>\n",
              "            <td>Alabama</td> <td>1965</td> <td>3,462,000 </td> <td>11.4       </td>\n",
              "        </tr>\n",
              "        <tr>\n",
              "            <td>Alabama</td> <td>1966</td> <td>3,517,000 </td> <td>10.9       </td>\n",
              "        </tr>\n",
              "        <tr>\n",
              "            <td>Alabama</td> <td>1967</td> <td>3,540,000 </td> <td>11.7       </td>\n",
              "        </tr>\n",
              "        <tr>\n",
              "            <td>Alabama</td> <td>1968</td> <td>3,566,000 </td> <td>11.8       </td>\n",
              "        </tr>\n",
              "        <tr>\n",
              "            <td>Alabama</td> <td>1969</td> <td>3,531,000 </td> <td>13.7       </td>\n",
              "        </tr>\n",
              "    </tbody>\n",
              "</table>\n",
              "<p>... (1926 rows omitted)</p>"
            ],
            "text/plain": [
              "State   | Year | Population | Murder Rate\n",
              "Alabama | 1960 | 3,266,740  | 12.4\n",
              "Alabama | 1961 | 3,302,000  | 12.9\n",
              "Alabama | 1962 | 3,358,000  | 9.4\n",
              "Alabama | 1963 | 3,347,000  | 10.2\n",
              "Alabama | 1964 | 3,407,000  | 9.3\n",
              "Alabama | 1965 | 3,462,000  | 11.4\n",
              "Alabama | 1966 | 3,517,000  | 10.9\n",
              "Alabama | 1967 | 3,540,000  | 11.7\n",
              "Alabama | 1968 | 3,566,000  | 11.8\n",
              "Alabama | 1969 | 3,531,000  | 13.7\n",
              "... (1926 rows omitted)"
            ]
          },
          "metadata": {
            "tags": []
          },
          "execution_count": 131
        }
      ]
    },
    {
      "cell_type": "markdown",
      "metadata": {
        "id": "bPwcv517e4VR",
        "colab_type": "text"
      },
      "source": [
        "\n",
        "### Question 3.4. Assign changes_72 to the value of the test statistic for the years 1971 to 1973 and the states in death_penalty_murder_rates."
      ]
    },
    {
      "cell_type": "code",
      "metadata": {
        "id": "RWNJMH54e-my",
        "colab_type": "code",
        "colab": {
          "base_uri": "https://localhost:8080/",
          "height": 34
        },
        "outputId": "3492ff56-ab28-42db-9565-bd6e4e870f54"
      },
      "source": [
        "penalty_rates = death_penalty_murder_rates.drop('Population')\n",
        "penalty_pivot = penalty_rates.pivot(\"State\", \"Year\", values=\"Murder Rate\", collect=np.mean)\n",
        "\n",
        "seventy_two = penalty_pivot.where('Year', are.between_or_equal_to(1971, 1973)) # Narrowing it down\n",
        "seventy_two\n",
        "\n",
        "seventy_two_changes = make_array()\n",
        "\n",
        "for column in seventy_two.columns[1:]:\n",
        "  change = column[2] - column[0]\n",
        "  seventy_two_changes = np.append(seventy_two_changes, change)\n",
        "\n",
        "test_stat_72 = np.sum(seventy_two_changes)\n",
        "print('Increases minus decreases from 1971 to 1973:', np.round(test_stat_72, 2))"
      ],
      "execution_count": 132,
      "outputs": [
        {
          "output_type": "stream",
          "text": [
            "Increases minus decreases from 1971 to 1973: 26.7\n"
          ],
          "name": "stdout"
        }
      ]
    },
    {
      "cell_type": "markdown",
      "metadata": {
        "id": "v2JZChlFixxp",
        "colab_type": "text"
      },
      "source": [
        "###Question 3.5.: Draw an empirical histogram of the statistic under the null hypothesis by simulating the test statistic 5,000 times."
      ]
    },
    {
      "cell_type": "code",
      "metadata": {
        "id": "H6fF-Meti0Ij",
        "colab_type": "code",
        "colab": {}
      },
      "source": [
        "def simulate_difference(num_chances_to_change):\n",
        "    null = Table().with_columns(\n",
        "      \"Change\", make_array('Increase', 'Decrease'),\n",
        "      \"Chance\", make_array(0.5,        0.5))\n",
        "    null = null.sample_from_distribution('Chance', num_chances_to_change)\n",
        "    return null.column(2)[0] - null.column(2)[1]\n",
        "\n",
        "null_samples = make_array()\n",
        "for i in np.arange(5000):\n",
        "    null_samples = np.append(null_samples, simulate_difference(100))\n",
        "simulated_changes = Table().with_column('Change', null_samples)\n",
        "\n",
        "sample_changes = simulated_changes.sample(5000) # Grabbing a sample of counts."
      ],
      "execution_count": 0,
      "outputs": []
    },
    {
      "cell_type": "code",
      "metadata": {
        "id": "LwwyG_A4vF0h",
        "colab_type": "code",
        "colab": {
          "base_uri": "https://localhost:8080/",
          "height": 34
        },
        "outputId": "219f7ec3-ad33-43ca-bc6a-35dd52189d35"
      },
      "source": [
        "def bootstrap_changes(sample, label, replications):\n",
        "    bootstrap_array = make_array()\n",
        "    for i in np.arange(replications):\n",
        "        bootstrap_sample = sample.sample()\n",
        "        sample_array = bootstrap_sample.column(0)\n",
        "        bootstrap_array = np.append(bootstrap_array, sample_array)  \n",
        "    print(bootstrap_array)\n",
        "    return bootstrap_array\n",
        "\n",
        "bootstrap = bootstrap_changes(sample_changes, 'Change', 5000)\n",
        "lbound = np.round(percentile(2.5, bootstrap), 2)\n",
        "rbound = np.round(percentile(97.5, bootstrap), 2)\n",
        "confidence_interval = make_array([lbound, rbound])\n",
        "simulated_changes_2 = Table().with_column('Bootstrap Sample Mean', bootstrap)"
      ],
      "execution_count": 139,
      "outputs": [
        {
          "output_type": "stream",
          "text": [
            "[ 6. 20. -4. ... -2. 14. 14.]\n"
          ],
          "name": "stdout"
        }
      ]
    },
    {
      "cell_type": "code",
      "metadata": {
        "id": "GgHuN0cY2TiD",
        "colab_type": "code",
        "colab": {
          "base_uri": "https://localhost:8080/",
          "height": 301
        },
        "outputId": "905bcc7f-2ceb-45ee-a957-d8129b1904d0"
      },
      "source": [
        "simulated_changes_2.hist(bins=np.arange(-30,30,2))\n",
        "plt.plot(make_array(lbound, rbound), make_array(0, 0), color='yellow', lw=3);\n",
        "plt.scatter(test_stat_72, 0, color='red', s=100);"
      ],
      "execution_count": 140,
      "outputs": [
        {
          "output_type": "display_data",
          "data": {
            "image/png": "[encoded data removed]",
            "text/plain": [
              "<Figure size 432x288 with 1 Axes>"
            ]
          },
          "metadata": {
            "tags": []
          }
        }
      ]
    },
    {
      "cell_type": "markdown",
      "metadata": {
        "id": "LOzZpCaJ1lph",
        "colab_type": "text"
      },
      "source": [
        "\n",
        "It is clear that our observed change from 1971 - 1973 is outside the 95% confidence interval of our bootstrapped changes sample distribution, but what about its actual P value?\n",
        "\n",
        "---\n",
        "\n",
        "\n",
        "#Conclusion\n",
        "### Question 3.6. Complete the analysis as follows:\n",
        "\n",
        "Compute a P-value.\n",
        "Draw a conclusion about the null and alternative hypotheses.\n",
        "Describe your findings using simple, non-technical language. Be careful not to claim that the statistical analysis has established more than it really has.\n",
        "\n",
        "P-value: 0.00541888\n",
        "\n",
        "Conclusion about the hypotheses: The null hypothesis can be rejected; the alternative hypothesis, which states that the murder rate was more likely to increase or more likely to decrease, can be embraced.\n",
        "\n",
        "Findings: The murder rate from 1971 - 1973 in the states that abolished the death penalty saw an increase that was statistically more likely than chance to occur. This does not necessarily establish causality."
      ]
    },
    {
      "cell_type": "code",
      "metadata": {
        "id": "T2u5qwR76fKR",
        "colab_type": "code",
        "colab": {
          "base_uri": "https://localhost:8080/",
          "height": 34
        },
        "outputId": "36488033-cf1a-4f1a-c74f-5498b294b1d5"
      },
      "source": [
        "empirical_P = np.count_nonzero(bootstrap >= test_stat_72) / 25000000\n",
        "empirical_P"
      ],
      "execution_count": 141,
      "outputs": [
        {
          "output_type": "execute_result",
          "data": {
            "text/plain": [
              "0.00402024"
            ]
          },
          "metadata": {
            "tags": []
          },
          "execution_count": 141
        }
      ]
    },
    {
      "cell_type": "markdown",
      "metadata": {
        "id": "L1EdoaUs9_AO",
        "colab_type": "text"
      },
      "source": [
        "#4. Further evidence\n",
        "\n",
        "###Question 4.1. Implement run_test, which takes the following arguments:\n",
        "\n",
        "A table of murder rates for certain states, sorted by state and year like murder_rates, and the year when the analysis starts. (The comparison group is two years later.) It prints out the observed test statistic and returns the P-value for this statistic under the null hypothesis."
      ]
    },
    {
      "cell_type": "code",
      "metadata": {
        "id": "JESCHeUuSfw7",
        "colab_type": "code",
        "colab": {
          "base_uri": "https://localhost:8080/",
          "height": 118
        },
        "outputId": "66a086bd-adab-49c6-bd65-f2d3e7a23a06"
      },
      "source": [
        "# Hint 1: You can complete most of this question by copying code you wrote earlier.\n",
        "# Hint 2: This problem might seem daunting. Start by writing out the different steps involved in running a test.\n",
        "\n",
        "def run_test(rates, start_year):\n",
        "    \"\"\"Return a P-value for the observed difference between increases and decreases.\"\"\"\n",
        "    end_year = start_year + 2\n",
        "    penalty_rates =  rates.drop('Population')\n",
        "    penalty_pivot = penalty_rates.pivot(\"State\", \"Year\", values=\"Murder Rate\", collect=np.mean)\n",
        "\n",
        "    two_year_rates = penalty_pivot.where('Year', are.between_or_equal_to(start_year, end_year)) # Narrowing it down\n",
        "    timespan_changes = make_array()\n",
        "\n",
        "    for column in two_year_rates.columns[1:]:\n",
        "      change = column[2] - column[0]\n",
        "      timespan_changes = np.append(timespan_changes, change)\n",
        "\n",
        "    observed_test_statistic = np.sum(timespan_changes)\n",
        "    print('Test statistic', start_year, 'to', end_year, ':', np.round(observed_test_statistic, 2))\n",
        "    \n",
        "    null_samples = make_array()\n",
        "    for i in np.arange(5000):\n",
        "        null_samples = np.append(null_samples, simulate_difference(100))\n",
        "    simulated_changes = Table().with_column('Change', null_samples)\n",
        "    sample_changes = simulated_changes.sample(5000) # Grabbing a sample of counts\n",
        "\n",
        "    bootstrap = bootstrap_changes(sample_changes, 'Change', 5000)\n",
        "    simulated_changes_2 = Table().with_column('Bootstrap Sample Mean', bootstrap)\n",
        "\n",
        "    p_value = np.count_nonzero(bootstrap >= observed_test_statistic) / 25000000\n",
        "    print(\"The p value for the observed statistic over these two years is\", np.round(p_value, 5))\n",
        "    \n",
        "run_test(death_penalty_murder_rates, 1971)\n",
        "run_test(death_penalty_murder_rates, 1974)"
      ],
      "execution_count": 146,
      "outputs": [
        {
          "output_type": "stream",
          "text": [
            "Test statistic 1971 to 1973 : 26.7\n",
            "[ 2.  6.  6. ... -4.  8.  0.]\n",
            "The p value for the observed statistic over these two years is 0.00458\n",
            "Test statistic 1974 to 1976 : -44.1\n",
            "[  8. -20.  -6. ...   2.  -6.   6.]\n",
            "The p value for the observed statistic over these two years is 1.0\n"
          ],
          "name": "stdout"
        }
      ]
    },
    {
      "cell_type": "markdown",
      "metadata": {
        "id": "GYnvSgKi9mbk",
        "colab_type": "text"
      },
      "source": [
        "\n",
        "### Question 4.3. Now we've analyzed states where the death penalty went away and came back, as well as states where the death penalty was outlawed all along. \n",
        "\n",
        "What do you conclude from the results of the tests we have conducted so far? Does all the evidence consistently point toward one conclusion, or is there a contradiction?\n",
        "\n",
        "\n",
        "\n",
        "---\n",
        "\n",
        "**I ran the preceding run_test() function on another time period that was not the 1971 - 1973 period under question; from 1974 - 1976, murder rates declined much more across this time period for non-death-penalty states. This should not necessarily be the case, given that these states abolished the death penalty, but murder rates declined precipitously anyway (much more than they increased over the 1971 - 1973 period). This strongly contradictory evidence indicates that we cannot assume that abolishing the death penalty is the cause of increased murder rates.**\n",
        "\n",
        "\n",
        "\n",
        "---\n",
        "\n",
        "#5 Visualization\n",
        "\n",
        "### Question 5.1. Create a table called average_murder_rates with 1 row for each year in murder_rates. It should have 3 columns:\n",
        "\n",
        "* Year, the year,\n",
        "* Death penalty states, the average murder rate of the states that had the death penalty in 1971, and\n",
        "* No death penalty states, the average murder rate of the other states.\n",
        "average_murder_rates should be sorted in increasing order by year. Its first three rows should look like:"
      ]
    },
    {
      "cell_type": "code",
      "metadata": {
        "id": "GS5kOL0D_zfA",
        "colab_type": "code",
        "colab": {
          "base_uri": "https://localhost:8080/",
          "height": 372
        },
        "outputId": "21ab6566-ddb0-435f-9098-e3c686c1d140"
      },
      "source": [
        "# First, we need to create the pivoted no_death_penalty_murder_rates table.\n",
        "\n",
        "no_death_penalty_murder_rates = murder_rates.where('State', are.contained_in(non_death_penalty_states))\n",
        "no_penalty_rates = no_death_penalty_murder_rates.drop('Population')\n",
        "no_penalty_pivot = no_penalty_rates.pivot(\"State\", \"Year\", values=\"Murder Rate\", collect=np.mean)\n",
        "\n",
        "means = make_array()\n",
        "for row in no_penalty_pivot.rows:\n",
        "  mean = np.round(np.mean(row[1:]), 2)\n",
        "  means = np.append(means, mean)\n",
        "no_penalty_pivot.with_column('Average Rates', means)\n",
        "\n",
        "pen_means = make_array()\n",
        "for row in penalty_pivot.rows:\n",
        "  pen_mean = np.round(np.mean(row[1:]), 2)\n",
        "  pen_means = np.append(pen_means, pen_mean)\n",
        "penalty_pivot.with_column('Average Rates', pen_means)\n",
        "\n",
        "average_murder_rates = Table().with_columns('Year', penalty_pivot.column(0), 'Death Penalty States', pen_means, 'No Death Penalty States', means)\n",
        "average_murder_rates"
      ],
      "execution_count": 159,
      "outputs": [
        {
          "output_type": "execute_result",
          "data": {
            "text/html": [
              "<table border=\"1\" class=\"dataframe\">\n",
              "    <thead>\n",
              "        <tr>\n",
              "            <th>Year</th> <th>Death Penalty States</th> <th>No Death Penalty States</th>\n",
              "        </tr>\n",
              "    </thead>\n",
              "    <tbody>\n",
              "        <tr>\n",
              "            <td>1960</td> <td>5.28                </td> <td>3.55                   </td>\n",
              "        </tr>\n",
              "        <tr>\n",
              "            <td>1961</td> <td>4.78                </td> <td>3.68                   </td>\n",
              "        </tr>\n",
              "        <tr>\n",
              "            <td>1962</td> <td>4.62                </td> <td>2.33                   </td>\n",
              "        </tr>\n",
              "        <tr>\n",
              "            <td>1963</td> <td>4.61                </td> <td>2.75                   </td>\n",
              "        </tr>\n",
              "        <tr>\n",
              "            <td>1964</td> <td>4.71                </td> <td>3.4                    </td>\n",
              "        </tr>\n",
              "        <tr>\n",
              "            <td>1965</td> <td>4.83                </td> <td>3.18                   </td>\n",
              "        </tr>\n",
              "        <tr>\n",
              "            <td>1966</td> <td>5.43                </td> <td>4.52                   </td>\n",
              "        </tr>\n",
              "        <tr>\n",
              "            <td>1967</td> <td>5.88                </td> <td>3.73                   </td>\n",
              "        </tr>\n",
              "        <tr>\n",
              "            <td>1968</td> <td>6.27                </td> <td>4.73                   </td>\n",
              "        </tr>\n",
              "        <tr>\n",
              "            <td>1969</td> <td>6.5                 </td> <td>4.73                   </td>\n",
              "        </tr>\n",
              "    </tbody>\n",
              "</table>\n",
              "<p>... (34 rows omitted)</p>"
            ],
            "text/plain": [
              "Year | Death Penalty States | No Death Penalty States\n",
              "1960 | 5.28                 | 3.55\n",
              "1961 | 4.78                 | 3.68\n",
              "1962 | 4.62                 | 2.33\n",
              "1963 | 4.61                 | 2.75\n",
              "1964 | 4.71                 | 3.4\n",
              "1965 | 4.83                 | 3.18\n",
              "1966 | 5.43                 | 4.52\n",
              "1967 | 5.88                 | 3.73\n",
              "1968 | 6.27                 | 4.73\n",
              "1969 | 6.5                  | 4.73\n",
              "... (34 rows omitted)"
            ]
          },
          "metadata": {
            "tags": []
          },
          "execution_count": 159
        }
      ]
    },
    {
      "cell_type": "code",
      "metadata": {
        "id": "YSyLkoQkEILV",
        "colab_type": "code",
        "colab": {
          "base_uri": "https://localhost:8080/",
          "height": 304
        },
        "outputId": "c3e05593-a3b3-4c74-bbb4-b246a41d1491"
      },
      "source": [
        "average_murder_rates.plot('Year')"
      ],
      "execution_count": 160,
      "outputs": [
        {
          "output_type": "display_data",
          "data": {
            "image/png": "[encoded data removed]",
            "text/plain": [
              "<Figure size 432x288 with 1 Axes>"
            ]
          },
          "metadata": {
            "tags": []
          }
        }
      ]
    },
    {
      "cell_type": "markdown",
      "metadata": {
        "id": "BoDfquy4EPAl",
        "colab_type": "text"
      },
      "source": [
        "### Question 5.2. Describe in one short sentence a high-level takeaway from the line plot below. Are the murder rates in these two groups of states related?\n",
        "\n",
        "Visually, the murder rates in these two groups of states seem to be strongly related; increases and decreases happen with the same trends. While the group of death penalty states does have slightly higher murder rates, it seems that we cannot generalize and say that abolishing the death penalty caused higher murder rates, because for the period from 1971 - 1973 (the year before and after the death penalty was abolished), both death penalty states and non-death-penalty states saw a huge increase in murder rates.\n",
        "\n",
        "\n",
        "\n",
        "---\n",
        "The assignment states, \"Canada has not executed a criminal since 1962. Since 1967, the only crime that can be punished by execution in Canada is the murder of on-duty law enforcement personnel. The paper states, \"The most striking finding is that the homicide rate in Canada has moved in virtual lockstep with the rate in the United States.\"\"\n",
        "\n",
        "\n",
        "\n",
        "---\n",
        "\n",
        "\n",
        "### Question 5.4. Complete their argument in 2-3 sentences; what features of these plots indicate that the death penalty is not an important factor in determining the murder rate? (If you're stuck, read the paper.)\n",
        "\n",
        "Since the murder rate in the United States (where the death penalty has been variously abolished and reinstated) and the murder rate in Canada (where the death penalty was abolished) display the same trends, the increases and decreases we see cannot be attributed to the existence of the death penalty or lack thereof. While we could come to specious conclusions based on the statistically significant increase seen in the 1971 - 1973 time period, this increase does not stand up to the rest of the data.\n",
        "\n",
        "\n",
        "---\n",
        "\n",
        "\n",
        "\n",
        "### Question 5.5. What assumption(s) did we make in Parts 1 through 4 of the project that led us to believe that the death penalty deterred murder, when in fact the line plots tell a different story?\n",
        "\n",
        "- We only considered the death penalty as a possible factor in murder rate, and didn't even mention the many other confounding factors. This could be any number of things: climate, gun policy, or unemployment rate.\n",
        "- Another assumption we made was by calculating the murder rate from 1971 - 1973 before looking closely at the murder rate for any other two-year period. This assigned the 1971 - 1973 murder rate a false importance."
      ]
    }
  ]
}