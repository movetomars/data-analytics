{
 "cells": [
  {
   "cell_type": "code",
   "execution_count": 0,
   "metadata": {
    "id": "kpwaHtycmiyR",
    "colab_type": "code",
    "colab": {}
   },
   "outputs": [],
   "source": [
    "# Imports first\n",
    "\n",
    "import numpy as np\n",
    "from datascience import *\n",
    "import matplotlib\n",
    "%matplotlib inline\n",
    "import matplotlib.pyplot as plt\n",
    "plt.style.use('fivethirtyeight')\n",
    "import warnings\n",
    "warnings.simplefilter('ignore', FutureWarning)"
   ]
  },
  {
   "cell_type": "markdown",
   "metadata": {
    "id": "fnGgzETeeLni",
    "colab_type": "text"
   },
   "source": [
    "# Final Assignment\n",
    "### INFO 5502\n",
    "### Maia Petee\n",
    "---\n",
    "\n",
    "\n",
    "December 6th, 2019\n",
    "\n",
    "\n",
    "1. Read chapter 11 and choose an example to explain how to test hypothesis. You need describe a problem, define null hypothesis and alternative hypothesis, and then define test statistic. Check the distribution of the Test Statistic under the Null hypothesis, and finally make conclusion of the test. You must describe each step using example. \n",
    "\n",
    "\n",
    "\n",
    "---\n",
    "Testing a hypothesis almost always involves posing an initial yes or no question about some aspect of the world. For example, we might ask ourselves whether a certain food is good or bad for us, whether high stress levels are related to an early death, or whether a medication really does work. We could ask any question for which sufficient data is available (or able to be gathered). After data is collected and an EDA is conducted on that data, we can decide whether the data is sufficient to test the hypothesis. \n",
    "\n",
    "An important part of testing hypotheses is defining the **null** and **alternative** hypotheses for a given question. For example, if testing whether stress leads to an early death, the null hypothesis would assume that there is no (provable) relationship, and that there is no reason to believe that stress does lead to an early death, and the alternative hypothesis would assert that stress does lead to an early death. The goal of the tests would be to determine which of these hypotheses the data empirically supports.\n",
    "\n",
    "To illustrate using an example, I'll use the example given in the text, regarding the racial makeup of jury selection in the 1960s Supreme Court.The problem was that, in the rape trial of a black man in which he was sentenced to death, an unusually small number of the potential jurors were black themselves (even when the makeup of the population was taken into account) - 8 out of 100 in the selection pool, and 0 out of 12 in the final jury.\n",
    "\n",
    "Swain's appeal claimed that this was racial profiling, and that the jury selection and makeup were not likely to occur under random chance with the available population. \n",
    "\n",
    "* Null hypothesis: The number of black men in the jury was a possible outcome given random chance.\n",
    "* Alternative hypothesis: The number of black men in the jury was **not** likely given random chance.\n",
    "* Test Statistic (i.e. how to test): the number of black men in repeated simulated samples taken truly at random from the population (26% black).\n",
    "\n",
    "Below we will show how to simulate ONE sample."
   ]
  },
  {
   "cell_type": "code",
   "execution_count": 40,
   "metadata": {
    "id": "_NC25cTCcytv",
    "colab_type": "code",
    "outputId": "e732ad75-a9d3-4106-e612-3585354cf28f",
    "colab": {
     "base_uri": "https://localhost:8080/",
     "height": 34.0
    }
   },
   "outputs": [
    {
     "name": "stdout",
     "output_type": "stream",
     "text": [
      "There are 20.0 black men in this sample of 100\n"
     ]
    }
   ],
   "source": [
    "# DataScience has a great method for this when the sample is not evenly distributed among\n",
    "# one or more groups: it's sample_proportions().\n",
    "\n",
    "eligible_population = [0.26, 0.74]      # The two numbers in this array represent the number of black men and the number of white men in the population, respectively.\n",
    "print(\"There are\",np.round((100 * sample_proportions(100, eligible_population)).item(0), 0),\"black men in this sample of 100\") # Running sample_proportions on this distribution will give us the proportion of black jurors and white jurors in a single sample.\n",
    " "
   ]
  },
  {
   "cell_type": "markdown",
   "metadata": {
    "id": "CYIrqC9a1cOW",
    "colab_type": "text"
   },
   "source": [
    "But we need to do this many times to get an idea of how frequently we might expect each of these racial distributions under random chance."
   ]
  },
  {
   "cell_type": "code",
   "execution_count": 0,
   "metadata": {
    "id": "Lr06JTFi0wGz",
    "colab_type": "code",
    "colab": {}
   },
   "outputs": [],
   "source": [
    "# Making the code in a previous cell into a function.\n",
    "def one_simulated_count():\n",
    "    return (100 * sample_proportions(100, eligible_population)).item(0)\n",
    "\n",
    "# Creating an empty array to store many simulated samples.\n",
    "counts = make_array()\n",
    "\n",
    "# Defining the number of samples to run, running them, and adding them to the array\n",
    "repetitions = 10000\n",
    "for i in np.arange(repetitions):\n",
    "    counts = np.append(counts, one_simulated_count())\n"
   ]
  },
  {
   "cell_type": "markdown",
   "metadata": {
    "id": "NDXrFbs82Ks_",
    "colab_type": "text"
   },
   "source": [
    "After running ten thousand simulations of how many black men would be in a randomly chosen sample of 100 potential jurors, we can create a histogram \n",
    "that shows the distribution of all 10000 simulations. Any jury distribution the racial distribution of which falls within the body of the bell-shaped distribution below is likely to be a jury pool distribution that is possible under random chance, but looking at where the ACTUAL jury distribution, represented by a red dot, falls, we can safely assume that it was NOT random chance that led to this jury selection. Racial bias seems very likely. Maybe if the jury pool contained 18 black men out of 100 (along the x-axis, 18 seems to fall within a 95% confidence interval, which would indicate the numerical range of black men per 100 jurors that samples would fall within 95% of the time), the prosecution would have more of a leg to stand on with their assertion that random chance was involved, but as it is, their assertion seems very unlikely."
   ]
  },
  {
   "cell_type": "code",
   "execution_count": 42,
   "metadata": {
    "id": "QH59HDF_2JLh",
    "colab_type": "code",
    "outputId": "ba3e8adc-5e6a-4c55-ecb3-dabfdd3607da",
    "colab": {
     "base_uri": "https://localhost:8080/",
     "height": 301.0
    }
   },
   "outputs": [
    {
     "data": {
      "image/png": "[encoded data removed]",
      "text/plain": [
       "<Figure size 432x288 with 1 Axes>"
      ]
     },
     "metadata": {
      "tags": []
     },
     "output_type": "display_data"
    }
   ],
   "source": [
    "Table().with_column(\n",
    "    'Count in a Random Sample', counts\n",
    ").hist(bins = np.arange(5.5, 46.6, 1))\n",
    "plt.scatter(8, 0, color='red', s=30);"
   ]
  },
  {
   "cell_type": "markdown",
   "metadata": {
    "id": "NHzcHgcc4F13",
    "colab_type": "text"
   },
   "source": [
    "Given the results of the simulation above, it seems valid to **reject the null hypothesis and accept the alternative hypothesis**. This means that we reject the assertion that the jury members were chosen via random chance and embrace the assertion that selection was not random. Note that we do not want to go further and say that the lack of randomness was DEFINITELY due to race, even though this is the most obvious social reality and we intuit that this is the case; empirically, all we can say is that selection was not random.\n",
    "\n",
    "\n",
    "\n",
    "---\n",
    "\n",
    "2. A/B Testing: Use an example to explain A/B testing. \n",
    "\n",
    "A/B Testing is a way to compare two random samples to each other, rather than to an unspecified \"randomly chosen sample\" from the population. This experiment design is of great use when comparing a treatment group to a control group (an extremely common design in pharmaceutical or other treatment trials, or perhaps in educational trials where an experimental classroom approach is being tested against a more established approach); the name comes from the fact that we are looking at a sample \"A\" and comparing it to another sample \"B\". \n",
    "\n",
    "To illustrate a process of comparing two samples to each other, I'll use an example from the text that looks at the birth weight of newborns and whether their mothers smoked during pregnancy. In this example, sample \"A\" would be a group of newborns whose mothers smoked during pregnancy, and sample \"B\" would be an otherwise similar group of newborns whose mothers did not smoke during pregnancy (when comparing A to B, it is necessary to make sure that the two samples are as alike as possible in all other ways than the independent variable. This helps to eliminate confounding variables). "
   ]
  },
  {
   "cell_type": "code",
   "execution_count": 43,
   "metadata": {
    "id": "Q_LasChm7x9u",
    "colab_type": "code",
    "outputId": "08529ce1-60ec-4ca7-ba62-6ae4f3b04b56",
    "colab": {
     "base_uri": "https://localhost:8080/",
     "height": 372.0
    }
   },
   "outputs": [
    {
     "data": {
      "text/html": [
       "<table border=\"1\" class=\"dataframe\">\n",
       "    <thead>\n",
       "        <tr>\n",
       "            <th>Maternal Smoker</th> <th>Birth Weight</th>\n",
       "        </tr>\n",
       "    </thead>\n",
       "    <tbody>\n",
       "        <tr>\n",
       "            <td>False          </td> <td>120         </td>\n",
       "        </tr>\n",
       "        <tr>\n",
       "            <td>False          </td> <td>113         </td>\n",
       "        </tr>\n",
       "        <tr>\n",
       "            <td>True           </td> <td>128         </td>\n",
       "        </tr>\n",
       "        <tr>\n",
       "            <td>True           </td> <td>108         </td>\n",
       "        </tr>\n",
       "        <tr>\n",
       "            <td>False          </td> <td>136         </td>\n",
       "        </tr>\n",
       "        <tr>\n",
       "            <td>False          </td> <td>138         </td>\n",
       "        </tr>\n",
       "        <tr>\n",
       "            <td>False          </td> <td>132         </td>\n",
       "        </tr>\n",
       "        <tr>\n",
       "            <td>False          </td> <td>120         </td>\n",
       "        </tr>\n",
       "        <tr>\n",
       "            <td>True           </td> <td>143         </td>\n",
       "        </tr>\n",
       "        <tr>\n",
       "            <td>False          </td> <td>140         </td>\n",
       "        </tr>\n",
       "    </tbody>\n",
       "</table>\n",
       "<p>... (1164 rows omitted)</p>"
      ],
      "text/plain": [
       "Maternal Smoker | Birth Weight\n",
       "False           | 120\n",
       "False           | 113\n",
       "True            | 128\n",
       "True            | 108\n",
       "False           | 136\n",
       "False           | 138\n",
       "False           | 132\n",
       "False           | 120\n",
       "True            | 143\n",
       "False           | 140\n",
       "... (1164 rows omitted)"
      ]
     },
     "execution_count": 43,
     "metadata": {
      "tags": []
     },
     "output_type": "execute_result"
    }
   ],
   "source": [
    "births = Table.read_table('baby.csv') # Reading in the full table of neonatal data\n",
    "smoking_and_birthweight = births.select('Maternal Smoker', 'Birth Weight') # Selecting only the independent and dependent variables for this sampling - Smoking(True/False) and Birth Weight\n",
    "smoking_and_birthweight"
   ]
  },
  {
   "cell_type": "markdown",
   "metadata": {
    "id": "rWvYynf_8RQ8",
    "colab_type": "text"
   },
   "source": [
    "To begin to visualize a possible difference between these two samples, we can create an overlaid histogram showing a distribution of birth weights of smoking mothers vs. those of non-smoking mothers."
   ]
  },
  {
   "cell_type": "code",
   "execution_count": 44,
   "metadata": {
    "id": "i_bboyTE8M5X",
    "colab_type": "code",
    "outputId": "45bedbe6-c9e6-49a6-ae09-79d4852552f0",
    "colab": {
     "base_uri": "https://localhost:8080/",
     "height": 282.0
    }
   },
   "outputs": [
    {
     "data": {
      "image/png": "[encoded data removed]",
      "text/plain": [
       "<Figure size 432x288 with 1 Axes>"
      ]
     },
     "metadata": {
      "tags": []
     },
     "output_type": "display_data"
    }
   ],
   "source": [
    "smoking_and_birthweight.hist('Birth Weight', group = 'Maternal Smoker')"
   ]
  },
  {
   "cell_type": "markdown",
   "metadata": {
    "id": "Nc9txBLp8cq-",
    "colab_type": "text"
   },
   "source": [
    "There does seem to be a visibly perceptible difference - birth weights for mothers who smoke during pregnancy seem to be shifted slightly to the left (i.e. lower birth weights overall) from those of nonsmoking mothers. This briefest of EDAs, which illustrates visually that a relationship is likely present, indicates that we can proceed with comparing these two samples, to see if we can formalize this relationship.\n",
    "\n",
    "We will use the concepts of null and alternative hypothesis, as well as a well-chosen test statistic, to formalize this test as well. In this case:\n",
    "\n",
    "**null hypothesis**: There is no statistical difference between these two samples (birth weights of babies born to non-smoking mothers and birth weights of babies born to smoking mothers). \n",
    "**alternative hypothesis**: Birth weights of smoking mothers are (on average) lower than birth weights of non-smoking mothers.\n",
    "\n",
    "Since the alternative hypothesis differs from the null on the basis of average birth weight, the **test statistic** can be the difference in average birth rate between the two groups."
   ]
  },
  {
   "cell_type": "code",
   "execution_count": 45,
   "metadata": {
    "id": "aBZoWRdS8b01",
    "colab_type": "code",
    "colab": {
     "base_uri": "https://localhost:8080/",
     "height": 34.0
    },
    "outputId": "92ca24a4-6cc2-49c6-b1b6-259e63ec9cfe"
   },
   "outputs": [
    {
     "data": {
      "text/plain": [
       "-9.266142572024918"
      ]
     },
     "execution_count": 45,
     "metadata": {
      "tags": []
     },
     "output_type": "execute_result"
    }
   ],
   "source": [
    "# Finding the OBSERVED test statistic.\n",
    "\n",
    "means_table = smoking_and_birthweight.group('Maternal Smoker', np.average)\n",
    "means = means_table.column(1)\n",
    "observed_difference = means.item(1) - means.item(0)\n",
    "observed_difference"
   ]
  },
  {
   "cell_type": "markdown",
   "metadata": {
    "id": "JhS3jSfRXuNP",
    "colab_type": "text"
   },
   "source": [
    "Since the observed difference between the two groups is -9.26, we can run a simulation to yield a distribution and a fair 95% confidence interval of what this observed difference - the difference of the means of the two groups - might be given random chance. To accomplish this, we will reshuffle the maternal labels, but not the baby weights, of the table, effectively pretending that the observed baby weights could randomly have been produced by either a smoking or a non-smoking mother."
   ]
  },
  {
   "cell_type": "code",
   "execution_count": 46,
   "metadata": {
    "id": "T7HGVIP5jBTR",
    "colab_type": "code",
    "colab": {
     "base_uri": "https://localhost:8080/",
     "height": 34.0
    },
    "outputId": "922e167f-6e61-4636-b75f-2c00b4b310fb"
   },
   "outputs": [
    {
     "data": {
      "text/plain": [
       "-1.7682252388134856"
      ]
     },
     "execution_count": 46,
     "metadata": {
      "tags": []
     },
     "output_type": "execute_result"
    }
   ],
   "source": [
    "# Creating a function that finds the test statistic one time.\n",
    "\n",
    "def difference_of_means(table, label, group_label):\n",
    "    reduced = table.select(label, group_label)\n",
    "    means_table = reduced.group(group_label, np.average)\n",
    "    means = means_table.column(1)\n",
    "    return means.item(1) - means.item(0)\n",
    "\n",
    "def one_simulated_difference(table, label, group_label):\n",
    "    shuffled_labels = table.sample(with_replacement = False\n",
    "                                                    ).column(group_label)\n",
    "    shuffled_table = table.select(label).with_column(\n",
    "        'Shuffled Label', shuffled_labels)\n",
    "    return difference_of_means(shuffled_table, label, 'Shuffled Label') \n",
    "\n",
    "one_simulated_difference(births, 'Birth Weight', 'Maternal Smoker')"
   ]
  },
  {
   "cell_type": "code",
   "execution_count": 0,
   "metadata": {
    "id": "vJFuJLDcfE9Y",
    "colab_type": "code",
    "colab": {}
   },
   "outputs": [],
   "source": [
    "# Simulating that statistic 5000 times and visualizing the results\n",
    "\n",
    "differences = make_array()\n",
    "\n",
    "repetitions = 5000\n",
    "for i in np.arange(repetitions):\n",
    "    new_difference = one_simulated_difference(births, 'Birth Weight', 'Maternal Smoker')\n",
    "    differences = np.append(differences, new_difference)      "
   ]
  },
  {
   "cell_type": "code",
   "execution_count": 48,
   "metadata": {
    "id": "OIh7RnCQfR1T",
    "colab_type": "code",
    "colab": {
     "base_uri": "https://localhost:8080/",
     "height": 339.0
    },
    "outputId": "5174d8e1-ac6e-4bf0-f7b3-cb7900ad4cd0"
   },
   "outputs": [
    {
     "name": "stdout",
     "output_type": "stream",
     "text": [
      "Observed Difference: -9.266142572024918\n"
     ]
    },
    {
     "data": {
      "image/png": "[encoded data removed]",
      "text/plain": [
       "<Figure size 432x288 with 1 Axes>"
      ]
     },
     "metadata": {
      "tags": []
     },
     "output_type": "display_data"
    }
   ],
   "source": [
    "Table().with_column('Difference Between Group Means', differences).hist()\n",
    "print('Observed Difference:', observed_difference)\n",
    "plt.title('Prediction Under the Null Hypothesis');"
   ]
  },
  {
   "cell_type": "markdown",
   "metadata": {
    "id": "YVgyApmBfbI0",
    "colab_type": "text"
   },
   "source": [
    "Remember, since the observed statistic is -9.26, and is thus not even on the graph of test statistic possibilities under the null hypothesis, we are pretty safe in saying that the null hypothesis can be rejected and the alternative - that maternal smoking does lead to lower birth weights - can be accepted.\n",
    "\n",
    "\n",
    "---\n",
    "\n",
    "3. The Bootstrap: Explain the purposes and the steps of bootstrap using an example.\n",
    "\n",
    "Bootstrapping is a very useful tool in statistical estimation, especially when many resamples are needed, as they usually are in data science (because a good data scientist doesn't allow themselves to use a test statistic taken from one random sample as a statistical estimate of the parameter), and when those resamples for some reason (whether the population is unavailable, or the original sample WAS the population) cannot be gathered as normal from the population. **Bootstrapping is a method that samples from an existing sample instead of the population. It needs to be done with replacement, so that the resamples aren't just carbon copies of the original sample.**\n",
    "\n",
    "To demonstrate an example of bootstrapping, I'll use the example from the text that looks at a sample of employee salaries for the city of San Francisco in the year 2015."
   ]
  },
  {
   "cell_type": "code",
   "execution_count": 49,
   "metadata": {
    "id": "s9jy7Dmrpiw4",
    "colab_type": "code",
    "colab": {
     "base_uri": "https://localhost:8080/",
     "height": 339.0
    },
    "outputId": "148086b7-8392-4c84-8adf-421affc8ecee"
   },
   "outputs": [
    {
     "data": {
      "image/png": "[encoded data removed]",
      "text/plain": [
       "<Figure size 432x288 with 1 Axes>"
      ]
     },
     "metadata": {
      "tags": []
     },
     "output_type": "display_data"
    }
   ],
   "source": [
    "# Loading a table of population data and excluding outliers\n",
    "\n",
    "sf2015 = Table.read_table('san_francisco_2015.csv')\n",
    "sf2015 = sf2015.where('Salaries', are.above(10000))\n",
    "\n",
    "# Viewing the population as a histogram \n",
    "\n",
    "sf_bins = np.arange(0, 700000, 25000)\n",
    "sf2015.select('Total Compensation').hist(bins=sf_bins)"
   ]
  },
  {
   "cell_type": "markdown",
   "metadata": {
    "id": "c24LnloHv_Vk",
    "colab_type": "text"
   },
   "source": [
    "The test statistic in this example will be the median salary. In this dataset, while we know the population median (calculated below), the goal of this example will be to bootstrap many samples from a **single sample of the population** and see if we can arrive at an empirical estimate of the median that reflects reality."
   ]
  },
  {
   "cell_type": "code",
   "execution_count": 50,
   "metadata": {
    "id": "UayyZqhNvpFT",
    "colab_type": "code",
    "colab": {
     "base_uri": "https://localhost:8080/",
     "height": 34.0
    },
    "outputId": "20506e17-7947-4a1e-f5e2-22631db10005"
   },
   "outputs": [
    {
     "data": {
      "text/plain": [
       "110305.79"
      ]
     },
     "execution_count": 50,
     "metadata": {
      "tags": []
     },
     "output_type": "execute_result"
    }
   ],
   "source": [
    "# Calculating the population median - the statistic that we will replicate using the bootstrap\n",
    "\n",
    "pop_median = percentile(50, sf2015.column('Total Compensation'))\n",
    "pop_median"
   ]
  },
  {
   "cell_type": "code",
   "execution_count": 51,
   "metadata": {
    "id": "VkAuOfMbr2hO",
    "colab_type": "code",
    "colab": {
     "base_uri": "https://localhost:8080/",
     "height": 343.0
    },
    "outputId": "1ddfa64b-a74a-4c22-cfe4-944bff2be8ba"
   },
   "outputs": [
    {
     "data": {
      "image/png": "[encoded data removed]",
      "text/plain": [
       "<Figure size 432x288 with 1 Axes>"
      ]
     },
     "metadata": {
      "tags": []
     },
     "output_type": "display_data"
    }
   ],
   "source": [
    "# Taking a sample of 500 from the population of close to 37,000\n",
    "\n",
    "our_sample = sf2015.sample(500, with_replacement=False)\n",
    "our_sample.select('Total Compensation').hist(bins=sf_bins)"
   ]
  },
  {
   "cell_type": "markdown",
   "metadata": {
    "id": "osH57BI4ym1S",
    "colab_type": "text"
   },
   "source": [
    "The histogram of the sample shows a very similar shape to the distribution of the population; it still seems unlikely to say that we can arrive at a good estimate of the population median using only this one sample, however! \n",
    "\n",
    "The sample median is not far from the population median (about $2,000 off - see below):"
   ]
  },
  {
   "cell_type": "code",
   "execution_count": 52,
   "metadata": {
    "id": "95V5lxf3s9bW",
    "colab_type": "code",
    "colab": {
     "base_uri": "https://localhost:8080/",
     "height": 34.0
    },
    "outputId": "d9103058-c42c-4c1f-c0b6-dbc5701a2288"
   },
   "outputs": [
    {
     "data": {
      "text/plain": [
       "109303.64"
      ]
     },
     "execution_count": 52,
     "metadata": {
      "tags": []
     },
     "output_type": "execute_result"
    }
   ],
   "source": [
    "# Calculating the sample median\n",
    "\n",
    "est_median = percentile(50, our_sample.column('Total Compensation'))\n",
    "est_median"
   ]
  },
  {
   "cell_type": "markdown",
   "metadata": {
    "id": "3G6vwLahzSbd",
    "colab_type": "text"
   },
   "source": [
    "The function below will perform 5000 resamples of the population sample, and add the median of each of those resamples to an array that can be used as an empirical distribution of our estimate of the median."
   ]
  },
  {
   "cell_type": "code",
   "execution_count": 0,
   "metadata": {
    "id": "f6iniNKptKGR",
    "colab_type": "code",
    "colab": {}
   },
   "outputs": [],
   "source": [
    "def bootstrap_median(original_sample, label, replications):\n",
    "    \"\"\"Returns an array of bootstrapped sample medians:\n",
    "    original_sample: table containing the original sample\n",
    "    label: label of column containing the variable\n",
    "    replications: number of bootstrap samples\n",
    "    \"\"\"\n",
    "    just_one_column = original_sample.select(label)\n",
    "    medians = make_array()\n",
    "    for i in np.arange(replications):\n",
    "        bootstrap_sample = just_one_column.sample()\n",
    "        resampled_median = percentile(50, bootstrap_sample.column(0))\n",
    "        medians = np.append(medians, resampled_median)\n",
    "        \n",
    "    return medians\n",
    "\n",
    "bstrap_medians = bootstrap_median(our_sample, 'Total Compensation', 5000)"
   ]
  },
  {
   "cell_type": "code",
   "execution_count": 0,
   "metadata": {
    "id": "3DzObcty1NjW",
    "colab_type": "code",
    "colab": {}
   },
   "outputs": [],
   "source": [
    "# Calculating a 95% confidence interval of the test statistic\n",
    "\n",
    "left = percentile(2.5, bstrap_medians)\n",
    "right = percentile(97.5, bstrap_medians)"
   ]
  },
  {
   "cell_type": "markdown",
   "metadata": {
    "id": "cxKRueX_z9-k",
    "colab_type": "text"
   },
   "source": [
    "Now, we can graph these bootstrapped medians and see where the population median falls on this distribution. It seems as though our bootstrapped medians, using just one original sample of the population, were together able to form a distribution that reflects and contains the original population median. The graph below shows a 95% confidence interval of the estimated test statistic (bootstrapped medians) in yellow, as well as the observed test statistic as a red dot."
   ]
  },
  {
   "cell_type": "code",
   "execution_count": 55,
   "metadata": {
    "id": "-UxNn4XctSKi",
    "colab_type": "code",
    "colab": {
     "base_uri": "https://localhost:8080/",
     "height": 340.0
    },
    "outputId": "a6c43ccb-6a33-46d0-b700-20f208416dc1"
   },
   "outputs": [
    {
     "data": {
      "image/png": "[encoded data removed]",
      "text/plain": [
       "<Figure size 432x288 with 1 Axes>"
      ]
     },
     "metadata": {
      "tags": []
     },
     "output_type": "display_data"
    }
   ],
   "source": [
    "resampled_medians = Table().with_column('Bootstrap Sample Median', bstrap_medians)\n",
    "resampled_medians.hist()\n",
    "plt.plot(make_array(left, right), make_array(0, 0), color='yellow', lw=3, zorder=1)\n",
    "plt.scatter(pop_median, 0, color='red', s=50);"
   ]
  },
  {
   "cell_type": "markdown",
   "metadata": {
    "id": "vYNaeEsk4E1U",
    "colab_type": "text"
   },
   "source": [
    "Bootstrapping is an invaluable tool for data scientists, since in many real-world scenarios, population statistics are simply not available, whether due to lack of resources to sample them, or lack of access to the entire population. Bootstrapping allows us to draw conclusions about populations with reasonable confidence using only one representative sample (although it creates many estimates using this one sample, to avoid the bias or variability that might be present in the sample), which is a phenomenal accomplishment.\n",
    "\n",
    "\n",
    "---\n",
    "4. Confidence Intervals: Explain what is Confidence Interval and how to check the Confidence Level. \n",
    "\n",
    "The concept of the confidence interval is related to all the topics we've already discussed. In the previous bootstrapping example, we created a 95% confidence interval for the estimate of the population median. What this means is that 95% of the time, or 95 times out of 100, we have confidence that the population parameter will fall within this range (which was arrived at through bootstrapping sample medians).\n",
    "\n",
    "A common way of getting this interval is through percentiles of a large random sample. The median (50th percentile - the point at which 50% of the data points are lower and 50% are higher) of the distribution is so valuable to data scientists because it is unaffected by outliers, unlike the mean; thus, confidence intervals, which are also based on percentiles, are similarly robust against the numerical forces of outliers. \n",
    "\n",
    "A confidence interval is situated at the middle of a distribution of estimates; for example, a 95th confidence interval will begin at the 2.5th percentile and extend to the 97.5% percentile. Similarly, an 80% confidence interval will start at the 10th percentile and extend to the 90th.\n",
    "\n",
    "A confidence interval can be taken of any test statistic that has been decided upon as a good measure for a certain empirical test; means can also be used for this measure. The book demonstrates this method through a bootstrap percentile method, in which the test statistic of a large random sample (in this case, of maternal age at birth) is bootstrapped and therefore estimated.\n",
    "\n",
    "The table of baby birth weights also includes the age of the mothers at the baby's birth; since the available data does not encompass all babies or all mothers (even those born at this particular hospital), we will treat the table as a large random sample of the population of all babies and all mothers."
   ]
  },
  {
   "cell_type": "code",
   "execution_count": 57,
   "metadata": {
    "id": "lRjRZwHKUDA1",
    "colab_type": "code",
    "colab": {
     "base_uri": "https://localhost:8080/",
     "height": 301.0
    },
    "outputId": "2a750e9a-121a-474b-b998-85179032c2b7"
   },
   "outputs": [
    {
     "data": {
      "image/png": "[encoded data removed]",
      "text/plain": [
       "<Figure size 432x288 with 1 Axes>"
      ]
     },
     "metadata": {
      "tags": []
     },
     "output_type": "display_data"
    }
   ],
   "source": [
    "births.select('Maternal Age').hist()"
   ]
  },
  {
   "cell_type": "code",
   "execution_count": 58,
   "metadata": {
    "id": "WkCxowb6UVo7",
    "colab_type": "code",
    "colab": {
     "base_uri": "https://localhost:8080/",
     "height": 34.0
    },
    "outputId": "2bd3fd2d-4e37-44db-8e25-114e0f3a62bb"
   },
   "outputs": [
    {
     "data": {
      "text/plain": [
       "27.228279386712096"
      ]
     },
     "execution_count": 58,
     "metadata": {
      "tags": []
     },
     "output_type": "execute_result"
    }
   ],
   "source": [
    "np.mean(births.column('Maternal Age'))"
   ]
  },
  {
   "cell_type": "markdown",
   "metadata": {
    "id": "LZP3-RPxUhL8",
    "colab_type": "text"
   },
   "source": [
    "The observed mean - the mean of this large random sample of maternal ages - is about 27 years and three months. We don't know the average maternal age in the population, since that data is not available to us, but we can estimate it via a bootstrapped percentile calculation similar to that in the previous question."
   ]
  },
  {
   "cell_type": "code",
   "execution_count": 59,
   "metadata": {
    "id": "mtTJbjxAUgoH",
    "colab_type": "code",
    "colab": {
     "base_uri": "https://localhost:8080/",
     "height": 34.0
    },
    "outputId": "41e7e3b6-a0d9-44f2-9a65-c461e55378ed"
   },
   "outputs": [
    {
     "data": {
      "text/plain": [
       "array([26.90459966, 27.55110733])"
      ]
     },
     "execution_count": 59,
     "metadata": {
      "tags": []
     },
     "output_type": "execute_result"
    }
   ],
   "source": [
    "# Creating a function to calculate a certain number of bootstrapped means from an array of numbers\n",
    "\n",
    "def bootstrap_mean(original_sample, label, replications):\n",
    "    \n",
    "    \"\"\"Returns an array of bootstrapped sample means:\n",
    "    original_sample: table containing the original sample\n",
    "    label: label of column containing the variable\n",
    "    replications: number of bootstrap samples\n",
    "    \"\"\"\n",
    "    \n",
    "    just_one_column = original_sample.select(label)\n",
    "    means = make_array()\n",
    "    for i in np.arange(replications):\n",
    "        bootstrap_sample = just_one_column.sample()\n",
    "        resampled_mean = np.mean(bootstrap_sample.column(0))\n",
    "        means = np.append(means, resampled_mean)\n",
    "        \n",
    "    return means\n",
    "\n",
    "# Running this function 5,000 times\n",
    "\n",
    "bstrap_means = bootstrap_mean(births, 'Maternal Age', 5000)\n",
    "\n",
    "# Getting the endpoints of the 95% confidence interval\n",
    "\n",
    "left = percentile(2.5, bstrap_means)\n",
    "right = percentile(97.5, bstrap_means)\n",
    "\n",
    "make_array(left, right)"
   ]
  },
  {
   "cell_type": "markdown",
   "metadata": {
    "id": "6XOsjYDxWJmh",
    "colab_type": "text"
   },
   "source": [
    "The array above, which is our 95% confidence interval, states that we can say with about 95% certainty that the mean age of mothers in the population is between 26.9 years and 27.6 years. This seems to be a fairly precise estimate that is clustered closely to the random sample estimate of 27.2 years, only varying by .7 years in total. "
   ]
  },
  {
   "cell_type": "code",
   "execution_count": 60,
   "metadata": {
    "id": "T-S8n9dSXTRN",
    "colab_type": "code",
    "colab": {
     "base_uri": "https://localhost:8080/",
     "height": 441.0
    },
    "outputId": "c423f589-0127-4914-e156-c3f1cf3d8b3c"
   },
   "outputs": [
    {
     "data": {
      "image/png": "[encoded data removed]",
      "text/plain": [
       "<Figure size 432x288 with 1 Axes>"
      ]
     },
     "metadata": {
      "tags": []
     },
     "output_type": "display_data"
    }
   ],
   "source": [
    "resampled_means = Table().with_column(\n",
    "    'Bootstrap Sample Mean', bstrap_means\n",
    ")\n",
    "resampled_means.hist(bins=15)\n",
    "plt.plot(make_array(left, right), make_array(0, 0), color='yellow', lw=8);"
   ]
  },
  {
   "cell_type": "markdown",
   "metadata": {
    "id": "Nbj3y0elYDP3",
    "colab_type": "text"
   },
   "source": [
    "The point is that a confidence interval of any test statistic x and any percentile(s) y can be calculated via this method; resampling and bootstrapping from a sample a large number of times, and then taking an interval of the statistic using percentiles across these bootstrapped iterations.\n",
    "\n",
    "\n",
    "---\n",
    "5. Loss Functions and Gradient Descent: Explain what is Loss Function, and how to use Gradient Descent to minimizing loss function (use an example loss function, and write and explain the python code that implement the gradient descent analysis for minimizing loss function).\n",
    "\n",
    "In conducting a linear regression, a line that best \"fits\" a scatterplot of observed data, the predicted line will inevitably result in some amount of loss, meaning that for each point x, the predicted point y will differ from the observed point y by some amount. This difference is the loss for each point. A closely related concept is that of theta, which represents the best *mean* predicted value for the dependent variable under consideration. \"Best,\" here, means the mean predicted value that minimizes loss across the entire regression. \n",
    "\n",
    "There are a number of methods for measuring loss, and therefore calculating the minimum possible loss for a regression. The simplest of these to calculate is MSE, or mean squared error. This calculation measures each predicted value against a value of theta, takes the difference, squares that difference, and finally takes the mean value of all those squared differences. The goal of the loss function is to minimize this mean squared error, so a number of theta values will be tried to see which produces the lowest value of the loss function. A good way of streamlining this process is to graph loss for a number of values of theta, and see where loss is at its lowest (the distribution will resemble a parabola). In the end, however, mean squared error is in fact an extremely easy calculation: just take the mean of all the data points of the dependent variable. \n",
    "\n",
    "Automating the minimum loss calculation is more complex. Most methods of calculating loss require manually setting values of theta, and moving closer to the value that successfully minimizes loss based on feedback. \n",
    "\n",
    "A way around this inefficient manual process is by using **gradient descent**, which is a function that looks at the slope of a loss distribution at a certain initial theta and readjusts its estimate of theta repeatedly until the slope of the distribution at a certain theta is close to or at zero. This is the theta value at which loss is minimized. \n",
    "\n",
    "A gradient descent function, when encountering a negative slope at a particular theta, knows that the value of theta needs to be increased, and repeats the calculation for a new, increased value of theta. Then, depending on the slope (negative = increase theta, positive = decrease theta), the value of theta will be adjusted and a new calculation repeated, etc. \n",
    "\n",
    "Below, a function that starts theta at 0 and then adjusts the value of theta incrementally based on the slope of the distribution at the point theta is created.\n"
   ]
  },
  {
   "cell_type": "code",
   "execution_count": 0,
   "metadata": {
    "id": "Zztb1-Xil20n",
    "colab_type": "code",
    "colab": {}
   },
   "outputs": [],
   "source": [
    "def minimize(loss_fn, grad_loss_fn, dataset, alpha=0.2, progress=True):\n",
    "    '''\n",
    "    Uses gradient descent to minimize any loss function. Returns the minimizing value of\n",
    "    theta_hat once theta_hat changes less than 0.001 between iterations.\n",
    "    '''\n",
    "    theta = 0\n",
    "    while True:\n",
    "        if progress:\n",
    "            print(f'theta: {theta:.2f} | loss: {loss_fn(theta, dataset):.2f}')\n",
    "        gradient = grad_loss_fn(theta, dataset)\n",
    "        new_theta = theta - alpha * gradient\n",
    "        \n",
    "        if abs(new_theta - theta) < 0.001:\n",
    "            return new_theta\n",
    "        \n",
    "        theta = new_theta"
   ]
  },
  {
   "cell_type": "code",
   "execution_count": 0,
   "metadata": {
    "id": "XR5phrPPl6we",
    "colab_type": "code",
    "colab": {}
   },
   "outputs": [],
   "source": [
    "# Defining MSE and gradient MSE\n",
    "\n",
    "def mse(theta, y_vals):\n",
    "    return np.mean((y_vals - theta) ** 2)\n",
    "\n",
    "def grad_mse(theta, y_vals):\n",
    "    return -2 * np.mean(y_vals - theta)"
   ]
  },
  {
   "cell_type": "markdown",
   "metadata": {
    "id": "dY2Vhg22s_Yg",
    "colab_type": "text"
   },
   "source": [
    "Below, the gradient descent process can be seen in action with an array of 5 numbers. For each iteration of theta, loss is calculated. Initially, theta is 0 and MSE loss is 218; next, theta is 5.86 and loss is 81.21, and so on. Since we know that the mean of the target array is 14.66, we know that 0 is far too small a value of theta and that theta in the next iteration must be larger. \n",
    "\n",
    "Another interesting thing to note is that the jumps in theta between each iteration are initially quite large, and that as loss approaches its minimum (and the derivative keeps getting closer to 0), changes are much smaller. The last several iterations are based on only tiny changes of one one hundredth or less; finally, when the minimization of loss gained by another iteration of the function is less than 1/1000, the function declares the current iteration of theta as the \"true\" theta."
   ]
  },
  {
   "cell_type": "code",
   "execution_count": 71,
   "metadata": {
    "id": "pB8wBdximCKM",
    "colab_type": "code",
    "colab": {
     "base_uri": "https://localhost:8080/",
     "height": 353.0
    },
    "outputId": "a0ebd09e-2de3-4fcb-bf84-2146a53d55dc"
   },
   "outputs": [
    {
     "name": "stdout",
     "output_type": "stream",
     "text": [
      "theta: 0.00 | loss: 218.76\n",
      "theta: 5.86 | loss: 81.21\n",
      "theta: 9.38 | loss: 31.70\n",
      "theta: 11.49 | loss: 13.87\n",
      "theta: 12.76 | loss: 7.45\n",
      "theta: 13.52 | loss: 5.14\n",
      "theta: 13.98 | loss: 4.31\n",
      "theta: 14.25 | loss: 4.01\n",
      "theta: 14.41 | loss: 3.90\n",
      "theta: 14.51 | loss: 3.86\n",
      "theta: 14.57 | loss: 3.85\n",
      "theta: 14.61 | loss: 3.85\n",
      "theta: 14.63 | loss: 3.84\n",
      "theta: 14.64 | loss: 3.84\n",
      "theta: 14.65 | loss: 3.84\n",
      "theta: 14.65 | loss: 3.84\n",
      "theta: 14.66 | loss: 3.84\n",
      "theta: 14.66 | loss: 3.84\n",
      "Minimizing theta: 14.658511131035242\n",
      "\n"
     ]
    }
   ],
   "source": [
    "# Running the minimize function for the MSE method of calcuation\n",
    "\n",
    "theta = minimize(mse, grad_mse, np.array([12.1, 12.8, 14.9, 16.3, 17.2]))\n",
    "print(f'Minimizing theta: {theta}')\n",
    "print()"
   ]
  },
  {
   "cell_type": "code",
   "execution_count": 64,
   "metadata": {
    "id": "Jr8h6qqhmEJK",
    "colab_type": "code",
    "colab": {
     "base_uri": "https://localhost:8080/",
     "height": 34.0
    },
    "outputId": "42a09644-d420-4bcf-9355-6bb9dec261fa"
   },
   "outputs": [
    {
     "data": {
      "text/plain": [
       "14.66"
      ]
     },
     "execution_count": 64,
     "metadata": {
      "tags": []
     },
     "output_type": "execute_result"
    }
   ],
   "source": [
    "# Since MSE is such a simple calculation, we can check our results by taking the mean of the target array:\n",
    "\n",
    "np.mean([12.1, 12.8, 14.9, 16.3, 17.2])"
   ]
  },
  {
   "cell_type": "markdown",
   "metadata": {
    "id": "y7BneuibuVTp",
    "colab_type": "text"
   },
   "source": [
    "Gradient descent is especially valuable for calculations that are less simple to estimate analytically, such as the more complicated Huber Loss function, which has the advantage of being less sensitive to outliers in data."
   ]
  }
 ],
 "metadata": {
  "colab": {
   "name": "FinalAssignment_MaiaPetee.ipynb",
   "provenance": [],
   "toc_visible": true
  },
  "kernelspec": {
   "name": "python3",
   "display_name": "Python 3"
  }
 },
 "nbformat": 4,
 "nbformat_minor": 0
}
