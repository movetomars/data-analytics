{
 "cells": [
  {
   "cell_type": "markdown",
   "metadata": {
    "id": "ImbJziN4Ng5Y",
    "colab_type": "text"
   },
   "source": [
    "# Linear Regression : Data Analytics Project\n",
    "\n",
    "---\n"
   ]
  },
  {
   "cell_type": "code",
   "execution_count": 0,
   "metadata": {
    "id": "v_VcB0IaMju-",
    "colab_type": "code",
    "colab": {}
   },
   "outputs": [],
   "source": [
    "# First, imports.\n",
    "\n",
    "from datascience import *\n",
    "import pandas as pd\n",
    "import seaborn as sns\n",
    "import numpy as np\n",
    "import matplotlib\n",
    "matplotlib.use(\"Agg\", warn=False)\n",
    "%matplotlib inline\n",
    "import matplotlib.pyplot as plt\n",
    "plt.style.use('fivethirtyeight')"
   ]
  },
  {
   "cell_type": "markdown",
   "metadata": {
    "id": "WWZxofrYNq_s",
    "colab_type": "text"
   },
   "source": [
    "### 1. \n",
    "Develop a question of your choice that can be addressed by identifying, collecting, and analyzing relevant data. You need find relevant data by yourself, and describe the data such as the source, attributes, size, how the data were collected, is the dataset sample data or population data?, etc. The dataset should have at least six distinct variables (i.e. columns) and a sample size (i.e. rows) of 500 or more. (3 points)\n",
    "\n",
    "\n",
    "---\n",
    "I found a summary of weather data taken from many weather stations during WWII [on Kaggle](https://www.kaggle.com/smid80/weatherww2). This is a very thorough dataset, and has many thousands of rows and over 30 columns (see below for printout). Originally, this was NOAA weather data that was compiled onto Kaggle. The many data points available include weather station, precipitation, max, min, and mean temperature, snowfall, a Boolean value for whether the weather was poor or not, year, month, day, and many others. The dataset is population data - all the weather data collected over the relevant time period.\n",
    "\n",
    "The columns I'll be focusing on are minimum daily temperature and maximum daily temperature, with an eye toward answering the question **\"Can we predict maximum daily temperature from minimum daily temperature?\"**\n"
   ]
  },
  {
   "cell_type": "code",
   "execution_count": 0,
   "metadata": {
    "id": "-73ju9v3P-bd",
    "colab_type": "code",
    "outputId": "1b4a987e-22ae-4b73-8b3b-2b896a81a2f5",
    "colab": {
     "base_uri": "https://localhost:8080/",
     "height": 333.0
    }
   },
   "outputs": [
    {
     "name": "stderr",
     "output_type": "stream",
     "text": [
      "/usr/local/lib/python3.6/dist-packages/IPython/core/interactiveshell.py:2718: DtypeWarning: Columns (7,8,18,25) have mixed types. Specify dtype option on import or set low_memory=False.\n",
      "  interactivity=interactivity, compiler=compiler, result=result)\n"
     ]
    },
    {
     "data": {
      "text/html": [
       "<div>\n",
       "<style scoped>\n",
       "    .dataframe tbody tr th:only-of-type {\n",
       "        vertical-align: middle;\n",
       "    }\n",
       "\n",
       "    .dataframe tbody tr th {\n",
       "        vertical-align: top;\n",
       "    }\n",
       "\n",
       "    .dataframe thead th {\n",
       "        text-align: right;\n",
       "    }\n",
       "</style>\n",
       "<table border=\"1\" class=\"dataframe\">\n",
       "  <thead>\n",
       "    <tr style=\"text-align: right;\">\n",
       "      <th></th>\n",
       "      <th>STA</th>\n",
       "      <th>Date</th>\n",
       "      <th>Precip</th>\n",
       "      <th>WindGustSpd</th>\n",
       "      <th>MaxTemp</th>\n",
       "      <th>MinTemp</th>\n",
       "      <th>MeanTemp</th>\n",
       "      <th>Snowfall</th>\n",
       "      <th>PoorWeather</th>\n",
       "      <th>YR</th>\n",
       "      <th>MO</th>\n",
       "      <th>DA</th>\n",
       "      <th>PRCP</th>\n",
       "      <th>DR</th>\n",
       "      <th>SPD</th>\n",
       "      <th>MAX</th>\n",
       "      <th>MIN</th>\n",
       "      <th>MEA</th>\n",
       "      <th>SNF</th>\n",
       "      <th>SND</th>\n",
       "      <th>FT</th>\n",
       "      <th>FB</th>\n",
       "      <th>FTI</th>\n",
       "      <th>ITH</th>\n",
       "      <th>PGT</th>\n",
       "      <th>TSHDSBRSGF</th>\n",
       "      <th>SD3</th>\n",
       "      <th>RHX</th>\n",
       "      <th>RHN</th>\n",
       "      <th>RVG</th>\n",
       "      <th>WTE</th>\n",
       "    </tr>\n",
       "  </thead>\n",
       "  <tbody>\n",
       "    <tr>\n",
       "      <th>0</th>\n",
       "      <td>10001</td>\n",
       "      <td>1942-7-1</td>\n",
       "      <td>1.016</td>\n",
       "      <td>NaN</td>\n",
       "      <td>25.555556</td>\n",
       "      <td>22.222222</td>\n",
       "      <td>23.888889</td>\n",
       "      <td>0</td>\n",
       "      <td>NaN</td>\n",
       "      <td>42</td>\n",
       "      <td>7</td>\n",
       "      <td>1</td>\n",
       "      <td>0.04</td>\n",
       "      <td>NaN</td>\n",
       "      <td>NaN</td>\n",
       "      <td>78.0</td>\n",
       "      <td>72.0</td>\n",
       "      <td>75.0</td>\n",
       "      <td>0</td>\n",
       "      <td>NaN</td>\n",
       "      <td>NaN</td>\n",
       "      <td>NaN</td>\n",
       "      <td>NaN</td>\n",
       "      <td>NaN</td>\n",
       "      <td>NaN</td>\n",
       "      <td>NaN</td>\n",
       "      <td>NaN</td>\n",
       "      <td>NaN</td>\n",
       "      <td>NaN</td>\n",
       "      <td>NaN</td>\n",
       "      <td>NaN</td>\n",
       "    </tr>\n",
       "    <tr>\n",
       "      <th>1</th>\n",
       "      <td>10001</td>\n",
       "      <td>1942-7-2</td>\n",
       "      <td>0</td>\n",
       "      <td>NaN</td>\n",
       "      <td>28.888889</td>\n",
       "      <td>21.666667</td>\n",
       "      <td>25.555556</td>\n",
       "      <td>0</td>\n",
       "      <td>NaN</td>\n",
       "      <td>42</td>\n",
       "      <td>7</td>\n",
       "      <td>2</td>\n",
       "      <td>0</td>\n",
       "      <td>NaN</td>\n",
       "      <td>NaN</td>\n",
       "      <td>84.0</td>\n",
       "      <td>71.0</td>\n",
       "      <td>78.0</td>\n",
       "      <td>0</td>\n",
       "      <td>NaN</td>\n",
       "      <td>NaN</td>\n",
       "      <td>NaN</td>\n",
       "      <td>NaN</td>\n",
       "      <td>NaN</td>\n",
       "      <td>NaN</td>\n",
       "      <td>NaN</td>\n",
       "      <td>NaN</td>\n",
       "      <td>NaN</td>\n",
       "      <td>NaN</td>\n",
       "      <td>NaN</td>\n",
       "      <td>NaN</td>\n",
       "    </tr>\n",
       "    <tr>\n",
       "      <th>2</th>\n",
       "      <td>10001</td>\n",
       "      <td>1942-7-3</td>\n",
       "      <td>2.54</td>\n",
       "      <td>NaN</td>\n",
       "      <td>26.111111</td>\n",
       "      <td>22.222222</td>\n",
       "      <td>24.444444</td>\n",
       "      <td>0</td>\n",
       "      <td>NaN</td>\n",
       "      <td>42</td>\n",
       "      <td>7</td>\n",
       "      <td>3</td>\n",
       "      <td>0.1</td>\n",
       "      <td>NaN</td>\n",
       "      <td>NaN</td>\n",
       "      <td>79.0</td>\n",
       "      <td>72.0</td>\n",
       "      <td>76.0</td>\n",
       "      <td>0</td>\n",
       "      <td>NaN</td>\n",
       "      <td>NaN</td>\n",
       "      <td>NaN</td>\n",
       "      <td>NaN</td>\n",
       "      <td>NaN</td>\n",
       "      <td>NaN</td>\n",
       "      <td>NaN</td>\n",
       "      <td>NaN</td>\n",
       "      <td>NaN</td>\n",
       "      <td>NaN</td>\n",
       "      <td>NaN</td>\n",
       "      <td>NaN</td>\n",
       "    </tr>\n",
       "    <tr>\n",
       "      <th>3</th>\n",
       "      <td>10001</td>\n",
       "      <td>1942-7-4</td>\n",
       "      <td>2.54</td>\n",
       "      <td>NaN</td>\n",
       "      <td>26.666667</td>\n",
       "      <td>22.222222</td>\n",
       "      <td>24.444444</td>\n",
       "      <td>0</td>\n",
       "      <td>NaN</td>\n",
       "      <td>42</td>\n",
       "      <td>7</td>\n",
       "      <td>4</td>\n",
       "      <td>0.1</td>\n",
       "      <td>NaN</td>\n",
       "      <td>NaN</td>\n",
       "      <td>80.0</td>\n",
       "      <td>72.0</td>\n",
       "      <td>76.0</td>\n",
       "      <td>0</td>\n",
       "      <td>NaN</td>\n",
       "      <td>NaN</td>\n",
       "      <td>NaN</td>\n",
       "      <td>NaN</td>\n",
       "      <td>NaN</td>\n",
       "      <td>NaN</td>\n",
       "      <td>NaN</td>\n",
       "      <td>NaN</td>\n",
       "      <td>NaN</td>\n",
       "      <td>NaN</td>\n",
       "      <td>NaN</td>\n",
       "      <td>NaN</td>\n",
       "    </tr>\n",
       "    <tr>\n",
       "      <th>4</th>\n",
       "      <td>10001</td>\n",
       "      <td>1942-7-5</td>\n",
       "      <td>0</td>\n",
       "      <td>NaN</td>\n",
       "      <td>26.666667</td>\n",
       "      <td>21.666667</td>\n",
       "      <td>24.444444</td>\n",
       "      <td>0</td>\n",
       "      <td>NaN</td>\n",
       "      <td>42</td>\n",
       "      <td>7</td>\n",
       "      <td>5</td>\n",
       "      <td>0</td>\n",
       "      <td>NaN</td>\n",
       "      <td>NaN</td>\n",
       "      <td>80.0</td>\n",
       "      <td>71.0</td>\n",
       "      <td>76.0</td>\n",
       "      <td>0</td>\n",
       "      <td>NaN</td>\n",
       "      <td>NaN</td>\n",
       "      <td>NaN</td>\n",
       "      <td>NaN</td>\n",
       "      <td>NaN</td>\n",
       "      <td>NaN</td>\n",
       "      <td>NaN</td>\n",
       "      <td>NaN</td>\n",
       "      <td>NaN</td>\n",
       "      <td>NaN</td>\n",
       "      <td>NaN</td>\n",
       "      <td>NaN</td>\n",
       "    </tr>\n",
       "  </tbody>\n",
       "</table>\n",
       "</div>"
      ],
      "text/plain": [
       "     STA      Date Precip  WindGustSpd    MaxTemp  ...  SD3  RHX RHN RVG  WTE\n",
       "0  10001  1942-7-1  1.016          NaN  25.555556  ...  NaN  NaN NaN NaN  NaN\n",
       "1  10001  1942-7-2      0          NaN  28.888889  ...  NaN  NaN NaN NaN  NaN\n",
       "2  10001  1942-7-3   2.54          NaN  26.111111  ...  NaN  NaN NaN NaN  NaN\n",
       "3  10001  1942-7-4   2.54          NaN  26.666667  ...  NaN  NaN NaN NaN  NaN\n",
       "4  10001  1942-7-5      0          NaN  26.666667  ...  NaN  NaN NaN NaN  NaN\n",
       "\n",
       "[5 rows x 31 columns]"
      ]
     },
     "execution_count": 96,
     "metadata": {
      "tags": []
     },
     "output_type": "execute_result"
    }
   ],
   "source": [
    "weather_all = pd.read_csv('WeatherSum.csv')\n",
    "weather_all.head()"
   ]
  },
  {
   "cell_type": "code",
   "execution_count": 0,
   "metadata": {
    "id": "uhHLr_cxRDJP",
    "colab_type": "code",
    "outputId": "90841a6d-085e-4a0a-9f19-0844bde95b9f",
    "colab": {
     "base_uri": "https://localhost:8080/",
     "height": 50.0
    }
   },
   "outputs": [
    {
     "name": "stdout",
     "output_type": "stream",
     "text": [
      "31 columns\n",
      "119040 rows\n"
     ]
    }
   ],
   "source": [
    "print(len(weather_all.columns),\"columns\")\n",
    "print(weather_all.shape[0], \"rows\")"
   ]
  },
  {
   "cell_type": "markdown",
   "metadata": {
    "id": "juxQ_nccRko2",
    "colab_type": "text"
   },
   "source": [
    "### 2. \n",
    "Perform exploratory data analysis (EDA). Describe the EDA process and result with at least four data visualizations. Explain whether the data is sufficient to answer the question you developed based on EDA result. If it is not sufficient, how did you address the issue? (3 points)"
   ]
  },
  {
   "cell_type": "code",
   "execution_count": 0,
   "metadata": {
    "id": "v3z2eXFpSsjK",
    "colab_type": "code",
    "outputId": "c8518813-5592-45a2-a46a-8dbdbe637707",
    "colab": {
     "base_uri": "https://localhost:8080/",
     "height": 402.0
    }
   },
   "outputs": [
    {
     "data": {
      "text/html": [
       "<div>\n",
       "<style scoped>\n",
       "    .dataframe tbody tr th:only-of-type {\n",
       "        vertical-align: middle;\n",
       "    }\n",
       "\n",
       "    .dataframe tbody tr th {\n",
       "        vertical-align: top;\n",
       "    }\n",
       "\n",
       "    .dataframe thead th {\n",
       "        text-align: right;\n",
       "    }\n",
       "</style>\n",
       "<table border=\"1\" class=\"dataframe\">\n",
       "  <thead>\n",
       "    <tr style=\"text-align: right;\">\n",
       "      <th></th>\n",
       "      <th>MinTemp</th>\n",
       "      <th>MaxTemp</th>\n",
       "      <th>MeanTemp</th>\n",
       "      <th>Month</th>\n",
       "    </tr>\n",
       "  </thead>\n",
       "  <tbody>\n",
       "    <tr>\n",
       "      <th>0</th>\n",
       "      <td>22.222222</td>\n",
       "      <td>25.555556</td>\n",
       "      <td>23.888889</td>\n",
       "      <td>7</td>\n",
       "    </tr>\n",
       "    <tr>\n",
       "      <th>1</th>\n",
       "      <td>21.666667</td>\n",
       "      <td>28.888889</td>\n",
       "      <td>25.555556</td>\n",
       "      <td>7</td>\n",
       "    </tr>\n",
       "    <tr>\n",
       "      <th>2</th>\n",
       "      <td>22.222222</td>\n",
       "      <td>26.111111</td>\n",
       "      <td>24.444444</td>\n",
       "      <td>7</td>\n",
       "    </tr>\n",
       "    <tr>\n",
       "      <th>3</th>\n",
       "      <td>22.222222</td>\n",
       "      <td>26.666667</td>\n",
       "      <td>24.444444</td>\n",
       "      <td>7</td>\n",
       "    </tr>\n",
       "    <tr>\n",
       "      <th>4</th>\n",
       "      <td>21.666667</td>\n",
       "      <td>26.666667</td>\n",
       "      <td>24.444444</td>\n",
       "      <td>7</td>\n",
       "    </tr>\n",
       "    <tr>\n",
       "      <th>...</th>\n",
       "      <td>...</td>\n",
       "      <td>...</td>\n",
       "      <td>...</td>\n",
       "      <td>...</td>\n",
       "    </tr>\n",
       "    <tr>\n",
       "      <th>119035</th>\n",
       "      <td>18.333333</td>\n",
       "      <td>28.333333</td>\n",
       "      <td>23.333333</td>\n",
       "      <td>12</td>\n",
       "    </tr>\n",
       "    <tr>\n",
       "      <th>119036</th>\n",
       "      <td>18.333333</td>\n",
       "      <td>29.444444</td>\n",
       "      <td>23.888889</td>\n",
       "      <td>12</td>\n",
       "    </tr>\n",
       "    <tr>\n",
       "      <th>119037</th>\n",
       "      <td>18.333333</td>\n",
       "      <td>28.333333</td>\n",
       "      <td>23.333333</td>\n",
       "      <td>12</td>\n",
       "    </tr>\n",
       "    <tr>\n",
       "      <th>119038</th>\n",
       "      <td>18.333333</td>\n",
       "      <td>28.333333</td>\n",
       "      <td>23.333333</td>\n",
       "      <td>12</td>\n",
       "    </tr>\n",
       "    <tr>\n",
       "      <th>119039</th>\n",
       "      <td>17.222222</td>\n",
       "      <td>29.444444</td>\n",
       "      <td>23.333333</td>\n",
       "      <td>12</td>\n",
       "    </tr>\n",
       "  </tbody>\n",
       "</table>\n",
       "<p>119040 rows × 4 columns</p>\n",
       "</div>"
      ],
      "text/plain": [
       "          MinTemp    MaxTemp   MeanTemp  Month\n",
       "0       22.222222  25.555556  23.888889      7\n",
       "1       21.666667  28.888889  25.555556      7\n",
       "2       22.222222  26.111111  24.444444      7\n",
       "3       22.222222  26.666667  24.444444      7\n",
       "4       21.666667  26.666667  24.444444      7\n",
       "...           ...        ...        ...    ...\n",
       "119035  18.333333  28.333333  23.333333     12\n",
       "119036  18.333333  29.444444  23.888889     12\n",
       "119037  18.333333  28.333333  23.333333     12\n",
       "119038  18.333333  28.333333  23.333333     12\n",
       "119039  17.222222  29.444444  23.333333     12\n",
       "\n",
       "[119040 rows x 4 columns]"
      ]
     },
     "execution_count": 132,
     "metadata": {
      "tags": []
     },
     "output_type": "execute_result"
    }
   ],
   "source": [
    "# Filtering our dataset down to the relevant columns. \n",
    "# Including \"month\" so we have some context for different minimums and maximums\n",
    "\n",
    "temp = weather_all.filter(['MinTemp','MaxTemp', 'MeanTemp', 'MO'], axis=1)\n",
    "temp = temp.rename(columns={'MO': 'Month'})\n",
    "temp"
   ]
  },
  {
   "cell_type": "code",
   "execution_count": 0,
   "metadata": {
    "id": "D4TgSJ_jT5dF",
    "colab_type": "code",
    "outputId": "1d43db5d-c164-4c36-be15-b7a8ba9a69c9",
    "colab": {
     "base_uri": "https://localhost:8080/",
     "height": 284.0
    }
   },
   "outputs": [
    {
     "data": {
      "text/html": [
       "<div>\n",
       "<style scoped>\n",
       "    .dataframe tbody tr th:only-of-type {\n",
       "        vertical-align: middle;\n",
       "    }\n",
       "\n",
       "    .dataframe tbody tr th {\n",
       "        vertical-align: top;\n",
       "    }\n",
       "\n",
       "    .dataframe thead th {\n",
       "        text-align: right;\n",
       "    }\n",
       "</style>\n",
       "<table border=\"1\" class=\"dataframe\">\n",
       "  <thead>\n",
       "    <tr style=\"text-align: right;\">\n",
       "      <th></th>\n",
       "      <th>MinTemp</th>\n",
       "      <th>MaxTemp</th>\n",
       "      <th>MeanTemp</th>\n",
       "      <th>Month</th>\n",
       "    </tr>\n",
       "  </thead>\n",
       "  <tbody>\n",
       "    <tr>\n",
       "      <th>count</th>\n",
       "      <td>119040.000000</td>\n",
       "      <td>119040.000000</td>\n",
       "      <td>119040.000000</td>\n",
       "      <td>119040.000000</td>\n",
       "    </tr>\n",
       "    <tr>\n",
       "      <th>mean</th>\n",
       "      <td>17.789511</td>\n",
       "      <td>27.045111</td>\n",
       "      <td>22.411631</td>\n",
       "      <td>6.726016</td>\n",
       "    </tr>\n",
       "    <tr>\n",
       "      <th>std</th>\n",
       "      <td>8.334572</td>\n",
       "      <td>8.717817</td>\n",
       "      <td>8.297982</td>\n",
       "      <td>3.425561</td>\n",
       "    </tr>\n",
       "    <tr>\n",
       "      <th>min</th>\n",
       "      <td>-38.333333</td>\n",
       "      <td>-33.333333</td>\n",
       "      <td>-35.555556</td>\n",
       "      <td>1.000000</td>\n",
       "    </tr>\n",
       "    <tr>\n",
       "      <th>25%</th>\n",
       "      <td>15.000000</td>\n",
       "      <td>25.555556</td>\n",
       "      <td>20.555556</td>\n",
       "      <td>4.000000</td>\n",
       "    </tr>\n",
       "    <tr>\n",
       "      <th>50%</th>\n",
       "      <td>21.111111</td>\n",
       "      <td>29.444444</td>\n",
       "      <td>25.555556</td>\n",
       "      <td>7.000000</td>\n",
       "    </tr>\n",
       "    <tr>\n",
       "      <th>75%</th>\n",
       "      <td>23.333333</td>\n",
       "      <td>31.666667</td>\n",
       "      <td>27.222222</td>\n",
       "      <td>10.000000</td>\n",
       "    </tr>\n",
       "    <tr>\n",
       "      <th>max</th>\n",
       "      <td>34.444444</td>\n",
       "      <td>50.000000</td>\n",
       "      <td>40.000000</td>\n",
       "      <td>12.000000</td>\n",
       "    </tr>\n",
       "  </tbody>\n",
       "</table>\n",
       "</div>"
      ],
      "text/plain": [
       "             MinTemp        MaxTemp       MeanTemp          Month\n",
       "count  119040.000000  119040.000000  119040.000000  119040.000000\n",
       "mean       17.789511      27.045111      22.411631       6.726016\n",
       "std         8.334572       8.717817       8.297982       3.425561\n",
       "min       -38.333333     -33.333333     -35.555556       1.000000\n",
       "25%        15.000000      25.555556      20.555556       4.000000\n",
       "50%        21.111111      29.444444      25.555556       7.000000\n",
       "75%        23.333333      31.666667      27.222222      10.000000\n",
       "max        34.444444      50.000000      40.000000      12.000000"
      ]
     },
     "execution_count": 99,
     "metadata": {
      "tags": []
     },
     "output_type": "execute_result"
    }
   ],
   "source": [
    "# Since these temperature data ARE on the same scale, and Month is ordinal, I don't necessarily need to standardize them.\n",
    "# Let's look at some statistics\n",
    "\n",
    "temp.describe()"
   ]
  },
  {
   "cell_type": "markdown",
   "metadata": {
    "id": "h5Z8YFJdWji-",
    "colab_type": "text"
   },
   "source": [
    "The mean of \"month\" being 6.72 indicates that we have slightly more data from the second half of the year than we do from the first. \n",
    "\n",
    "We see that the temperature extremes range from -33 degrees Celsius to 50 degrees Celsius - a huge range that makes sense when you think about the range that can be found over a large landmass and across a 12-month year."
   ]
  },
  {
   "cell_type": "code",
   "execution_count": 0,
   "metadata": {
    "id": "pnzSeGxcX9yf",
    "colab_type": "code",
    "outputId": "4c68bf34-9fcd-4de3-9edc-19c2d0bcf18e",
    "colab": {
     "base_uri": "https://localhost:8080/",
     "height": 354.0
    }
   },
   "outputs": [
    {
     "name": "stderr",
     "output_type": "stream",
     "text": [
      "'c' argument looks like a single numeric RGB or RGBA sequence, which should be avoided as value-mapping will have precedence in case its length matches with 'x' & 'y'.  Please use a 2-D array with a single row if you really want to specify the same RGB or RGBA value for all points.\n"
     ]
    },
    {
     "data": {
      "text/plain": [
       "<matplotlib.axes._subplots.AxesSubplot at 0x7fd5faa35550>"
      ]
     },
     "execution_count": 100,
     "metadata": {
      "tags": []
     },
     "output_type": "execute_result"
    },
    {
     "data": {
      "image/png": "[encoded data removed]",
      "text/plain": [
       "<Figure size 432x288 with 1 Axes>"
      ]
     },
     "metadata": {
      "tags": []
     },
     "output_type": "display_data"
    }
   ],
   "source": [
    "# Let's see if Min and Max temperatures have the strong linear relationship we would assume they do.\n",
    "\n",
    "temp.plot.scatter('MinTemp', 'MaxTemp')"
   ]
  },
  {
   "cell_type": "markdown",
   "metadata": {
    "id": "DjU98DJ7dhoY",
    "colab_type": "text"
   },
   "source": [
    "This is more or less as expected, but the outliers protruding in two straight lines from the main body of the plot are interesting. Could it be possible that the minimum temperature on several days is 20 Celsius, but the MAXIMUM temperature is somewhere around -19? This makes no sense by definition, even if these two temperatures did occur at opposite times of the day as usual; these data points might have to be taken out via cleaning, and with over 100K values, I think this would leave plenty of data for an analysis. "
   ]
  },
  {
   "cell_type": "code",
   "execution_count": 0,
   "metadata": {
    "id": "Jf55HimtarwU",
    "colab_type": "code",
    "outputId": "dea74464-7283-4298-c35d-1f4f83f8b702",
    "colab": {
     "base_uri": "https://localhost:8080/",
     "height": 321.0
    }
   },
   "outputs": [
    {
     "data": {
      "text/plain": [
       "<matplotlib.axes._subplots.AxesSubplot at 0x7fd5fa979eb8>"
      ]
     },
     "execution_count": 101,
     "metadata": {
      "tags": []
     },
     "output_type": "execute_result"
    },
    {
     "data": {
      "image/png": "[encoded data removed]",
      "text/plain": [
       "<Figure size 432x288 with 1 Axes>"
      ]
     },
     "metadata": {
      "tags": []
     },
     "output_type": "display_data"
    }
   ],
   "source": [
    "# Overall, however, we see the distribution we expect to see (min, max, and thus mean temperatures\n",
    "# increasing in the spring and summer months and dipping again in fall and winter)\n",
    "\n",
    "temp.groupby('Month').mean().plot.bar()"
   ]
  },
  {
   "cell_type": "code",
   "execution_count": 0,
   "metadata": {
    "id": "GgLk2jkIjbXK",
    "colab_type": "code",
    "outputId": "feccca6b-ec32-418d-d83f-c031519496b9",
    "colab": {
     "base_uri": "https://localhost:8080/",
     "height": 307.0
    }
   },
   "outputs": [
    {
     "data": {
      "text/plain": [
       "<matplotlib.axes._subplots.AxesSubplot at 0x7fd5fa979160>"
      ]
     },
     "execution_count": 102,
     "metadata": {
      "tags": []
     },
     "output_type": "execute_result"
    },
    {
     "data": {
      "image/png": "[encoded data removed]",
      "text/plain": [
       "<Figure size 432x288 with 2 Axes>"
      ]
     },
     "metadata": {
      "tags": []
     },
     "output_type": "display_data"
    }
   ],
   "source": [
    "# We can also visualize these relationships with a heatmap.\n",
    "\n",
    "sns.set()\n",
    "sns.heatmap(temp.groupby('Month').mean(), annot=True)"
   ]
  },
  {
   "cell_type": "code",
   "execution_count": 0,
   "metadata": {
    "id": "iR_GEbtql2ai",
    "colab_type": "code",
    "outputId": "e4dc8b40-15db-45e6-a970-141d2ed874f4",
    "colab": {
     "base_uri": "https://localhost:8080/",
     "height": 338.0
    }
   },
   "outputs": [
    {
     "data": {
      "text/plain": [
       "<matplotlib.axes._subplots.AxesSubplot at 0x7fd5fa7d1400>"
      ]
     },
     "execution_count": 103,
     "metadata": {
      "tags": []
     },
     "output_type": "execute_result"
    },
    {
     "data": {
      "image/png": "[encoded data removed]",
      "text/plain": [
       "<Figure size 432x288 with 2 Axes>"
      ]
     },
     "metadata": {
      "tags": []
     },
     "output_type": "display_data"
    }
   ],
   "source": [
    "# What about the correlations between values? \n",
    "\n",
    "corr = temp.filter(['MinTemp', 'MaxTemp'], axis=1).corr()\n",
    "sns.heatmap(corr,             \n",
    "            xticklabels=corr.columns.values,            \n",
    "            yticklabels=corr.columns.values,\n",
    "            annot=True)"
   ]
  },
  {
   "cell_type": "markdown",
   "metadata": {
    "id": "2Djdao6rnfM7",
    "colab_type": "text"
   },
   "source": [
    "This is consistent with the relationships seen in the scatterplot: there is a .88 correlation between minimum and maximum temperature. \n",
    "\n",
    "\n",
    "---\n",
    "\n",
    "\n",
    "\n",
    "I believe that this data is more than sufficient to use with a linear regression that allows us to predict maximum daily temperature given minimum daily temperature, and vice versa. The relationship is clear and strong, and outliers are minimal. Those can be cleaned in the next step, and we will still have plenty of clear data left with which to run an analysis.\n",
    "\n",
    "\n",
    "\n",
    "---\n",
    "### 3. \n",
    "Describe any data cleaning or transformations that you perform and why they are motivated by your EDA? (2 point)\n",
    "\n",
    "\n"
   ]
  },
  {
   "cell_type": "code",
   "execution_count": 0,
   "metadata": {
    "id": "U_2X1gHqpo8W",
    "colab_type": "code",
    "outputId": "71289f64-5026-467f-a612-688e7173317d",
    "colab": {
     "base_uri": "https://localhost:8080/",
     "height": 34.0
    }
   },
   "outputs": [
    {
     "data": {
      "text/plain": [
       "False"
      ]
     },
     "execution_count": 104,
     "metadata": {
      "tags": []
     },
     "output_type": "execute_result"
    }
   ],
   "source": [
    "# Let's check to see if we have any NaN values in our dataset\n",
    "\n",
    "temp.isnull().values.any()"
   ]
  },
  {
   "cell_type": "code",
   "execution_count": 0,
   "metadata": {
    "id": "PQt7LvxZp8ri",
    "colab_type": "code",
    "outputId": "3fcbbcb1-69e7-460c-a032-ff99edd48bfe",
    "colab": {
     "base_uri": "https://localhost:8080/",
     "height": 402.0
    }
   },
   "outputs": [
    {
     "data": {
      "text/html": [
       "<div>\n",
       "<style scoped>\n",
       "    .dataframe tbody tr th:only-of-type {\n",
       "        vertical-align: middle;\n",
       "    }\n",
       "\n",
       "    .dataframe tbody tr th {\n",
       "        vertical-align: top;\n",
       "    }\n",
       "\n",
       "    .dataframe thead th {\n",
       "        text-align: right;\n",
       "    }\n",
       "</style>\n",
       "<table border=\"1\" class=\"dataframe\">\n",
       "  <thead>\n",
       "    <tr style=\"text-align: right;\">\n",
       "      <th></th>\n",
       "      <th>MinTemp</th>\n",
       "      <th>MaxTemp</th>\n",
       "      <th>MeanTemp</th>\n",
       "      <th>Month</th>\n",
       "    </tr>\n",
       "  </thead>\n",
       "  <tbody>\n",
       "    <tr>\n",
       "      <th>10116</th>\n",
       "      <td>-17.777778</td>\n",
       "      <td>-17.777778</td>\n",
       "      <td>-17.777778</td>\n",
       "      <td>10</td>\n",
       "    </tr>\n",
       "    <tr>\n",
       "      <th>10117</th>\n",
       "      <td>-17.777778</td>\n",
       "      <td>-17.777778</td>\n",
       "      <td>-17.777778</td>\n",
       "      <td>10</td>\n",
       "    </tr>\n",
       "    <tr>\n",
       "      <th>10118</th>\n",
       "      <td>-17.777778</td>\n",
       "      <td>-17.777778</td>\n",
       "      <td>-17.777778</td>\n",
       "      <td>10</td>\n",
       "    </tr>\n",
       "    <tr>\n",
       "      <th>10119</th>\n",
       "      <td>-17.777778</td>\n",
       "      <td>-17.777778</td>\n",
       "      <td>-17.777778</td>\n",
       "      <td>10</td>\n",
       "    </tr>\n",
       "    <tr>\n",
       "      <th>10120</th>\n",
       "      <td>-17.777778</td>\n",
       "      <td>-17.777778</td>\n",
       "      <td>-17.777778</td>\n",
       "      <td>10</td>\n",
       "    </tr>\n",
       "    <tr>\n",
       "      <th>...</th>\n",
       "      <td>...</td>\n",
       "      <td>...</td>\n",
       "      <td>...</td>\n",
       "      <td>...</td>\n",
       "    </tr>\n",
       "    <tr>\n",
       "      <th>111273</th>\n",
       "      <td>-17.777778</td>\n",
       "      <td>-17.777778</td>\n",
       "      <td>-17.777778</td>\n",
       "      <td>8</td>\n",
       "    </tr>\n",
       "    <tr>\n",
       "      <th>111278</th>\n",
       "      <td>-17.777778</td>\n",
       "      <td>-17.777778</td>\n",
       "      <td>-17.777778</td>\n",
       "      <td>8</td>\n",
       "    </tr>\n",
       "    <tr>\n",
       "      <th>111279</th>\n",
       "      <td>-17.777778</td>\n",
       "      <td>-17.777778</td>\n",
       "      <td>-17.777778</td>\n",
       "      <td>8</td>\n",
       "    </tr>\n",
       "    <tr>\n",
       "      <th>113916</th>\n",
       "      <td>-17.777778</td>\n",
       "      <td>29.444444</td>\n",
       "      <td>24.444444</td>\n",
       "      <td>6</td>\n",
       "    </tr>\n",
       "    <tr>\n",
       "      <th>117865</th>\n",
       "      <td>-17.777778</td>\n",
       "      <td>22.777778</td>\n",
       "      <td>-17.777778</td>\n",
       "      <td>7</td>\n",
       "    </tr>\n",
       "  </tbody>\n",
       "</table>\n",
       "<p>496 rows × 4 columns</p>\n",
       "</div>"
      ],
      "text/plain": [
       "          MinTemp    MaxTemp   MeanTemp  Month\n",
       "10116  -17.777778 -17.777778 -17.777778     10\n",
       "10117  -17.777778 -17.777778 -17.777778     10\n",
       "10118  -17.777778 -17.777778 -17.777778     10\n",
       "10119  -17.777778 -17.777778 -17.777778     10\n",
       "10120  -17.777778 -17.777778 -17.777778     10\n",
       "...           ...        ...        ...    ...\n",
       "111273 -17.777778 -17.777778 -17.777778      8\n",
       "111278 -17.777778 -17.777778 -17.777778      8\n",
       "111279 -17.777778 -17.777778 -17.777778      8\n",
       "113916 -17.777778  29.444444  24.444444      6\n",
       "117865 -17.777778  22.777778 -17.777778      7\n",
       "\n",
       "[496 rows x 4 columns]"
      ]
     },
     "execution_count": 105,
     "metadata": {
      "tags": []
     },
     "output_type": "execute_result"
    }
   ],
   "source": [
    "# Great! What about those values we saw earlier, in those strange lines in our scatter plot?\n",
    "# We can use SciPy to detect outliers.\n",
    "\n",
    "from scipy import stats\n",
    "temp[~(np.abs(stats.zscore(temp)) < 3).all(axis=1)]\n",
    "\n",
    "# It seems that the anomalous value is -17.7777. \n",
    "\n",
    "temp.loc[np.isclose(temp['MinTemp'],-17.7777777778)]"
   ]
  },
  {
   "cell_type": "code",
   "execution_count": 0,
   "metadata": {
    "id": "u7l7zYBvqrMu",
    "colab_type": "code",
    "outputId": "77869954-f361-4bf2-f92f-94a09291f408",
    "colab": {
     "base_uri": "https://localhost:8080/",
     "height": 354.0
    }
   },
   "outputs": [
    {
     "name": "stderr",
     "output_type": "stream",
     "text": [
      "'c' argument looks like a single numeric RGB or RGBA sequence, which should be avoided as value-mapping will have precedence in case its length matches with 'x' & 'y'.  Please use a 2-D array with a single row if you really want to specify the same RGB or RGBA value for all points.\n"
     ]
    },
    {
     "data": {
      "text/plain": [
       "<matplotlib.axes._subplots.AxesSubplot at 0x7fd5fa724780>"
      ]
     },
     "execution_count": 106,
     "metadata": {
      "tags": []
     },
     "output_type": "execute_result"
    },
    {
     "data": {
      "image/png": "[encoded data removed]",
      "text/plain": [
       "<Figure size 432x288 with 1 Axes>"
      ]
     },
     "metadata": {
      "tags": []
     },
     "output_type": "display_data"
    }
   ],
   "source": [
    "# That looks about right; the consistent -17.77778 values are a giveaway that these are the \n",
    "# outliers we are looking for. There are about 500 of these. \n",
    "\n",
    "# Let's reassign temp to exclude these.\n",
    "\n",
    "temp = temp.loc[~np.isclose(temp['MinTemp'],-17.7777777778)]\n",
    "temp = temp.loc[~np.isclose(temp['MaxTemp'],-17.7777777778)]\n",
    "temp.plot.scatter('MinTemp', 'MaxTemp')"
   ]
  },
  {
   "cell_type": "code",
   "execution_count": 0,
   "metadata": {
    "id": "F62h_RxrkTT9",
    "colab_type": "code",
    "outputId": "68c20aeb-50df-4ea7-bc4a-511461c46818",
    "colab": {
     "base_uri": "https://localhost:8080/",
     "height": 402.0
    }
   },
   "outputs": [
    {
     "data": {
      "text/html": [
       "<div>\n",
       "<style scoped>\n",
       "    .dataframe tbody tr th:only-of-type {\n",
       "        vertical-align: middle;\n",
       "    }\n",
       "\n",
       "    .dataframe tbody tr th {\n",
       "        vertical-align: top;\n",
       "    }\n",
       "\n",
       "    .dataframe thead th {\n",
       "        text-align: right;\n",
       "    }\n",
       "</style>\n",
       "<table border=\"1\" class=\"dataframe\">\n",
       "  <thead>\n",
       "    <tr style=\"text-align: right;\">\n",
       "      <th></th>\n",
       "      <th>MinTemp</th>\n",
       "      <th>MaxTemp</th>\n",
       "      <th>MeanTemp</th>\n",
       "      <th>Month</th>\n",
       "    </tr>\n",
       "  </thead>\n",
       "  <tbody>\n",
       "    <tr>\n",
       "      <th>0</th>\n",
       "      <td>22.222222</td>\n",
       "      <td>25.555556</td>\n",
       "      <td>23.888889</td>\n",
       "      <td>7</td>\n",
       "    </tr>\n",
       "    <tr>\n",
       "      <th>1</th>\n",
       "      <td>21.666667</td>\n",
       "      <td>28.888889</td>\n",
       "      <td>25.555556</td>\n",
       "      <td>7</td>\n",
       "    </tr>\n",
       "    <tr>\n",
       "      <th>2</th>\n",
       "      <td>22.222222</td>\n",
       "      <td>26.111111</td>\n",
       "      <td>24.444444</td>\n",
       "      <td>7</td>\n",
       "    </tr>\n",
       "    <tr>\n",
       "      <th>3</th>\n",
       "      <td>22.222222</td>\n",
       "      <td>26.666667</td>\n",
       "      <td>24.444444</td>\n",
       "      <td>7</td>\n",
       "    </tr>\n",
       "    <tr>\n",
       "      <th>4</th>\n",
       "      <td>21.666667</td>\n",
       "      <td>26.666667</td>\n",
       "      <td>24.444444</td>\n",
       "      <td>7</td>\n",
       "    </tr>\n",
       "    <tr>\n",
       "      <th>...</th>\n",
       "      <td>...</td>\n",
       "      <td>...</td>\n",
       "      <td>...</td>\n",
       "      <td>...</td>\n",
       "    </tr>\n",
       "    <tr>\n",
       "      <th>119035</th>\n",
       "      <td>18.333333</td>\n",
       "      <td>28.333333</td>\n",
       "      <td>23.333333</td>\n",
       "      <td>12</td>\n",
       "    </tr>\n",
       "    <tr>\n",
       "      <th>119036</th>\n",
       "      <td>18.333333</td>\n",
       "      <td>29.444444</td>\n",
       "      <td>23.888889</td>\n",
       "      <td>12</td>\n",
       "    </tr>\n",
       "    <tr>\n",
       "      <th>119037</th>\n",
       "      <td>18.333333</td>\n",
       "      <td>28.333333</td>\n",
       "      <td>23.333333</td>\n",
       "      <td>12</td>\n",
       "    </tr>\n",
       "    <tr>\n",
       "      <th>119038</th>\n",
       "      <td>18.333333</td>\n",
       "      <td>28.333333</td>\n",
       "      <td>23.333333</td>\n",
       "      <td>12</td>\n",
       "    </tr>\n",
       "    <tr>\n",
       "      <th>119039</th>\n",
       "      <td>17.222222</td>\n",
       "      <td>29.444444</td>\n",
       "      <td>23.333333</td>\n",
       "      <td>12</td>\n",
       "    </tr>\n",
       "  </tbody>\n",
       "</table>\n",
       "<p>118499 rows × 4 columns</p>\n",
       "</div>"
      ],
      "text/plain": [
       "          MinTemp    MaxTemp   MeanTemp  Month\n",
       "0       22.222222  25.555556  23.888889      7\n",
       "1       21.666667  28.888889  25.555556      7\n",
       "2       22.222222  26.111111  24.444444      7\n",
       "3       22.222222  26.666667  24.444444      7\n",
       "4       21.666667  26.666667  24.444444      7\n",
       "...           ...        ...        ...    ...\n",
       "119035  18.333333  28.333333  23.333333     12\n",
       "119036  18.333333  29.444444  23.888889     12\n",
       "119037  18.333333  28.333333  23.333333     12\n",
       "119038  18.333333  28.333333  23.333333     12\n",
       "119039  17.222222  29.444444  23.333333     12\n",
       "\n",
       "[118499 rows x 4 columns]"
      ]
     },
     "execution_count": 107,
     "metadata": {
      "tags": []
     },
     "output_type": "execute_result"
    }
   ],
   "source": [
    "temp"
   ]
  },
  {
   "cell_type": "markdown",
   "metadata": {
    "id": "-VKjMAlNq-eu",
    "colab_type": "text"
   },
   "source": [
    "Much better!\n",
    "\n",
    "As you can see, I detected outliers visually using a scatterplot, and then used a location function to remove the strange datapoints that were all located at -17.7778 (who knows why this number was seen so frequently - was it a broken instrument?) \n",
    "\n",
    "\n",
    "---\n",
    "\n",
    "### 4. \n",
    "Apply relevant inference or predication methods such as linear regression or K-nearest neighborhood (KNN) to analyze your processed data, and validate the analysis results using cross-validation. Explain the training process, and the loss functions used in the analysis. Using examples (i.e. the values of the loss functions) to explain how the minimal value(s) of the loss function is/are found. (7 points)"
   ]
  },
  {
   "cell_type": "code",
   "execution_count": 0,
   "metadata": {
    "id": "4qP1aaezrnPP",
    "colab_type": "code",
    "colab": {}
   },
   "outputs": [],
   "source": [
    "# Since my dataset is comprised of continuous quantitative data, I'll use a linear regression analysis\n",
    "# to predict maximum daily values from minimum. \n",
    "\n",
    "# Let's use SciKit Learn's linear regression model for this task.\n",
    "from sklearn import linear_model\n",
    "from sklearn.model_selection import train_test_split\n",
    "from sklearn.metrics import mean_squared_error, r2_score\n",
    "\n",
    "# First we need to create our \"source\" - what we will use to predict\n",
    "# the \"target\" values, or maximum daily temperatures. With these we \n",
    "# can train our model.\n",
    "temp = temp.reset_index()\n",
    "source = temp.filter(['MinTemp'])\n",
    "target = temp.filter(['MaxTemp'])"
   ]
  },
  {
   "cell_type": "markdown",
   "metadata": {
    "id": "RQmNTbUbuNyE",
    "colab_type": "text"
   },
   "source": [
    "Now we can divide our source and our target into testing and training sets. For this example we'll use a 50/50 split."
   ]
  },
  {
   "cell_type": "code",
   "execution_count": 0,
   "metadata": {
    "id": "QQhxwa9XwQ-j",
    "colab_type": "code",
    "outputId": "81aff846-f08b-4064-d648-3e94c676240c",
    "colab": {
     "base_uri": "https://localhost:8080/",
     "height": 50.0
    }
   },
   "outputs": [
    {
     "name": "stdout",
     "output_type": "stream",
     "text": [
      "(94799, 1) (94799, 1)\n",
      "(23700, 1) (23700, 1)\n"
     ]
    }
   ],
   "source": [
    "# Defining our train/test split\n",
    "\n",
    "X_train, X_test, y_train, y_test = train_test_split(source, target, test_size=0.2)\n",
    "print(X_train.shape, y_train.shape)\n",
    "print(X_test.shape, y_test.shape)"
   ]
  },
  {
   "cell_type": "markdown",
   "metadata": {
    "id": "PpyY47u5uQDi",
    "colab_type": "text"
   },
   "source": [
    "Now we can create a linear model and fit this data to it."
   ]
  },
  {
   "cell_type": "code",
   "execution_count": 0,
   "metadata": {
    "id": "di5zkePDxach",
    "colab_type": "code",
    "colab": {}
   },
   "outputs": [],
   "source": [
    "# Finally, we can train and test our model.\n",
    "lm = linear_model.LinearRegression()\n",
    "# Train the model using the training sets\n",
    "model = lm.fit(X_train, y_train)\n",
    "# And predict!\n",
    "predictions = lm.predict(X_test)"
   ]
  },
  {
   "cell_type": "code",
   "execution_count": 0,
   "metadata": {
    "id": "XMsMcrHnuSHD",
    "colab_type": "code",
    "outputId": "40dd6a80-196c-4cd4-cd04-710cea6e3af6",
    "colab": {
     "base_uri": "https://localhost:8080/",
     "height": 101.0
    }
   },
   "outputs": [
    {
     "data": {
      "text/plain": [
       "array([[32.07895175],\n",
       "       [19.12474739],\n",
       "       [23.11065643],\n",
       "       [32.57719039],\n",
       "       [28.59128135]])"
      ]
     },
     "execution_count": 111,
     "metadata": {
      "tags": []
     },
     "output_type": "execute_result"
    }
   ],
   "source": [
    "predictions[0:5]"
   ]
  },
  {
   "cell_type": "code",
   "execution_count": 0,
   "metadata": {
    "id": "8yJkjw3pumjC",
    "colab_type": "code",
    "outputId": "0e1a4c37-86fb-4df3-ee12-4573fcdc1d10",
    "colab": {
     "base_uri": "https://localhost:8080/",
     "height": 34.0
    }
   },
   "outputs": [
    {
     "name": "stdout",
     "output_type": "stream",
     "text": [
      "Coefficient: [[0.89682953]]\n"
     ]
    }
   ],
   "source": [
    "# This returns the R-value, a measure of how much variance of the data is explained by our model.\n",
    "print('Coefficient:', model.coef_)"
   ]
  },
  {
   "cell_type": "markdown",
   "metadata": {
    "id": "fwOhnWoI3_wb",
    "colab_type": "text"
   },
   "source": [
    "That's not bad at all! A correlation of .89 is considered to be quite strong.\n"
   ]
  },
  {
   "cell_type": "code",
   "execution_count": 0,
   "metadata": {
    "id": "ie76wlq3x9qP",
    "colab_type": "code",
    "outputId": "5ddb41c1-4496-4830-8c12-477e7ee100ff",
    "colab": {
     "base_uri": "https://localhost:8080/",
     "height": 34.0
    }
   },
   "outputs": [
    {
     "name": "stdout",
     "output_type": "stream",
     "text": [
      "Mean squared error: 16.22\n"
     ]
    }
   ],
   "source": [
    "# This calculates the mean squared error, the simplest measure of measuring loss.\n",
    "print(\"Mean squared error: %.2f\"\n",
    "      % mean_squared_error(y_test, predictions))"
   ]
  },
  {
   "cell_type": "markdown",
   "metadata": {
    "id": "cSXcp8FS4EDr",
    "colab_type": "text"
   },
   "source": [
    "I chose to use the simple method of mean squared error to calculate loss; while it is simple, it's still "
   ]
  },
  {
   "cell_type": "code",
   "execution_count": 0,
   "metadata": {
    "id": "OjGuQ4AZy9wz",
    "colab_type": "code",
    "outputId": "5ada99d4-e1a0-4d06-f9f2-923265e9bfc5",
    "colab": {
     "base_uri": "https://localhost:8080/",
     "height": 34.0
    }
   },
   "outputs": [
    {
     "name": "stdout",
     "output_type": "stream",
     "text": [
      "Variance score: 0.76\n"
     ]
    }
   ],
   "source": [
    "# Explained variance score: 1 is perfect prediction\n",
    "print('Variance score: %.2f' % r2_score(y_test, predictions))"
   ]
  },
  {
   "cell_type": "code",
   "execution_count": 0,
   "metadata": {
    "id": "mJyXzBl1zd0X",
    "colab_type": "code",
    "outputId": "79f6036f-64bf-45cb-c2ad-a1ce0355f6c9",
    "colab": {
     "base_uri": "https://localhost:8080/",
     "height": 284.0
    }
   },
   "outputs": [
    {
     "data": {
      "image/png": "[encoded data removed]",
      "text/plain": [
       "<Figure size 432x288 with 1 Axes>"
      ]
     },
     "metadata": {
      "tags": []
     },
     "output_type": "display_data"
    }
   ],
   "source": [
    "# Plotting the results of my predictions.\n",
    "\n",
    "plt.scatter(X_test, y_test,  color='gold')\n",
    "plt.plot(X_test, predictions, color='green', linewidth=3)\n",
    "\n",
    "plt.xticks((np.arange(-40, 40, 5)))\n",
    "plt.yticks((np.arange(-25, 55, 5)))\n",
    "\n",
    "plt.show()"
   ]
  },
  {
   "cell_type": "code",
   "execution_count": 0,
   "metadata": {
    "id": "NhLTt2pch1OG",
    "colab_type": "code",
    "outputId": "ae1032bf-0f52-477c-8235-054393252544",
    "colab": {
     "base_uri": "https://localhost:8080/",
     "height": 34.0
    }
   },
   "outputs": [
    {
     "name": "stdout",
     "output_type": "stream",
     "text": [
      "Score: 0.7573275276653522\n"
     ]
    }
   ],
   "source": [
    "print(\"Score:\", model.score(X_test, y_test))"
   ]
  },
  {
   "cell_type": "code",
   "execution_count": 0,
   "metadata": {
    "id": "BG0sHAYO-9Dp",
    "colab_type": "code",
    "outputId": "ee9cf261-39e9-4674-dfae-65c66c5ec334",
    "colab": {
     "base_uri": "https://localhost:8080/",
     "height": 317.0
    }
   },
   "outputs": [
    {
     "data": {
      "image/png": "[encoded data removed]",
      "text/plain": [
       "<Figure size 432x288 with 1 Axes>"
      ]
     },
     "metadata": {
      "tags": []
     },
     "output_type": "display_data"
    }
   ],
   "source": [
    "target_test = target[:23700]\n",
    "\n",
    "resid = target_test - predictions\n",
    "resid_prop = resid / target_test\n",
    "plt.scatter(np.arange(len(resid_prop)), resid_prop, s=15)\n",
    "plt.axhline(0, c='green')\n",
    "plt.title('Residual proportions (residual/Max daily temperature)')\n",
    "plt.xlabel('Index of row in data')\n",
    "plt.ylabel('Error proportion');"
   ]
  },
  {
   "cell_type": "markdown",
   "metadata": {
    "id": "AYg4JpgqhIks",
    "colab_type": "text"
   },
   "source": [
    "This seems to be a pretty good model, but let's account for any potential lack of randomness (for example, if our dataset and therefore our train/test split is not randomly distributed) with cross-validation. I'll use k-folds cross validation because of the very large size of this dataset."
   ]
  },
  {
   "cell_type": "code",
   "execution_count": 0,
   "metadata": {
    "id": "jwsOusEEiJcR",
    "colab_type": "code",
    "outputId": "f4c9f55c-c873-4738-d2fc-192a3f78f911",
    "colab": {
     "base_uri": "https://localhost:8080/",
     "height": 118.0
    }
   },
   "outputs": [
    {
     "name": "stdout",
     "output_type": "stream",
     "text": [
      "TRAIN: [ 19750  19751  19752 ... 118496 118497 118498] TEST: [    0     1     2 ... 19747 19748 19749]\n",
      "TRAIN: [     0      1      2 ... 118496 118497 118498] TEST: [19750 19751 19752 ... 39497 39498 39499]\n",
      "TRAIN: [     0      1      2 ... 118496 118497 118498] TEST: [39500 39501 39502 ... 59247 59248 59249]\n",
      "TRAIN: [     0      1      2 ... 118496 118497 118498] TEST: [59250 59251 59252 ... 78997 78998 78999]\n",
      "TRAIN: [     0      1      2 ... 118496 118497 118498] TEST: [79000 79001 79002 ... 98747 98748 98749]\n",
      "TRAIN: [    0     1     2 ... 98747 98748 98749] TEST: [ 98750  98751  98752 ... 118496 118497 118498]\n"
     ]
    }
   ],
   "source": [
    "from sklearn.model_selection import KFold # import KFold\n",
    "\n",
    "kf = KFold(n_splits=6) # Define the split - into 2 folds \n",
    "kf.get_n_splits(source) # returns the number of splitting iterations in the cross-validator\n",
    " \n",
    "KFold(n_splits=6, random_state=None, shuffle=False)\n",
    "\n",
    "for train_index, test_index in kf.split(source.index):\n",
    "  print('TRAIN:', train_index, 'TEST:', test_index)\n",
    "  X_train, X_test = source[train_index[0]:train_index[-1]], source[test_index[0]:test_index[-1]]\n",
    "  y_train, y_test = target[train_index[0]:train_index[-1]], target[test_index[0]:test_index[-1]]"
   ]
  },
  {
   "cell_type": "code",
   "execution_count": 0,
   "metadata": {
    "id": "E8pIiaZhpAep",
    "colab_type": "code",
    "outputId": "1ba51848-65d8-4915-f835-e69b2878bb33",
    "colab": {
     "base_uri": "https://localhost:8080/",
     "height": 34.0
    }
   },
   "outputs": [
    {
     "name": "stdout",
     "output_type": "stream",
     "text": [
      "Cross-validated scores: [-0.19228693  0.31670301  0.75150735  0.0877867   0.74139534 -0.11795704]\n"
     ]
    }
   ],
   "source": [
    "# Necessary imports: \n",
    "\n",
    "from sklearn.model_selection import cross_val_score, cross_val_predict\n",
    "from sklearn import metrics\n",
    "\n",
    "# Perform 6-fold cross validation\n",
    "scores = cross_val_score(model, source, target, cv=6)\n",
    "print('Cross-validated scores:', scores)"
   ]
  },
  {
   "cell_type": "markdown",
   "metadata": {
    "id": "GEV_7mmhqJE5",
    "colab_type": "text"
   },
   "source": [
    "We can see above that cross-validation allowed us to have a score of .75, which is actually WORSE than our previous 80/20 split! It seems that we originally created the best model we possibly could."
   ]
  },
  {
   "cell_type": "code",
   "execution_count": 0,
   "metadata": {
    "id": "O-nVwBnkp4Q8",
    "colab_type": "code",
    "outputId": "94c02430-428f-4cf2-e1d3-87d444d20b29",
    "colab": {
     "base_uri": "https://localhost:8080/",
     "height": 301.0
    }
   },
   "outputs": [
    {
     "data": {
      "text/plain": [
       "<matplotlib.collections.PathCollection at 0x7fd5f956e320>"
      ]
     },
     "execution_count": 120,
     "metadata": {
      "tags": []
     },
     "output_type": "execute_result"
    },
    {
     "data": {
      "image/png": "[encoded data removed]",
      "text/plain": [
       "<Figure size 432x288 with 1 Axes>"
      ]
     },
     "metadata": {
      "tags": []
     },
     "output_type": "display_data"
    }
   ],
   "source": [
    "# Graphing the cross-validated data.\n",
    "\n",
    "predictions = cross_val_predict(model, source, target, cv=6)\n",
    "plt.scatter(target, predictions)"
   ]
  },
  {
   "cell_type": "markdown",
   "metadata": {
    "id": "zY3mYVaLqYE-",
    "colab_type": "text"
   },
   "source": [
    "We can now return to our original model and find the slope of it."
   ]
  },
  {
   "cell_type": "code",
   "execution_count": 0,
   "metadata": {
    "id": "a6lAg-xsOF5E",
    "colab_type": "code",
    "outputId": "a26d9309-0817-477b-ceb0-b8521cbe3c97",
    "colab": {
     "base_uri": "https://localhost:8080/",
     "height": 50.0
    }
   },
   "outputs": [
    {
     "data": {
      "text/plain": [
       "array([[-2.29951367],\n",
       "       [11.15292933]])"
      ]
     },
     "execution_count": 121,
     "metadata": {
      "tags": []
     },
     "output_type": "execute_result"
    }
   ],
   "source": [
    "# We can calculate the slope of our model using a simple rise/run calculation.\n",
    "# Unfortunately the sklearn LinearRegression object doesn't have this method!\n",
    "\n",
    "find_slope = make_array(-15, 0)\n",
    "find_slope = find_slope.reshape(-1, 1)\n",
    "intercepts = model.predict(find_slope)\n",
    "intercepts"
   ]
  },
  {
   "cell_type": "code",
   "execution_count": 0,
   "metadata": {
    "id": "erf3aSKLPx0Y",
    "colab_type": "code",
    "outputId": "506d72ef-10c9-435a-d12a-d87cd5f2a052",
    "colab": {
     "base_uri": "https://localhost:8080/",
     "height": 34.0
    }
   },
   "outputs": [
    {
     "name": "stdout",
     "output_type": "stream",
     "text": [
      "The slope of our regression line is [0.9]\n"
     ]
    }
   ],
   "source": [
    "regression_slope = (np.abs(intercepts[0]) + np.abs(intercepts[1]))/(15)\n",
    "print(\"The slope of our regression line is\",np.round(regression_slope, 2))"
   ]
  },
  {
   "cell_type": "code",
   "execution_count": 0,
   "metadata": {
    "id": "NuSEmP5m3DXb",
    "colab_type": "code",
    "colab": {}
   },
   "outputs": [],
   "source": [
    "# We can use an example in our textbook to see whether the slope of our regression line is within the 95% confidence\n",
    "# interval of bootstrapped slopes.\n",
    "\n",
    "# Let's import some functions first.\n",
    "\n",
    "def correlation(t, label_x, label_y):\n",
    "    return np.mean(stats.zscore(t.column(label_x))*stats.zscore(t.column(label_y)))\n",
    "\n",
    "def slope(t, label_x, label_y):\n",
    "    r = correlation(t, label_x, label_y)\n",
    "    return r*np.std(t.column(label_y))/np.std(t.column(label_x))\n",
    "\n",
    "def intercept(t, label_x, label_y):\n",
    "    return np.mean(t.column(label_y)) - slope(t, label_x, label_y)*np.mean(t.column(label_x))\n",
    "  "
   ]
  },
  {
   "cell_type": "code",
   "execution_count": 0,
   "metadata": {
    "id": "NQKNymfyTLWu",
    "colab_type": "code",
    "outputId": "858ea9c0-1fb4-46ec-d19a-bbeed0193184",
    "colab": {
     "base_uri": "https://localhost:8080/",
     "height": 354.0
    }
   },
   "outputs": [
    {
     "name": "stdout",
     "output_type": "stream",
     "text": [
      "Slope of regression line: [0.89682953]\n",
      "Approximate 95%-confidence interval for the true slope:\n",
      "0.8830234380624677 0.908025746224484\n"
     ]
    },
    {
     "data": {
      "image/png": "[encoded data removed]",
      "text/plain": [
       "<Figure size 432x288 with 1 Axes>"
      ]
     },
     "metadata": {
      "tags": []
     },
     "output_type": "display_data"
    }
   ],
   "source": [
    "# Now we can bootstrap our slopes using DataScience functions. \n",
    "\n",
    "slopes = make_array()\n",
    "temp_ds = Table.from_df(temp) # Switching from pandas to DataScience\n",
    "\n",
    "\n",
    "\n",
    "for i in np.arange(5000):\n",
    "    bootstrap_sample = temp_ds.sample(10000)\n",
    "    bootstrap_slope = slope(bootstrap_sample, 'MinTemp', 'MaxTemp')\n",
    "    slopes = np.append(slopes, bootstrap_slope)\n",
    "Table().with_column('Bootstrap Slopes', slopes).hist(bins=20)\n",
    "\n",
    "# Defining our confidence interval upper and lower bounds\n",
    "left = percentile(2.5, slopes)\n",
    "right = percentile(97.5, slopes)\n",
    "\n",
    "\n",
    "plt.plot(make_array(left, right), make_array(0, 0), color='yellow', lw=8);\n",
    "plt.plot(regression_slope, 0, marker='o', markersize=15, color=\"red\")\n",
    "print('Slope of regression line:', regression_slope)\n",
    "print('Approximate 95%-confidence interval for the true slope:')\n",
    "print(left, right)"
   ]
  },
  {
   "cell_type": "markdown",
   "metadata": {
    "id": "mEljZvGiumNw",
    "colab_type": "text"
   },
   "source": [
    "Our regression slope is well inside the distribution of bootstrapped slopes, and so it seems fairly close to a possible true slope! Overall, this seems like a solid linear model and a fairly predictive one.\n",
    "\n",
    "### MSE is 16.22\n",
    "### Variance is .76"
   ]
  },
  {
   "cell_type": "markdown",
   "metadata": {
    "id": "9rgbRfxztBQd",
    "colab_type": "text"
   },
   "source": [
    "This is a good model, but we can also calculate the minimum squared error:"
   ]
  },
  {
   "cell_type": "code",
   "execution_count": 0,
   "metadata": {
    "id": "0U57juz2tGka",
    "colab_type": "code",
    "outputId": "7329584e-c2b0-4efe-a57e-a99e375f4b8f",
    "colab": {
     "base_uri": "https://localhost:8080/",
     "height": 50.0
    }
   },
   "outputs": [
    {
     "data": {
      "text/plain": [
       "MaxTemp    69.220476\n",
       "dtype: float64"
      ]
     },
     "execution_count": 125,
     "metadata": {
      "tags": []
     },
     "output_type": "execute_result"
    }
   ],
   "source": [
    "# Creating an MSE loss function:\n",
    "def mse_loss(theta, y_vals):\n",
    "    return np.mean((y_vals - theta) ** 2)\n",
    "\n",
    "mse_loss(26, target) # Doing a sample call of the function"
   ]
  },
  {
   "cell_type": "code",
   "execution_count": 0,
   "metadata": {
    "id": "owQApUATtzSz",
    "colab_type": "code",
    "outputId": "53f2934e-e172-4fc7-b855-26e230a9b471",
    "colab": {
     "base_uri": "https://localhost:8080/",
     "height": 301.0
    }
   },
   "outputs": [
    {
     "data": {
      "image/png": "[encoded data removed]",
      "text/plain": [
       "<Figure size 432x288 with 1 Axes>"
      ]
     },
     "metadata": {
      "tags": []
     },
     "output_type": "display_data"
    }
   ],
   "source": [
    "sns.distplot(target, bins=np.arange(40), rug=True)\n",
    "plt.xlim(0, 40)\n",
    "plt.xlabel('Maximum Temperature')\n",
    "plt.ylabel('Proportion per Percent');\n",
    "\n",
    "# It seems from this plot that theta should be around 30-31, but let's calculate it."
   ]
  },
  {
   "cell_type": "code",
   "execution_count": 0,
   "metadata": {
    "id": "cspj6ADXvV0n",
    "colab_type": "code",
    "outputId": "efda1b0d-a997-4922-f4b7-f8dc0540ac33",
    "colab": {
     "base_uri": "https://localhost:8080/",
     "height": 320.0
    }
   },
   "outputs": [
    {
     "data": {
      "image/png": "[encoded data removed]",
      "text/plain": [
       "<Figure size 432x288 with 1 Axes>"
      ]
     },
     "metadata": {
      "tags": []
     },
     "output_type": "display_data"
    }
   ],
   "source": [
    "thetas = np.arange(22, 32.5, 0.05)\n",
    "losses = [mse_loss(theta, target) for theta in thetas]\n",
    "\n",
    "plt.scatter(thetas, losses)\n",
    "plt.title(r'Loss vs. $ \\theta $ for max temps')\n",
    "plt.xlabel(r'$ \\theta $ Values')\n",
    "plt.ylabel('Loss');"
   ]
  },
  {
   "cell_type": "markdown",
   "metadata": {
    "id": "SX-Qcu-wwMIi",
    "colab_type": "text"
   },
   "source": [
    "It seems that the best theta value would be a little bit above 27. To get this value specifically (and without calculus), let's just take the average of the target values:"
   ]
  },
  {
   "cell_type": "code",
   "execution_count": 0,
   "metadata": {
    "id": "c8ASPQisweCw",
    "colab_type": "code",
    "outputId": "81c59cac-2950-4b3b-a930-df82af38237c",
    "colab": {
     "base_uri": "https://localhost:8080/",
     "height": 34.0
    }
   },
   "outputs": [
    {
     "name": "stdout",
     "output_type": "stream",
     "text": [
      "The best value of theta, that minimizes loss, is 27.24\n"
     ]
    }
   ],
   "source": [
    "theta = np.mean(target)\n",
    "print(\"The best value of theta, that minimizes loss, is\", np.round(theta[0],2))"
   ]
  },
  {
   "cell_type": "code",
   "execution_count": 0,
   "metadata": {
    "id": "qH7q4Ov1xAvF",
    "colab_type": "code",
    "outputId": "6531a341-6916-4616-832f-6b49d93ccbe4",
    "colab": {
     "base_uri": "https://localhost:8080/",
     "height": 317.0
    }
   },
   "outputs": [
    {
     "data": {
      "image/png": "[encoded data removed]",
      "text/plain": [
       "<Figure size 432x288 with 1 Axes>"
      ]
     },
     "metadata": {
      "tags": []
     },
     "output_type": "display_data"
    }
   ],
   "source": [
    "# Plot with our value of theta - it isn't at the peak of the distribution, as originally guessed.\n",
    "\n",
    "sns.distplot(target, bins=np.arange(40), rug=True)\n",
    "\n",
    "plt.axvline(x=27.24, c='darkblue', linestyle='--', label=r'$ \\hat \\theta = 27.24$')\n",
    "plt.legend()\n",
    "\n",
    "plt.xlim(0, 40)\n",
    "plt.title('Distribution of Maximum Temperature')\n",
    "plt.xlabel('Temperature')\n",
    "plt.ylabel('Proportion per Percent');"
   ]
  },
  {
   "cell_type": "markdown",
   "metadata": {
    "id": "G3CrpBgm0Jb0",
    "colab_type": "text"
   },
   "source": [
    "### 5. \n",
    "I think that, overall, I took a pretty solid approach to this problem, using cross-validation and a good test/train split to make our linear model the best it can be.\n",
    "\n",
    "The MSE (mean square of errors) loss function, and hence the minimization of loss, is the simplest possible model for calculating and minimizing loss."
   ]
  },
  {
   "cell_type": "markdown",
   "metadata": {
    "id": "LvO0--Zmxd-f",
    "colab_type": "text"
   },
   "source": [
    "## Bonus visualization:\n",
    "I thought it was pretty."
   ]
  },
  {
   "cell_type": "code",
   "execution_count": 0,
   "metadata": {
    "id": "O_KFnrzfxg5n",
    "colab_type": "code",
    "outputId": "e6888e7e-34b2-4b6e-ff24-a22eb8d37905",
    "colab": {
     "base_uri": "https://localhost:8080/",
     "height": 611.0
    }
   },
   "outputs": [
    {
     "data": {
      "text/plain": [
       "<seaborn.axisgrid.FacetGrid at 0x7fd5f6aa2eb8>"
      ]
     },
     "execution_count": 130,
     "metadata": {
      "tags": []
     },
     "output_type": "execute_result"
    },
    {
     "data": {
      "image/png": "[encoded data removed]",
      "text/plain": [
       "<Figure size 756x604.8 with 12 Axes>"
      ]
     },
     "metadata": {
      "tags": []
     },
     "output_type": "display_data"
    }
   ],
   "source": [
    "sns.set(style=\"white\", rc={\"axes.facecolor\": (0, 0, 0, 0)})\n",
    "\n",
    "# Initialize the FacetGrid object\n",
    "pal = sns.cubehelix_palette(12, rot=-.25, light=.7)\n",
    "g = sns.FacetGrid(temp[['Month', 'MinTemp']], row=\"Month\", hue=\"Month\", aspect=15, height=.7, palette=pal)\n",
    "\n",
    "# Draw the densities in a few steps\n",
    "g.map(sns.kdeplot, \"MinTemp\", clip_on=False, shade=True, alpha=1, lw=1.5, bw=.2)\n",
    "#g.map(sns.kdeplot, \"MinTemp\", clip_on=False, color=\"w\", lw=2, bw=.2)\n",
    "g.map(plt.axhline, y=0, lw=2, clip_on=False)\n",
    "\n",
    "\n",
    "# Define and use a simple function to label the plot in axes coordinates\n",
    "def label(x, color, label):\n",
    "    ax = plt.gca()\n",
    "    ax.text(0, .2, label, fontweight=\"bold\", color=color,\n",
    "            ha=\"left\", va=\"center\", transform=ax.transAxes)\n",
    "\n",
    "\n",
    "g.map(label, \"MinTemp\")\n",
    "\n",
    "# Set the subplots to overlap\n",
    "g.fig.subplots_adjust(hspace=-.25)\n",
    "\n",
    "# Remove axes details that don't play well with overlap\n",
    "g.set_titles(\"\")\n",
    "g.set(yticks=[])\n",
    "g.despine(bottom=True, left=True)"
   ]
  }
 ],
 "metadata": {
  "colab": {
   "name": "MaiaPetee_Assignment8.ipynb",
   "provenance": [],
   "toc_visible": true
  },
  "kernelspec": {
   "name": "python3",
   "display_name": "Python 3"
  }
 },
 "nbformat": 4,
 "nbformat_minor": 0
}
